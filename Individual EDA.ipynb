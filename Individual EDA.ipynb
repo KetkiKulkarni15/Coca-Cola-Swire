{
 "cells": [
  {
   "cell_type": "markdown",
   "id": "4a347ce4",
   "metadata": {},
   "source": [
    "# Table of Contents\n",
    "1. [Introduction](#Introduction)\n",
    "\n",
    "2. [Loading the libraries](#Loading-the-libraries)\n",
    "\n",
    "2. [Loading the dataset](#Loading-the-dataset)\n",
    "\n",
    "3. [Dataset Overview](#Dataset-Overview)\n",
    "\n",
    "4. [Handling Missing Data](#Handling-Missing-Data)\n",
    "\n",
    "5. [Feature Engineering](#Feature-Engineering)\n",
    "\n",
    "6. [Data Visualization](#Data-Visualization)\n",
    "\n",
    "7. [Conclusion](#Conclusion-and-Next-Steps)"
   ]
  },
  {
   "cell_type": "markdown",
   "id": "03a31930",
   "metadata": {},
   "source": [
    "# Introduction"
   ]
  },
  {
   "cell_type": "markdown",
   "id": "c3832d34",
   "metadata": {},
   "source": [
    "### Business Problem Statement\n",
    "The dataset consists of maintenance records from Coca-Cola Swire's production plants. The objective is to analyze maintenance durations, identify inefficiencies, and uncover insights to improve operational efficiency by minimizing unplanned maintenance and downtime.\n",
    "\n",
    "### Objective of the EDA\n",
    "In this exploratory data analysis (EDA) I have done the following:\n",
    "1. Clean and preprocess the Coca-Cola Swire maintenance dataset, addressing missing values and outliers.\n",
    "2. Analyze trends in planned and unplanned maintenance across plants and equipment.\n",
    "3. Visualize insights to identify patterns, inefficiencies, and areas requiring process improvements for better resource allocation and predictive maintenance planning.\n",
    "\n",
    "\n",
    "\n",
    "\n",
    "\n",
    "\n",
    "\n"
   ]
  },
  {
   "cell_type": "code",
   "execution_count": 22,
   "id": "c6a0e856",
   "metadata": {},
   "outputs": [],
   "source": [
    "import warnings\n",
    "warnings.filterwarnings(\"ignore\")"
   ]
  },
  {
   "cell_type": "markdown",
   "id": "890eceac",
   "metadata": {},
   "source": [
    "# Loading the libraries"
   ]
  },
  {
   "cell_type": "code",
   "execution_count": 23,
   "id": "151bbcdd",
   "metadata": {},
   "outputs": [],
   "source": [
    "# Import libraries\n",
    "import pandas as pd\n",
    "import numpy as np\n",
    "import matplotlib.pyplot as plt\n",
    "import seaborn as sns"
   ]
  },
  {
   "cell_type": "markdown",
   "id": "a33c295f",
   "metadata": {},
   "source": [
    "# Loading the dataset"
   ]
  },
  {
   "cell_type": "code",
   "execution_count": 24,
   "id": "73234202",
   "metadata": {},
   "outputs": [
    {
     "name": "stdout",
     "output_type": "stream",
     "text": [
      "<class 'pandas.core.frame.DataFrame'>\n",
      "RangeIndex: 1427264 entries, 0 to 1427263\n",
      "Data columns (total 25 columns):\n",
      " #   Column                           Non-Null Count    Dtype  \n",
      "---  ------                           --------------    -----  \n",
      " 0   ORDER_ID                         1427264 non-null  int64  \n",
      " 1   PLANT_ID                         1427264 non-null  object \n",
      " 2   PRODUCTION_LOCATION              1427264 non-null  object \n",
      " 3   EXECUTION_START_DATE             1427264 non-null  object \n",
      " 4   EXECUTION_FINISH_DATE            1427264 non-null  object \n",
      " 5   ACTUAL_START_TIME                1427264 non-null  object \n",
      " 6   ACTUAL_FINISH_TIME               1427264 non-null  object \n",
      " 7   ACTUAL_WORK_IN_MINUTES           1427264 non-null  float64\n",
      " 8   MAINTENANCE_PLAN                 152594 non-null   object \n",
      " 9   MAINTENANCE_ITEM                 152594 non-null   float64\n",
      " 10  MAINTENANCE_ACTIVITY_TYPE        1427264 non-null  object \n",
      " 11  ORDER_DESCRIPTION                291767 non-null   object \n",
      " 12  MAINTENANCE_TYPE_DESCRIPTION     291795 non-null   object \n",
      " 13  FUNCTIONAL_LOC                   291782 non-null   object \n",
      " 14  FUNCTIONAL_AREA_NODE_1_MODIFIED  290117 non-null   object \n",
      " 15  FUNCTIONAL_AREA_NODE_2_MODIFIED  282407 non-null   object \n",
      " 16  FUNCTIONAL_AREA_NODE_3_MODIFIED  258691 non-null   object \n",
      " 17  FUNCTIONAL_AREA_NODE_4_MODIFIED  237573 non-null   object \n",
      " 18  FUNCTIONAL_AREA_NODE_5_MODIFIED  2180 non-null     object \n",
      " 19  EQUIPMENT_ID                     291795 non-null   float64\n",
      " 20  EQUIPMENT_DESC                   79447 non-null    object \n",
      " 21  EQUIP_CAT_DESC                   79447 non-null    object \n",
      " 22  EQUIP_START_UP_DATE              79447 non-null    object \n",
      " 23  EQUIP_VALID_FROM                 79447 non-null    object \n",
      " 24  EQUIP_VALID_TO                   79447 non-null    object \n",
      "dtypes: float64(3), int64(1), object(21)\n",
      "memory usage: 272.2+ MB\n",
      "None\n",
      "    ORDER_ID PLANT_ID PRODUCTION_LOCATION EXECUTION_START_DATE  \\\n",
      "0  705642457     G812                ROMA           2024-05-04   \n",
      "1  704191697     G812                ROMA           2022-09-13   \n",
      "2  704466547     G812                ROMA           2022-12-21   \n",
      "3  703834477     G812                ROMA           2022-07-04   \n",
      "4  704661125     G291               MONZA           2023-03-15   \n",
      "\n",
      "  EXECUTION_FINISH_DATE ACTUAL_START_TIME ACTUAL_FINISH_TIME  \\\n",
      "0            2024-05-12      06:00:00.000       23:04:08.000   \n",
      "1            2022-09-13      06:00:00.000       17:17:24.000   \n",
      "2            2022-12-21      07:00:00.000       07:00:00.000   \n",
      "3            2022-07-04      06:00:00.000       06:00:00.000   \n",
      "4            2023-03-15      07:00:00.000       07:00:00.000   \n",
      "\n",
      "   ACTUAL_WORK_IN_MINUTES MAINTENANCE_PLAN  MAINTENANCE_ITEM  ...  \\\n",
      "0                   390.0              NaN               NaN  ...   \n",
      "1                   420.0              NaN               NaN  ...   \n",
      "2                    30.0              NaN               NaN  ...   \n",
      "3                    60.0              NaN               NaN  ...   \n",
      "4                   120.0              NaN               NaN  ...   \n",
      "\n",
      "  FUNCTIONAL_AREA_NODE_2_MODIFIED    FUNCTIONAL_AREA_NODE_3_MODIFIED  \\\n",
      "0      G812 PRD FILLER_ROTARY_CAN  G812 PRD FILLER_ROTARY_CAN LINE 3   \n",
      "1      G812 PRD FILLER_ROTARY_CAN  G812 PRD FILLER_ROTARY_CAN LINE 3   \n",
      "2      G812 PRD FILLER_ROTARY_CAN  G812 PRD FILLER_ROTARY_CAN LINE 3   \n",
      "3      G812 PRD FILLER_ROTARY_CAN  G812 PRD FILLER_ROTARY_CAN LINE 3   \n",
      "4                     AIR SYSTEMS                                NaN   \n",
      "\n",
      "  FUNCTIONAL_AREA_NODE_4_MODIFIED FUNCTIONAL_AREA_NODE_5_MODIFIED  \\\n",
      "0                        CONVEYOR               FULL CAN CONVEYOR   \n",
      "1                        CONVEYOR               FULL CAN CONVEYOR   \n",
      "2                        CONVEYOR               FULL CAN CONVEYOR   \n",
      "3                        CONVEYOR               FULL CAN CONVEYOR   \n",
      "4                             NaN                             NaN   \n",
      "\n",
      "  EQUIPMENT_ID             EQUIPMENT_DESC EQUIP_CAT_DESC EQUIP_START_UP_DATE  \\\n",
      "0  300126812.0  FULL CAN CONVEYOR (FC41B)       Machines          2020-04-22   \n",
      "1  300126812.0  FULL CAN CONVEYOR (FC41B)       Machines          2020-04-22   \n",
      "2  300126812.0  FULL CAN CONVEYOR (FC41B)       Machines          2020-04-22   \n",
      "3  300126812.0  FULL CAN CONVEYOR (FC41B)       Machines          2020-04-22   \n",
      "4  300001088.0          TANK_STL_STOR_AIR       Machines          2017-02-15   \n",
      "\n",
      "  EQUIP_VALID_FROM  EQUIP_VALID_TO  \n",
      "0       2020-02-10      9999-12-31  \n",
      "1       2020-02-10      9999-12-31  \n",
      "2       2020-02-10      9999-12-31  \n",
      "3       2020-02-10      9999-12-31  \n",
      "4       2023-12-11      9999-12-31  \n",
      "\n",
      "[5 rows x 25 columns]\n"
     ]
    }
   ],
   "source": [
    "# Load the dataset\n",
    "file_path = \"IWC_Work_Orders_Extract (1).csv\"\n",
    "data = pd.read_csv(file_path)\n",
    "\n",
    "# Display basic information\n",
    "print(data.info())\n",
    "print(data.head())\n"
   ]
  },
  {
   "cell_type": "markdown",
   "id": "85db0b64",
   "metadata": {},
   "source": [
    "The dataset contains over 1.4 million rows and 25 columns, with significant missing values in MAINTENANCE_PLAN and ORDER_DESCRIPTION. Time-based columns like EXECUTION_START_DATE offer potential for trend analysis, but missing data needs addressing to ensure accurate insights."
   ]
  },
  {
   "cell_type": "markdown",
   "id": "8452b2a9",
   "metadata": {},
   "source": [
    "# Dataset Overview"
   ]
  },
  {
   "cell_type": "code",
   "execution_count": 3,
   "id": "c7fe81fd",
   "metadata": {},
   "outputs": [
    {
     "name": "stdout",
     "output_type": "stream",
     "text": [
      "Missing values per column:\n",
      "ORDER_ID                                 0\n",
      "PLANT_ID                                 0\n",
      "PRODUCTION_LOCATION                      0\n",
      "EXECUTION_START_DATE                     0\n",
      "EXECUTION_FINISH_DATE                    0\n",
      "ACTUAL_START_TIME                        0\n",
      "ACTUAL_FINISH_TIME                       0\n",
      "ACTUAL_WORK_IN_MINUTES                   0\n",
      "MAINTENANCE_PLAN                   1274670\n",
      "MAINTENANCE_ITEM                   1274670\n",
      "MAINTENANCE_ACTIVITY_TYPE                0\n",
      "ORDER_DESCRIPTION                  1135497\n",
      "MAINTENANCE_TYPE_DESCRIPTION       1135469\n",
      "FUNCTIONAL_LOC                     1135482\n",
      "FUNCTIONAL_AREA_NODE_1_MODIFIED    1137147\n",
      "FUNCTIONAL_AREA_NODE_2_MODIFIED    1144857\n",
      "FUNCTIONAL_AREA_NODE_3_MODIFIED    1168573\n",
      "FUNCTIONAL_AREA_NODE_4_MODIFIED    1189691\n",
      "FUNCTIONAL_AREA_NODE_5_MODIFIED    1425084\n",
      "EQUIPMENT_ID                       1135469\n",
      "EQUIPMENT_DESC                     1347817\n",
      "EQUIP_CAT_DESC                     1347817\n",
      "EQUIP_START_UP_DATE                1347817\n",
      "EQUIP_VALID_FROM                   1347817\n",
      "EQUIP_VALID_TO                     1347817\n",
      "dtype: int64\n",
      "Number of duplicate rows: 0\n",
      "Column Data Types and Unique Values:\n",
      "ORDER_ID                           1427244\n",
      "PLANT_ID                                 6\n",
      "PRODUCTION_LOCATION                      6\n",
      "EXECUTION_START_DATE                  2956\n",
      "EXECUTION_FINISH_DATE                 2956\n",
      "ACTUAL_START_TIME                    65927\n",
      "ACTUAL_FINISH_TIME                   61388\n",
      "ACTUAL_WORK_IN_MINUTES                4801\n",
      "MAINTENANCE_PLAN                      3308\n",
      "MAINTENANCE_ITEM                      4021\n",
      "MAINTENANCE_ACTIVITY_TYPE                2\n",
      "ORDER_DESCRIPTION                   118925\n",
      "MAINTENANCE_TYPE_DESCRIPTION             5\n",
      "FUNCTIONAL_LOC                         667\n",
      "FUNCTIONAL_AREA_NODE_1_MODIFIED          7\n",
      "FUNCTIONAL_AREA_NODE_2_MODIFIED         67\n",
      "FUNCTIONAL_AREA_NODE_3_MODIFIED        141\n",
      "FUNCTIONAL_AREA_NODE_4_MODIFIED         86\n",
      "FUNCTIONAL_AREA_NODE_5_MODIFIED         36\n",
      "EQUIPMENT_ID                          2956\n",
      "EQUIPMENT_DESC                         807\n",
      "EQUIP_CAT_DESC                           4\n",
      "EQUIP_START_UP_DATE                     92\n",
      "EQUIP_VALID_FROM                       137\n",
      "EQUIP_VALID_TO                           1\n",
      "dtype: int64\n"
     ]
    }
   ],
   "source": [
    "# Check for missing values\n",
    "print(\"Missing values per column:\")\n",
    "print(data.isnull().sum())\n",
    "\n",
    "# Check for duplicates\n",
    "print(f\"Number of duplicate rows: {data.duplicated().sum()}\")\n",
    "\n",
    "# Data types and unique values\n",
    "print(\"Column Data Types and Unique Values:\")\n",
    "print(data.nunique())"
   ]
  },
  {
   "cell_type": "markdown",
   "id": "104a0f78",
   "metadata": {},
   "source": [
    "The dataset has no duplicates but significant missing values in many columns, with over 80% nulls in some. Key columns like ORDER_ID are unique, while PLANT_ID and PRODUCTION_LOCATION have low variability, ideal for grouping analysis."
   ]
  },
  {
   "cell_type": "code",
   "execution_count": 4,
   "id": "8ff177b3",
   "metadata": {},
   "outputs": [
    {
     "name": "stdout",
     "output_type": "stream",
     "text": [
      "Summary Statistics:\n",
      "           ORDER_ID  ACTUAL_WORK_IN_MINUTES  MAINTENANCE_ITEM  EQUIPMENT_ID\n",
      "count  1.427264e+06            1.427264e+06     152594.000000  2.917950e+05\n",
      "mean   4.561470e+10            8.862968e+01     115846.807954  3.002609e+08\n",
      "std    8.387114e+10            8.037915e+02      71325.255687  5.581645e+06\n",
      "min    1.000219e+08            0.000000e+00      39801.000000  2.000871e+08\n",
      "25%    4.022602e+08            1.200000e+01      41046.000000  3.000092e+08\n",
      "50%    7.044271e+08            4.800000e+01     112995.000000  3.000178e+08\n",
      "75%    1.002343e+09            9.000000e+01     134702.000000  3.000269e+08\n",
      "max    9.000001e+11            3.301848e+05     346352.000000  4.000290e+08\n",
      "Value counts for PLANT_ID:\n",
      "G261    630903\n",
      "G221    290975\n",
      "G291    225279\n",
      "G816    116303\n",
      "G811     84694\n",
      "G812     79110\n",
      "Name: PLANT_ID, dtype: int64\n",
      "\n",
      "\n",
      "Value counts for PRODUCTION_LOCATION:\n",
      "SILVERSTONE    630903\n",
      "SUZUKA         290975\n",
      "MONZA          225279\n",
      "COTA           116303\n",
      "MONACO          84694\n",
      "ROMA            79110\n",
      "Name: PRODUCTION_LOCATION, dtype: int64\n",
      "\n",
      "\n",
      "Value counts for EXECUTION_START_DATE:\n",
      "2019-04-16    936\n",
      "2018-09-12    908\n",
      "2018-08-08    900\n",
      "2023-05-23    895\n",
      "2019-01-23    892\n",
      "             ... \n",
      "2024-08-30      4\n",
      "2013-08-19      1\n",
      "2021-12-25      1\n",
      "2016-07-25      1\n",
      "2016-07-28      1\n",
      "Name: EXECUTION_START_DATE, Length: 2956, dtype: int64\n",
      "\n",
      "\n",
      "Value counts for EXECUTION_FINISH_DATE:\n",
      "2019-04-16    934\n",
      "2023-12-04    924\n",
      "2018-09-12    914\n",
      "2024-06-13    911\n",
      "2019-01-23    902\n",
      "             ... \n",
      "2016-07-30     12\n",
      "2021-12-25      6\n",
      "2016-12-25      4\n",
      "2016-07-25      1\n",
      "2016-07-29      1\n",
      "Name: EXECUTION_FINISH_DATE, Length: 2956, dtype: int64\n",
      "\n",
      "\n",
      "Value counts for ACTUAL_START_TIME:\n",
      "00:00:00.000    212155\n",
      "07:00:00.000    148181\n",
      "06:00:00.000    139687\n",
      "08:00:00.000     34223\n",
      "15:30:00.000      6058\n",
      "                 ...  \n",
      "21:19:17.000         1\n",
      "01:11:02.000         1\n",
      "19:57:32.000         1\n",
      "08:02:34.000         1\n",
      "01:21:07.000         1\n",
      "Name: ACTUAL_START_TIME, Length: 65927, dtype: int64\n",
      "\n",
      "\n",
      "Value counts for ACTUAL_FINISH_TIME:\n",
      "00:00:00.000    202920\n",
      "07:00:00.000    144120\n",
      "06:00:00.000    133447\n",
      "08:00:00.000     33809\n",
      "21:00:00.000      5422\n",
      "                 ...  \n",
      "04:29:36.000         1\n",
      "05:41:13.000         1\n",
      "21:59:07.000         1\n",
      "22:15:10.000         1\n",
      "16:12:37.000         1\n",
      "Name: ACTUAL_FINISH_TIME, Length: 61388, dtype: int64\n",
      "\n",
      "\n",
      "Value counts for MAINTENANCE_PLAN:\n",
      "000000022943    1327\n",
      "G26111606       1311\n",
      "G812200064      1067\n",
      "G812200051      1067\n",
      "G812200062      1065\n",
      "                ... \n",
      "G29115612          1\n",
      "G816SC1462         1\n",
      "G812200708         1\n",
      "G811100643         1\n",
      "000000061609       1\n",
      "Name: MAINTENANCE_PLAN, Length: 3308, dtype: int64\n",
      "\n",
      "\n",
      "Value counts for MAINTENANCE_ACTIVITY_TYPE:\n",
      "Unplanned    1276877\n",
      "Planned       150387\n",
      "Name: MAINTENANCE_ACTIVITY_TYPE, dtype: int64\n",
      "\n",
      "\n",
      "Value counts for ORDER_DESCRIPTION:\n",
      "DTRINE                                      2012\n",
      "FILTEC, CL3 FOR LUB WHILE OPERATING         1392\n",
      "BEARING_LUBRICATION_PM                      1306\n",
      "E-STOP FOR ELEC MONTHLY SHUTDOWN            1275\n",
      "FILL HEIGHT MONITOR CL4 FOR LUB WHILE OP    1074\n",
      "                                            ... \n",
      "ASSIST WITH REPLACING THE BELT AND TROUB       1\n",
      "REPLACED CAN SEALS ON 1, 8, 11 AND 16.         1\n",
      "BLENZER KEPT PAUSING                           1\n",
      "WORKED ON FILLER WITH CHRIS HAD TO TAKE        1\n",
      "FEED ROLLER BAD,  REPLACED                     1\n",
      "Name: ORDER_DESCRIPTION, Length: 118925, dtype: int64\n",
      "\n",
      "\n",
      "Value counts for MAINTENANCE_TYPE_DESCRIPTION:\n",
      "Preventive Maintenance Order    151533\n",
      "Corrective Maintenance Order    134074\n",
      "Administrative Order              6161\n",
      "Capital Order                       22\n",
      "Breakdown Maintenance Order          5\n",
      "Name: MAINTENANCE_TYPE_DESCRIPTION, dtype: int64\n",
      "\n",
      "\n",
      "Value counts for FUNCTIONAL_LOC:\n",
      "G812-PRD                      5923\n",
      "G812-PRD-A25                  4930\n",
      "G816-PRD-L15-L03-L080         4583\n",
      "G816-PRD-L15-L01-L080         4401\n",
      "G816-PRD-L30-L02-L080         4080\n",
      "                              ... \n",
      "G291-PRD-L30-L03-L180            1\n",
      "G816-FLT-F10-002                 1\n",
      "G811-PRD-L30-L03-L030-0060       1\n",
      "G816-PRD-P70-R04                 1\n",
      "G291-PRD-L15-L04-L180            1\n",
      "Name: FUNCTIONAL_LOC, Length: 667, dtype: int64\n",
      "\n",
      "\n",
      "Value counts for FUNCTIONAL_AREA_NODE_1_MODIFIED:\n",
      "COTA PRODUCTION           70187\n",
      "SILVERSTONE PRODUCTION    62625\n",
      "PRODUCTION                60312\n",
      "MONZA PRODUCTION          57458\n",
      "SUZUKA PRODUCTION         36713\n",
      "COOLER SERVICE             2699\n",
      "FLEET                       123\n",
      "Name: FUNCTIONAL_AREA_NODE_1_MODIFIED, dtype: int64\n",
      "\n",
      "\n",
      "Value counts for FUNCTIONAL_AREA_NODE_2_MODIFIED:\n",
      "CAN LINE                      34208\n",
      "BTL_PET_LINE                  32789\n",
      "LINES 1,2,9 - BOTTLE LINES    29729\n",
      "BOTTLE LINE                   27543\n",
      "LINES 3,4,10 - CAN LINES      23153\n",
      "                              ...  \n",
      "CHEMICAL ROOM                    14\n",
      "ELECTRICAL SYSTEMS               14\n",
      "G812 SANITATION                   3\n",
      "OZONE SYSTEMS                     1\n",
      "LIS SYSTEM                        1\n",
      "Name: FUNCTIONAL_AREA_NODE_2_MODIFIED, Length: 67, dtype: int64\n",
      "\n",
      "\n",
      "Value counts for FUNCTIONAL_AREA_NODE_3_MODIFIED:\n",
      "LINE #4-FILLER_ROTARY_CAN       35834\n",
      "LINE #2 - FILLER_ROT_BTL_PET    23027\n",
      "LINE #1 - FILLER_ROT_BTL_PET    18290\n",
      "LINE #1-CAN_LINE                17844\n",
      "LINE #2 - BOTTLE_LINE_PET       17774\n",
      "                                ...  \n",
      "SANITATION                          1\n",
      "ELECTRICAL SYSTEMS REFRIG           1\n",
      "G811 PAINTING EXT                   1\n",
      "FLEET                               1\n",
      "FIRST AID                           1\n",
      "Name: FUNCTIONAL_AREA_NODE_3_MODIFIED, Length: 141, dtype: int64\n",
      "\n",
      "\n",
      "Value counts for FUNCTIONAL_AREA_NODE_4_MODIFIED:\n",
      "FILLER                      46322\n",
      "PACKER                      35230\n",
      "CONVEYOR                    34765\n",
      "LABELER                     18945\n",
      "PALLETIZER                  16239\n",
      "                            ...  \n",
      "MIXERS                          1\n",
      "BATCH STATION METER SKID        1\n",
      "G811 CONDENSATE RETURN          1\n",
      "CIP TANK SKID                   1\n",
      "CIP VALVE MATRIX SKID           1\n",
      "Name: FUNCTIONAL_AREA_NODE_4_MODIFIED, Length: 86, dtype: int64\n",
      "\n",
      "\n",
      "Value counts for FUNCTIONAL_AREA_NODE_5_MODIFIED:\n",
      "FULL CAN TO ACCUMULATION TABLE              251\n",
      "PACKER 1, MODEL DUODOZEN 1250SX             210\n",
      "FULL CASE CONVEYORS                         158\n",
      "EMPTY CASE CONVEYORS                        136\n",
      "FULL CASE SPIRAL TO PALLETIZER              125\n",
      "FB CONVEYORS TO DOUGLAS/HI-CONE SPLIT       114\n",
      "EMPTY CAN                                   110\n",
      "COMPRESSOR                                  110\n",
      "PACKER 2, MODEL FENIX 185V                  108\n",
      "FULL CASE CONVEYOR                          101\n",
      "EAST SYRUP TANKS                             98\n",
      "FULL BOTTLE CONVEYORS                        97\n",
      "EMPTY CAN CONVEYOR                           90\n",
      "*OLD SYSTEM MT CASE CONVEYORS*               56\n",
      "LOOSE FB TO PACKER CONVEYORS                 52\n",
      "FULL CAN CONVEYOR                            50\n",
      "EVANS COOLING TUNNEL L3, INSIDE BUILDING     48\n",
      "HARTNESS TO PAI FULL CASE CONVEYORS          47\n",
      "PARTIAL CASES GPI (RIVERWOOD) TO DOUGLAS     43\n",
      "INFEED TO HICONE TO PACKER                   33\n",
      "EMPTY CAN VACUUM BLOWERS                     26\n",
      "FULL CAN INFEED GPI                          24\n",
      "DEPAL TO FILLER MT BOTTLE CONVEYORS          17\n",
      "ACCUMULATION TABLES                          16\n",
      "FULL CAN INFEED DOUGLAS/GPI (RIVERWOOD)      12\n",
      "FULL CASE GPI (RIVERWOOD)                    10\n",
      "FULL CASE FROM DOUGLAS TO PAI                 9\n",
      "FULL CASE DOUGLAS                             7\n",
      "PACK CONVEYOR                                 6\n",
      "EVANS COOLING TUNNEL L3, OUTSIDE BUILDIN      5\n",
      "CONVEYORS FOR PALLETIZER                      4\n",
      "BLOWER SECTION #12 ACE-3-M112                 3\n",
      "FB INFEED TO DOUGLAS CONVEYORS                1\n",
      "BLOWER SECTION #1 ACE-3-M101                  1\n",
      "BLOWER SECTION #11 ACE-3-M111                 1\n",
      "PALLET CONVEYOR                               1\n",
      "Name: FUNCTIONAL_AREA_NODE_5_MODIFIED, dtype: int64\n",
      "\n",
      "\n",
      "Value counts for EQUIPMENT_DESC:\n",
      "L1 FILLER_ROTARY_CAN_72_VALVE       3745\n",
      "L1 FILLER_ROTARY_BTL_60_VALVE       2738\n",
      "L4 FILLER_ROTARY_CAN_100_VALVE      2511\n",
      "L2 FILLER_ROTARY_BTL_45_VALVE       2072\n",
      "L3 LABELER_ROTARY                   1955\n",
      "                                    ... \n",
      "CASE CONVEYOR (CC2)                    1\n",
      "L10 WRAPPER_STRETCH_LANTECH_EAST       1\n",
      "FULL CAN CONVEYOR (FC45C)              1\n",
      "CONV_RLLR_L3FCC300                     1\n",
      "INTERNAL ROLL UP DOOR                  1\n",
      "Name: EQUIPMENT_DESC, Length: 807, dtype: int64\n",
      "\n",
      "\n",
      "Value counts for EQUIP_CAT_DESC:\n"
     ]
    },
    {
     "name": "stdout",
     "output_type": "stream",
     "text": [
      "Machines                      79224\n",
      "Production resources/tools       82\n",
      "Plant & Buildings                77\n",
      "Test/measurement equipment       64\n",
      "Name: EQUIP_CAT_DESC, dtype: int64\n",
      "\n",
      "\n",
      "Value counts for EQUIP_START_UP_DATE:\n",
      "2017-02-15    53650\n",
      "2020-04-22     4270\n",
      "2019-10-10     4115\n",
      "2017-06-01     3018\n",
      "2019-08-26     1971\n",
      "              ...  \n",
      "2024-05-16        2\n",
      "2023-09-01        2\n",
      "1960-01-01        1\n",
      "2019-05-01        1\n",
      "2021-01-04        1\n",
      "Name: EQUIP_START_UP_DATE, Length: 92, dtype: int64\n",
      "\n",
      "\n",
      "Value counts for EQUIP_VALID_FROM:\n",
      "2017-02-15    32713\n",
      "2017-02-25     6968\n",
      "2019-10-06     4115\n",
      "2023-12-09     2958\n",
      "2017-10-30     2956\n",
      "              ...  \n",
      "2024-05-20        2\n",
      "2021-09-01        1\n",
      "2023-03-23        1\n",
      "2021-01-26        1\n",
      "2021-11-19        1\n",
      "Name: EQUIP_VALID_FROM, Length: 137, dtype: int64\n",
      "\n",
      "\n",
      "Value counts for EQUIP_VALID_TO:\n",
      "9999-12-31    79447\n",
      "Name: EQUIP_VALID_TO, dtype: int64\n",
      "\n",
      "\n"
     ]
    }
   ],
   "source": [
    "# Summary statistics for numerical columns\n",
    "print(\"Summary Statistics:\")\n",
    "print(data.describe())\n",
    "\n",
    "# Analyze categorical columns\n",
    "categorical_columns = data.select_dtypes(include='object').columns\n",
    "for col in categorical_columns:\n",
    "    print(f\"Value counts for {col}:\")\n",
    "    print(data[col].value_counts())\n",
    "    print(\"\\n\")"
   ]
  },
  {
   "cell_type": "markdown",
   "id": "03d4bc23",
   "metadata": {},
   "source": [
    "The summary statistics reveal that most maintenance tasks are completed on the same day (median and 25th percentile are 0). A small number of tasks take significantly longer, with a maximum duration of 1537 days, likely outliers."
   ]
  },
  {
   "cell_type": "markdown",
   "id": "7fabcd43",
   "metadata": {},
   "source": [
    "# Handling Missing Data "
   ]
  },
  {
   "cell_type": "code",
   "execution_count": 5,
   "id": "4e1a0325",
   "metadata": {},
   "outputs": [],
   "source": [
    "# Columns like FUNCTIONAL_AREA_NODE_5_MODIFIED and EQUIP_VALID_TO with more than 80% missing values might not be useful.\n",
    "missing_threshold = 0.8\n",
    "cols_to_drop = [col for col in data.columns if data[col].isnull().mean() > missing_threshold]\n",
    "data = data.drop(columns=cols_to_drop)"
   ]
  },
  {
   "cell_type": "markdown",
   "id": "72667a63",
   "metadata": {},
   "source": [
    "## Imputing missing Values"
   ]
  },
  {
   "cell_type": "code",
   "execution_count": 6,
   "id": "21b2d431",
   "metadata": {},
   "outputs": [],
   "source": [
    "# Example of filling with default values or placeholders\n",
    "data['ORDER_DESCRIPTION'] = data['ORDER_DESCRIPTION'].fillna('Unknown')\n",
    "data['MAINTENANCE_TYPE_DESCRIPTION'] = data['MAINTENANCE_TYPE_DESCRIPTION'].fillna('Not Specified')"
   ]
  },
  {
   "cell_type": "markdown",
   "id": "1c9bedfb",
   "metadata": {},
   "source": [
    "1. Columns like FUNCTIONAL_AREA_NODE_5_MODIFIED and EQUIP_VALID_TO with more than 80% missing values were dropped. These columns provided limited value for analysis due to their high missing data proportion.\n",
    "2. ORDER_DESCRIPTION was imputed with 'Unknown', ensuring that the missing entries are represented meaningfully without biasing the analysis.\n",
    "3. MAINTENANCE_TYPE_DESCRIPTION was filled with 'Not Specified', preserving categorical integrity while reducing missing data."
   ]
  },
  {
   "cell_type": "markdown",
   "id": "5accde9e",
   "metadata": {},
   "source": [
    "# Feature Engineering"
   ]
  },
  {
   "cell_type": "code",
   "execution_count": 7,
   "id": "269f1c58",
   "metadata": {},
   "outputs": [],
   "source": [
    "# Convert the maintenance type into binary or categorical values\n",
    "data['Maintenance_Type_Binary'] = data['MAINTENANCE_TYPE_DESCRIPTION'].apply(lambda x: 1 if 'Planned' in str(x) else 0)"
   ]
  },
  {
   "cell_type": "markdown",
   "id": "96e9e47b",
   "metadata": {},
   "source": [
    "Converting maintenance types into binary helps in identifying trends or correlations between planned maintenance and other key metrics, such as task duration or frequency."
   ]
  },
  {
   "cell_type": "code",
   "execution_count": 8,
   "id": "ee36b9ce",
   "metadata": {},
   "outputs": [],
   "source": [
    "if 'EXECUTION_START_DATE' in data.columns:\n",
    "    data['EQUIP_START_UP_DATE'] = pd.to_datetime(data['EXECUTION_START_DATE'], errors='coerce')\n",
    "    data['Equipment_Age_Years'] = (pd.Timestamp.now() - data['EQUIP_START_UP_DATE']).dt.days // 365\n",
    "else:\n",
    "    print(\"No alternative date column found to calculate Equipment Age.\")"
   ]
  },
  {
   "cell_type": "code",
   "execution_count": 9,
   "id": "24184777",
   "metadata": {},
   "outputs": [
    {
     "name": "stdout",
     "output_type": "stream",
     "text": [
      "  EQUIP_START_UP_DATE  Equipment_Age_Years\n",
      "0          2024-05-04                    0\n",
      "1          2022-09-13                    2\n",
      "2          2022-12-21                    1\n",
      "3          2022-07-04                    2\n",
      "4          2023-03-15                    1\n"
     ]
    }
   ],
   "source": [
    "print(data[['EQUIP_START_UP_DATE', 'Equipment_Age_Years']].head())"
   ]
  },
  {
   "cell_type": "markdown",
   "id": "a4e5462d",
   "metadata": {},
   "source": [
    "Calculating equipment age allows us to examine whether older equipment requires more frequent or longer maintenance."
   ]
  },
  {
   "cell_type": "code",
   "execution_count": 15,
   "id": "bd03a33a",
   "metadata": {},
   "outputs": [],
   "source": [
    "# Ensure the date columns are in datetime format\n",
    "data['EXECUTION_START_DATE'] = pd.to_datetime(data['EXECUTION_START_DATE'], errors='coerce')\n",
    "data['EXECUTION_FINISH_DATE'] = pd.to_datetime(data['EXECUTION_FINISH_DATE'], errors='coerce')\n",
    "\n",
    "# Calculate the maintenance duration in days\n",
    "data['Maintenance_Duration_Days'] = (data['EXECUTION_FINISH_DATE'] - data['EXECUTION_START_DATE']).dt.days"
   ]
  },
  {
   "cell_type": "code",
   "execution_count": 17,
   "id": "a01aa733",
   "metadata": {},
   "outputs": [
    {
     "name": "stdout",
     "output_type": "stream",
     "text": [
      "0\n"
     ]
    }
   ],
   "source": [
    "# Check for null values in the new column\n",
    "print(data['Maintenance_Duration_Days'].isnull().sum())\n",
    "\n",
    "# Fill null values with a placeholder (e.g., 0) or drop them\n",
    "data['Maintenance_Duration_Days'] = data['Maintenance_Duration_Days'].fillna(0)\n"
   ]
  },
  {
   "cell_type": "code",
   "execution_count": 20,
   "id": "db5d89b0",
   "metadata": {},
   "outputs": [],
   "source": [
    "# Calculating equipment\n",
    "data['EQUIP_START_UP_DATE'] = pd.to_datetime(data['EQUIP_START_UP_DATE'], errors='coerce')\n",
    "data['Equipment_Age_Years'] = (pd.Timestamp.now() - data['EQUIP_START_UP_DATE']).dt.days // 365"
   ]
  },
  {
   "cell_type": "code",
   "execution_count": 21,
   "id": "a1fcfa57",
   "metadata": {},
   "outputs": [
    {
     "name": "stdout",
     "output_type": "stream",
     "text": [
      "count    1.427264e+06\n",
      "mean     7.240048e-01\n",
      "std      7.855836e+00\n",
      "min      0.000000e+00\n",
      "25%      0.000000e+00\n",
      "50%      0.000000e+00\n",
      "75%      0.000000e+00\n",
      "max      1.537000e+03\n",
      "Name: Maintenance_Duration_Days, dtype: float64\n"
     ]
    }
   ],
   "source": [
    "print(data['Maintenance_Duration_Days'].describe())"
   ]
  },
  {
   "cell_type": "markdown",
   "id": "a2db12b8",
   "metadata": {},
   "source": [
    "The high standard deviation (7.85 days) and maximum value (1,537 days) suggest the presence of outliers, indicating that some tasks are significantly delayed or represent long-term maintenance projects.\n"
   ]
  },
  {
   "cell_type": "markdown",
   "id": "225af246",
   "metadata": {},
   "source": [
    "# Data Visualization"
   ]
  },
  {
   "cell_type": "code",
   "execution_count": null,
   "id": "fc57e3d5",
   "metadata": {},
   "outputs": [],
   "source": [
    "# Boxplot for Maintenance Duration Days to detect outliers\n",
    "plt.figure(figsize=(10, 6))\n",
    "sns.boxplot(x=data['Maintenance_Duration_Days'], color='skyblue')\n",
    "plt.title('Boxplot of Maintenance Duration Days')\n",
    "plt.xlabel('Maintenance Duration (Days)')\n",
    "plt.show()"
   ]
  },
  {
   "cell_type": "markdown",
   "id": "e77e309e",
   "metadata": {},
   "source": [
    "The boxplot reveals the presence of significant outliers in the Maintenance_Duration_Days variable, as seen by the points extending far beyond the whiskers. These represent maintenance durations that are much longer than the typical values."
   ]
  },
  {
   "cell_type": "code",
   "execution_count": null,
   "id": "19f3211c",
   "metadata": {},
   "outputs": [],
   "source": [
    "# Histogram for Maintenance Duration Days to visualize distribution\n",
    "plt.figure(figsize=(10, 6))\n",
    "sns.histplot(data['Maintenance_Duration_Days'], bins=50, kde=True, color='blue')\n",
    "plt.title('Histogram of Maintenance Duration Days')\n",
    "plt.xlabel('Maintenance Duration (Days)')\n",
    "plt.ylabel('Frequency')\n",
    "plt.show()"
   ]
  },
  {
   "cell_type": "markdown",
   "id": "ee97fd71",
   "metadata": {},
   "source": [
    "\n",
    "The histogram highlights a highly skewed distribution for Maintenance_Duration_Days, with most values concentrated near zero. This confirms that maintenance durations are typically short, but there are a few extreme outliers that significantly extend the range."
   ]
  },
  {
   "cell_type": "code",
   "execution_count": null,
   "id": "dbf4c03a",
   "metadata": {},
   "outputs": [],
   "source": [
    "# Check top outliers for Maintenance_Duration_Days\n",
    "top_outliers = data[data['Maintenance_Duration_Days'] > 365]  # Example: Maintenance lasting over a year\n",
    "print(top_outliers[['ORDER_ID', 'Maintenance_Duration_Days', 'MAINTENANCE_TYPE_DESCRIPTION']])"
   ]
  },
  {
   "cell_type": "markdown",
   "id": "bdcb3b60",
   "metadata": {},
   "source": [
    "Some maintenance orders exceed 365 days, indicating potential data entry errors or delays. Many long-duration orders are labeled as \"Not Specified,\" suggesting incomplete records.A few long-duration corrective orders may highlight systemic inefficiencies."
   ]
  },
  {
   "cell_type": "code",
   "execution_count": null,
   "id": "18cfc36f",
   "metadata": {},
   "outputs": [],
   "source": [
    "## Correlational Analysis"
   ]
  },
  {
   "cell_type": "code",
   "execution_count": null,
   "id": "18a32a66",
   "metadata": {},
   "outputs": [],
   "source": [
    "correlation_matrix = data.corr()\n",
    "sns.heatmap(correlation_matrix, annot=True, cmap=\"coolwarm\")\n",
    "plt.title(\"Correlation Matrix\")\n",
    "plt.show()"
   ]
  },
  {
   "cell_type": "markdown",
   "id": "d59ad349",
   "metadata": {},
   "source": [
    "1. Most features show weak correlations, indicating limited linear relationships.\n",
    "2. Moderate correlation (~0.23) between ACTUAL_WORK_IN_MINUTES and Maintenance_Duration_Days.\n",
    "3. Minimal influence of Equipment_Age_Years on other variables.\n",
    "4. Maintenance_Type_Binary has negligible correlations, suggesting non-linear or categorical factors at play."
   ]
  },
  {
   "cell_type": "code",
   "execution_count": null,
   "id": "2e4af0b8",
   "metadata": {},
   "outputs": [],
   "source": [
    "# Scatterplot: Work Minutes vs Maintenance Duration\n",
    "sns.scatterplot(x='ACTUAL_WORK_IN_MINUTES', y='Maintenance_Duration_Days', data=data)\n",
    "plt.title(\"Actual Work Minutes vs Maintenance Duration\")\n",
    "plt.show()"
   ]
  },
  {
   "cell_type": "markdown",
   "id": "40c589ed",
   "metadata": {},
   "source": [
    "Cluster near the origin: A majority of data points are concentrated near lower values for both features, indicating that most maintenance tasks are completed within a shorter duration and require fewer work minutes.\n",
    "Outliers: A few extreme values are visible, suggesting some tasks required significantly more work minutes or lasted much longer in duration, which could indicate special cases or data anomalies.\n",
    "No strong linear relationship: The points appear scattered, implying a weak or no direct correlation between work minutes and maintenance duration.\n"
   ]
  },
  {
   "cell_type": "code",
   "execution_count": null,
   "id": "62373048",
   "metadata": {},
   "outputs": [],
   "source": [
    "sns.boxplot(x='Maintenance_Type_Binary', y='Maintenance_Duration_Days', data=data)\n",
    "plt.title(\"Maintenance Duration by Maintenance Type\")\n",
    "plt.show()"
   ]
  },
  {
   "cell_type": "code",
   "execution_count": null,
   "id": "3a058d03",
   "metadata": {},
   "outputs": [],
   "source": [
    "# Calculate the 90th percentile of Maintenance_Duration_Days\n",
    "percentile_90 = data['Maintenance_Duration_Days'].quantile(0.90)\n",
    "\n",
    "# Filter rows with Maintenance_Duration_Days above the 90th percentile\n",
    "outliers = data[data['Maintenance_Duration_Days'] > percentile_90]\n",
    "\n",
    "# Print summary of outliers\n",
    "print(f\"Number of outliers: {len(outliers)}\")\n",
    "print(outliers[['ORDER_ID', 'Maintenance_Duration_Days', 'MAINTENANCE_TYPE_DESCRIPTION', 'Equipment_Age_Years']].head())\n"
   ]
  },
  {
   "cell_type": "markdown",
   "id": "e37e77a3",
   "metadata": {},
   "source": [
    "There are 62,035 rows where the Maintenance_Duration_Days exceeds the 90th percentile. This represents significant outliers that need to be reviewed."
   ]
  },
  {
   "cell_type": "code",
   "execution_count": null,
   "id": "b2d892f3",
   "metadata": {},
   "outputs": [],
   "source": [
    "# Visualize the distribution of outliers\n",
    "plt.figure(figsize=(10, 6))\n",
    "sns.histplot(outliers['Maintenance_Duration_Days'], kde=True, color='red')\n",
    "plt.title(\"Distribution of Outliers in Maintenance Duration Days\")\n",
    "plt.xlabel(\"Maintenance Duration (Days)\")\n",
    "plt.ylabel(\"Frequency\")\n",
    "plt.show()"
   ]
  },
  {
   "cell_type": "markdown",
   "id": "5e6ed489",
   "metadata": {},
   "source": [
    " Most outliers fall between 0 to 200 days, suggesting that even among outliers, durations longer than 200 days are rare. A few extreme values extend beyond 1,000 days, highlighting rare but significant anomalies in the dataset. The distribution is highly skewed, which is typical for maintenance data, where a majority of tasks have shorter durations while a few extend significantly longer."
   ]
  },
  {
   "cell_type": "code",
   "execution_count": null,
   "id": "cd56c2f3",
   "metadata": {},
   "outputs": [],
   "source": [
    "# Boxplot for Maintenance Duration by Plant\n",
    "sns.boxplot(x='PLANT_ID', y='Maintenance_Duration_Days', data=data)\n",
    "plt.title(\"Maintenance Duration by Plant ID\")\n",
    "plt.show()"
   ]
  },
  {
   "cell_type": "markdown",
   "id": "77134ae7",
   "metadata": {},
   "source": [
    "Most plants have a similar median maintenance duration (likely low).Significant outliers exist in all plants, particularly noticeable in G221 and G291, indicating prolonged maintenance durations for specific cases.\n",
    "While the distribution is largely consistent across plants, a few plants have higher spread and extreme values, hinting at potential operational inefficiencies."
   ]
  },
  {
   "cell_type": "code",
   "execution_count": null,
   "id": "e04ba5ac",
   "metadata": {},
   "outputs": [],
   "source": [
    "# Bar chart for Maintenance Type\n",
    "data.groupby('MAINTENANCE_ACTIVITY_TYPE')['Maintenance_Duration_Days'].mean().plot(kind='bar')\n",
    "plt.title(\"Average Maintenance Duration by Activity Type\")\n",
    "plt.show()"
   ]
  },
  {
   "cell_type": "markdown",
   "id": "fca07222",
   "metadata": {},
   "source": [
    "1. For Unplanned Maintenance:\n",
    "Takes significantly longer on average compared to planned maintenance.\n",
    "Indicates potential inefficiencies or unexpected challenges during unplanned repairs.\n",
    "2. For Planned Maintenance:\n",
    "Much shorter average duration, suggesting better resource allocation and preparation."
   ]
  },
  {
   "cell_type": "code",
   "execution_count": null,
   "id": "79b9ccab",
   "metadata": {},
   "outputs": [],
   "source": [
    "# Filter unplanned maintenance records\n",
    "unplanned_maintenance = data[data['MAINTENANCE_ACTIVITY_TYPE'] == 'Unplanned']\n",
    "\n",
    "# Check basic statistics for unplanned maintenance durations\n",
    "print(unplanned_maintenance['Maintenance_Duration_Days'].describe())\n",
    "\n",
    "# Top contributing equipment or plants for unplanned maintenance\n",
    "top_unplanned_plants = unplanned_maintenance['PLANT_ID'].value_counts().head(5)\n",
    "top_unplanned_equipment = unplanned_maintenance['EQUIPMENT_ID'].value_counts().head(5)\n",
    "\n",
    "print(\"Top Plants with Unplanned Maintenance:\\n\", top_unplanned_plants)\n",
    "print(\"Top Equipment IDs with Unplanned Maintenance:\\n\", top_unplanned_equipment)"
   ]
  },
  {
   "cell_type": "markdown",
   "id": "89c19ba3",
   "metadata": {},
   "source": [
    "The average unplanned maintenance duration is approximately 0.78 days, with a standard deviation of 8.27 days. The highest number of unplanned maintenance tasks occurred at Plant G261, followed by G221 and G291."
   ]
  },
  {
   "cell_type": "code",
   "execution_count": null,
   "id": "5b0df22b",
   "metadata": {},
   "outputs": [],
   "source": [
    "# Group data by plant and calculate mean duration for unplanned maintenance\n",
    "avg_unplanned_by_plant = unplanned_maintenance.groupby('PLANT_ID')['Maintenance_Duration_Days'].mean().sort_values(ascending=False)\n",
    "\n",
    "# Plot average maintenance durations for unplanned maintenance by plant\n",
    "avg_unplanned_by_plant.plot(kind='bar', figsize=(10, 6), title='Average Unplanned Maintenance Duration by Plant')\n",
    "plt.ylabel('Average Duration (Days)')\n",
    "plt.xlabel('Plant ID')\n",
    "plt.show()"
   ]
  },
  {
   "cell_type": "markdown",
   "id": "494bb2a1",
   "metadata": {},
   "source": [
    "The bar chart shows the average unplanned maintenance duration by plant. The key insights are:\n",
    "1. G291 and G221: These plants have the highest average unplanned maintenance durations, exceeding 1 day on average. These plants may require targeted maintenance strategies or operational improvements.\n",
    "2. G816 and G812: These plants exhibit significantly shorter average maintenance durations, indicating more efficient maintenance processes or fewer severe issues."
   ]
  },
  {
   "cell_type": "code",
   "execution_count": null,
   "id": "a1ca33a8",
   "metadata": {},
   "outputs": [],
   "source": [
    "# Filter records with high maintenance durations (e.g., top 10% quantile)\n",
    "high_duration_threshold = unplanned_maintenance['Maintenance_Duration_Days'].quantile(0.9)\n",
    "high_duration_unplanned = unplanned_maintenance[unplanned_maintenance['Maintenance_Duration_Days'] > high_duration_threshold]\n",
    "\n",
    "# Analyze equipment responsible for long unplanned maintenance durations\n",
    "high_duration_equipment = high_duration_unplanned['EQUIPMENT_ID'].value_counts().head(5)\n",
    "print(\"Top Equipment Causing Long Unplanned Maintenance Durations:\\n\", high_duration_equipment)"
   ]
  },
  {
   "cell_type": "markdown",
   "id": "134b14c4",
   "metadata": {},
   "source": [
    "The equipment IDs listed above are responsible for the highest numbers of long unplanned maintenance durations"
   ]
  },
  {
   "cell_type": "markdown",
   "id": "6d04c648",
   "metadata": {},
   "source": [
    "# Conclusion\n",
    "This exploratory data analysis reveals significant insights into the dataset:\n",
    "\n",
    "Key Findings:\n",
    "1. Maintenance durations are generally short, but extreme outliers (e.g., 1,537 days) indicate inefficiencies or data inconsistencies.\n",
    "2. Unplanned maintenance takes significantly longer on average than planned maintenance, highlighting operational challenges.\n",
    "3. Plants like G291 and G221 and equipment like ID 300017654 are top contributors to prolonged unplanned maintenance durations.\n",
    "4. Equipment age doesn’t show a strong linear correlation with maintenance duration but may still influence certain unplanned tasks.\n",
    "\n",
    "Operational Insights:\n",
    "1. G261, G221, and G291 have the highest volume of unplanned maintenance, which suggests areas to prioritize for resource allocation and process improvements.\n",
    "2. Preventive maintenance appears effective, as planned tasks generally have shorter durations.\n"
   ]
  },
  {
   "cell_type": "markdown",
   "id": "61b24508",
   "metadata": {},
   "source": [
    "## What Can We Do Further?\n",
    "Predictive Maintenance Modeling: we can predict which equipment or plant is likely to require unplanned maintenance or experience long durations by building a predictive model.\n"
   ]
  }
 ],
 "metadata": {
  "kernelspec": {
   "display_name": "Python 3 (ipykernel)",
   "language": "python",
   "name": "python3"
  },
  "language_info": {
   "codemirror_mode": {
    "name": "ipython",
    "version": 3
   },
   "file_extension": ".py",
   "mimetype": "text/x-python",
   "name": "python",
   "nbconvert_exporter": "python",
   "pygments_lexer": "ipython3",
   "version": "3.9.13"
  }
 },
 "nbformat": 4,
 "nbformat_minor": 5
}
