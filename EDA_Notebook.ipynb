{
 "cells": [
  {
   "cell_type": "markdown",
   "metadata": {
    "id": "8ZHYR1PYhOvg"
   },
   "source": [
    "# Table of Contents <a id = 'scrollTo=8ZHYR1PYhOvg'></a>"
   ]
  },
  {
   "cell_type": "markdown",
   "metadata": {
    "colab_type": "toc",
    "id": "2JQpPzMKhurw"
   },
   "source": [
    ">[Table of Contents](#scrollTo=8ZHYR1PYhOvg)\n",
    "\n",
    ">>>[Import Packages](#scrollTo=6bPDSyZmoGl4)\n",
    "\n",
    ">>[Introduction](#scrollTo=WJAjUmtVDPhy)\n",
    "\n",
    ">>>[Background](#scrollTo=aauUjn_GmrdC)\n",
    "\n",
    ">>>[Requirements](#scrollTo=5NkkGqwaYqQM)\n",
    "\n",
    ">>>[Import Data](#scrollTo=f6iVCKMtoAAw)\n",
    "\n",
    ">>>[Date type coversion](#scrollTo=wdZW3n2bPhd-)\n",
    "\n",
    ">>[Description of Entire Data](#scrollTo=pxXfLW4JCXBK)\n",
    "\n",
    ">>>[Metadata](#scrollTo=GNt7txExmpTC)\n",
    "\n",
    ">>[Handling Missing data](#scrollTo=OhDlj7AwCmyS)\n",
    "\n",
    ">>[Exploratory visualizations and/or summary tables](#scrollTo=hkyshRt6DTdq)\n",
    "\n",
    ">>>[Execution Time Pattern](#scrollTo=5184nso0lkFT)\n",
    "\n",
    ">>>[Production Location (Plant) Distribution](#scrollTo=denH1qpmdnQH)\n",
    "\n",
    ">>>[Actual work time in minutes](#scrollTo=vS__isyWeJGi)\n",
    "\n",
    ">>>[Maintainance Activity Type (Planned vs Unplanned)](#scrollTo=uqX0V4kyf3sq)\n",
    "\n",
    ">>>[Fuctional Location Code Frequency](#scrollTo=hAPRIj8olJC8)\n",
    "\n",
    ">>>[Machine (Functional area node #4) distribution](#scrollTo=agdhjgah)\n",
    "\n",
    ">>>[Unplanned maintenance orders](#scrollTo=R3gHY1NngEl7)\n",
    "\n",
    ">>>[Order Description](#scrollTo=piKhHRxmo5Qq)\n",
    "\n",
    ">>[Summary](#scrollTo=uEltcAiqmOmB)\n",
    "\n",
    ">>[Group Member Contribution](#scrollTo=gmc)"
   ]
  },
  {
   "cell_type": "markdown",
   "metadata": {
    "id": "6bPDSyZmoGl4"
   },
   "source": [
    "### Import Packages <a id = 'scrollTo=6bPDSyZmoGl4'></a>"
   ]
  },
  {
   "cell_type": "code",
   "execution_count": 190,
   "metadata": {
    "id": "vCRqKBit-4Sz"
   },
   "outputs": [],
   "source": [
    "# Import packages\n",
    "import numpy as np\n",
    "import pandas as pd\n",
    "import matplotlib.pyplot as plt\n",
    "import seaborn as sns\n",
    "import warnings\n",
    "import matplotlib.colors as mcolors\n",
    "from wordcloud import WordCloud\n",
    "warnings.filterwarnings('ignore')\n",
    "pd.set_option('display.max_columns', None)"
   ]
  },
  {
   "cell_type": "markdown",
   "metadata": {
    "id": "WJAjUmtVDPhy"
   },
   "source": [
    "## Introduction <a id = 'scrollTo=WJAjUmtVDPhy'></a>"
   ]
  },
  {
   "cell_type": "markdown",
   "metadata": {
    "id": "aauUjn_GmrdC"
   },
   "source": [
    "### Background <a id = 'scrollTo=aauUjn_GmrdC'></a>\n",
    "**State the project goal and summarize the business and analytic problems.**\n",
    "\n",
    "In Swire Coca-Cola's production processes, manufacturing machines occasionally face unexpected mechanical breakdowns, leading to nearly $60 million in annual losses.\n",
    "\n",
    "By analyzing the downtimes recorded in the Internal Warehouse Controller (IWC), we aim to understand the severity of these downtimes across different plants, identify the factors causing the breakdowns, and explore preventive methods to reduce the associated opportunity costs."
   ]
  },
  {
   "cell_type": "markdown",
   "metadata": {
    "id": "5NkkGqwaYqQM"
   },
   "source": [
    "### Requirements <a id = 'scrollTo=5NkkGqwaYqQM'></a>\n",
    "**State the purpose of the EDA notebook and the questions about the data that you will be exploring.**\n",
    "\n",
    "EDA notebook aim to identify the main reasons and answer the following questions.\n",
    "\n",
    "- Are there any time-related patterns in maintenance issues over the given time period?\n",
    "- How long does maintenance time take per each plant (production location) in average?\n",
    "- What is the average and median maintenance time to resolve issues, and how much longer do unplanned issues take compared to planned ones?\n",
    "- Which plant has the most frequent maintenance issues, and what factors contribute to this?\n",
    "- Which component/part is most vulnerable within the manufacurting process?"
   ]
  },
  {
   "cell_type": "markdown",
   "metadata": {
    "id": "f6iVCKMtoAAw"
   },
   "source": [
    "### Import Data <a id = 'scrollTo=f6iVCKMtoAAw'></a>"
   ]
  },
  {
   "cell_type": "code",
   "execution_count": 109,
   "metadata": {
    "id": "u0j93LsjANun"
   },
   "outputs": [],
   "source": [
    "# Import data\n",
    "df = pd.read_csv('IWC_Work_Orders_Extract.csv')"
   ]
  },
  {
   "cell_type": "markdown",
   "metadata": {
    "id": "wdZW3n2bPhd-"
   },
   "source": [
    "### Date type coversion <a id = 'scrollTo=wdZW3n2bPhd-'></a>"
   ]
  },
  {
   "cell_type": "code",
   "execution_count": 110,
   "metadata": {
    "id": "mVQggNklNV3y"
   },
   "outputs": [],
   "source": [
    "# Convert numeric data to date type data\n",
    "df['EXECUTION_START_DATE'] = pd.to_datetime(df['EXECUTION_START_DATE'])\n",
    "df['EXECUTION_FINISH_DATE'] = pd.to_datetime(df['EXECUTION_FINISH_DATE'])\n",
    "df['EQUIP_START_UP_DATE'] = pd.to_datetime(df['EQUIP_START_UP_DATE'])\n",
    "df['EQUIP_VALID_FROM'] = pd.to_datetime(df['EQUIP_VALID_FROM'])"
   ]
  },
  {
   "cell_type": "code",
   "execution_count": 112,
   "metadata": {},
   "outputs": [],
   "source": [
    "# Calculate \"before functional duration\": the time when the machine was acquired to the time when it became functional\n",
    "df['B_FUNCTIONAL_DURATION'] =  df['EQUIP_VALID_FROM'] - df['EQUIP_START_UP_DATE']"
   ]
  },
  {
   "cell_type": "code",
   "execution_count": 113,
   "metadata": {
    "colab": {
     "base_uri": "https://localhost:8080/",
     "height": 1000
    },
    "id": "eGB4es_hBzKZ",
    "outputId": "84c19c52-2e74-4f44-fa99-c528dae1a92b"
   },
   "outputs": [
    {
     "data": {
      "text/html": [
       "<div>\n",
       "<style scoped>\n",
       "    .dataframe tbody tr th:only-of-type {\n",
       "        vertical-align: middle;\n",
       "    }\n",
       "\n",
       "    .dataframe tbody tr th {\n",
       "        vertical-align: top;\n",
       "    }\n",
       "\n",
       "    .dataframe thead th {\n",
       "        text-align: right;\n",
       "    }\n",
       "</style>\n",
       "<table border=\"1\" class=\"dataframe\">\n",
       "  <thead>\n",
       "    <tr style=\"text-align: right;\">\n",
       "      <th></th>\n",
       "      <th>ORDER_ID</th>\n",
       "      <th>PLANT_ID</th>\n",
       "      <th>PRODUCTION_LOCATION</th>\n",
       "      <th>EXECUTION_START_DATE</th>\n",
       "      <th>EXECUTION_FINISH_DATE</th>\n",
       "      <th>ACTUAL_START_TIME</th>\n",
       "      <th>ACTUAL_FINISH_TIME</th>\n",
       "      <th>ACTUAL_WORK_IN_MINUTES</th>\n",
       "      <th>MAINTENANCE_PLAN</th>\n",
       "      <th>MAINTENANCE_ITEM</th>\n",
       "      <th>MAINTENANCE_ACTIVITY_TYPE</th>\n",
       "      <th>ORDER_DESCRIPTION</th>\n",
       "      <th>MAINTENANCE_TYPE_DESCRIPTION</th>\n",
       "      <th>FUNCTIONAL_LOC</th>\n",
       "      <th>FUNCTIONAL_AREA_NODE_1_MODIFIED</th>\n",
       "      <th>FUNCTIONAL_AREA_NODE_2_MODIFIED</th>\n",
       "      <th>FUNCTIONAL_AREA_NODE_3_MODIFIED</th>\n",
       "      <th>FUNCTIONAL_AREA_NODE_4_MODIFIED</th>\n",
       "      <th>FUNCTIONAL_AREA_NODE_5_MODIFIED</th>\n",
       "      <th>EQUIPMENT_ID</th>\n",
       "      <th>EQUIPMENT_DESC</th>\n",
       "      <th>EQUIP_CAT_DESC</th>\n",
       "      <th>EQUIP_START_UP_DATE</th>\n",
       "      <th>EQUIP_VALID_FROM</th>\n",
       "      <th>EQUIP_VALID_TO</th>\n",
       "      <th>B_FUNCTIONAL_DURATION</th>\n",
       "    </tr>\n",
       "  </thead>\n",
       "  <tbody>\n",
       "    <tr>\n",
       "      <th>1244918</th>\n",
       "      <td>704403603</td>\n",
       "      <td>G261</td>\n",
       "      <td>SILVERSTONE</td>\n",
       "      <td>2023-01-05</td>\n",
       "      <td>2023-01-05</td>\n",
       "      <td>07:00:00.000</td>\n",
       "      <td>07:00:00.000</td>\n",
       "      <td>66.0</td>\n",
       "      <td>G261TR1267</td>\n",
       "      <td>113244.0</td>\n",
       "      <td>Planned</td>\n",
       "      <td>WEEKLY PM AGV #1 WEEKLY PM AGV #1</td>\n",
       "      <td>Preventive Maintenance Order</td>\n",
       "      <td>G261-PRD-L45</td>\n",
       "      <td>SILVERSTONE PRODUCTION</td>\n",
       "      <td>COMMON EQUIPMENT</td>\n",
       "      <td>NaN</td>\n",
       "      <td>NaN</td>\n",
       "      <td>NaN</td>\n",
       "      <td>300019086.0</td>\n",
       "      <td>NaN</td>\n",
       "      <td>NaN</td>\n",
       "      <td>NaT</td>\n",
       "      <td>NaT</td>\n",
       "      <td>NaN</td>\n",
       "      <td>NaT</td>\n",
       "    </tr>\n",
       "    <tr>\n",
       "      <th>1288552</th>\n",
       "      <td>704624901</td>\n",
       "      <td>G221</td>\n",
       "      <td>SUZUKA</td>\n",
       "      <td>2023-04-20</td>\n",
       "      <td>2023-04-20</td>\n",
       "      <td>07:00:00.000</td>\n",
       "      <td>07:00:00.000</td>\n",
       "      <td>30.0</td>\n",
       "      <td>G221VJ1026</td>\n",
       "      <td>90373.0</td>\n",
       "      <td>Planned</td>\n",
       "      <td>PUMP HFCS #1 FOR MECH WHILE OPERATING</td>\n",
       "      <td>Preventive Maintenance Order</td>\n",
       "      <td>G221-PRD-P80-S02</td>\n",
       "      <td>SUZUKA PRODUCTION</td>\n",
       "      <td>SYRUP/BLENDING  ROOM</td>\n",
       "      <td>SYRYUP BULK INGREDIENTS</td>\n",
       "      <td>NaN</td>\n",
       "      <td>NaN</td>\n",
       "      <td>300009645.0</td>\n",
       "      <td>NaN</td>\n",
       "      <td>NaN</td>\n",
       "      <td>NaT</td>\n",
       "      <td>NaT</td>\n",
       "      <td>NaN</td>\n",
       "      <td>NaT</td>\n",
       "    </tr>\n",
       "    <tr>\n",
       "      <th>16722</th>\n",
       "      <td>170000479859</td>\n",
       "      <td>G261</td>\n",
       "      <td>SILVERSTONE</td>\n",
       "      <td>2018-10-29</td>\n",
       "      <td>2018-10-29</td>\n",
       "      <td>18:54:00.000</td>\n",
       "      <td>18:54:00.000</td>\n",
       "      <td>0.0</td>\n",
       "      <td>NaN</td>\n",
       "      <td>NaN</td>\n",
       "      <td>Unplanned</td>\n",
       "      <td>NaN</td>\n",
       "      <td>NaN</td>\n",
       "      <td>NaN</td>\n",
       "      <td>NaN</td>\n",
       "      <td>NaN</td>\n",
       "      <td>NaN</td>\n",
       "      <td>NaN</td>\n",
       "      <td>NaN</td>\n",
       "      <td>NaN</td>\n",
       "      <td>NaN</td>\n",
       "      <td>NaN</td>\n",
       "      <td>NaT</td>\n",
       "      <td>NaT</td>\n",
       "      <td>NaN</td>\n",
       "      <td>NaT</td>\n",
       "    </tr>\n",
       "    <tr>\n",
       "      <th>309591</th>\n",
       "      <td>900617367</td>\n",
       "      <td>G261</td>\n",
       "      <td>SILVERSTONE</td>\n",
       "      <td>2019-01-24</td>\n",
       "      <td>2019-01-24</td>\n",
       "      <td>21:56:00.000</td>\n",
       "      <td>21:56:00.000</td>\n",
       "      <td>0.0</td>\n",
       "      <td>NaN</td>\n",
       "      <td>NaN</td>\n",
       "      <td>Unplanned</td>\n",
       "      <td>NaN</td>\n",
       "      <td>NaN</td>\n",
       "      <td>NaN</td>\n",
       "      <td>NaN</td>\n",
       "      <td>NaN</td>\n",
       "      <td>NaN</td>\n",
       "      <td>NaN</td>\n",
       "      <td>NaN</td>\n",
       "      <td>NaN</td>\n",
       "      <td>NaN</td>\n",
       "      <td>NaN</td>\n",
       "      <td>NaT</td>\n",
       "      <td>NaT</td>\n",
       "      <td>NaN</td>\n",
       "      <td>NaT</td>\n",
       "    </tr>\n",
       "    <tr>\n",
       "      <th>100684</th>\n",
       "      <td>1000411093</td>\n",
       "      <td>G812</td>\n",
       "      <td>ROMA</td>\n",
       "      <td>2018-11-10</td>\n",
       "      <td>2018-11-10</td>\n",
       "      <td>00:00:00.000</td>\n",
       "      <td>00:00:00.000</td>\n",
       "      <td>0.0</td>\n",
       "      <td>NaN</td>\n",
       "      <td>NaN</td>\n",
       "      <td>Unplanned</td>\n",
       "      <td>NaN</td>\n",
       "      <td>NaN</td>\n",
       "      <td>NaN</td>\n",
       "      <td>NaN</td>\n",
       "      <td>NaN</td>\n",
       "      <td>NaN</td>\n",
       "      <td>NaN</td>\n",
       "      <td>NaN</td>\n",
       "      <td>NaN</td>\n",
       "      <td>NaN</td>\n",
       "      <td>NaN</td>\n",
       "      <td>NaT</td>\n",
       "      <td>NaT</td>\n",
       "      <td>NaN</td>\n",
       "      <td>NaT</td>\n",
       "    </tr>\n",
       "    <tr>\n",
       "      <th>1052241</th>\n",
       "      <td>1000293999</td>\n",
       "      <td>G812</td>\n",
       "      <td>ROMA</td>\n",
       "      <td>2018-07-18</td>\n",
       "      <td>2018-07-18</td>\n",
       "      <td>00:00:00.000</td>\n",
       "      <td>00:00:00.000</td>\n",
       "      <td>0.0</td>\n",
       "      <td>NaN</td>\n",
       "      <td>NaN</td>\n",
       "      <td>Unplanned</td>\n",
       "      <td>NaN</td>\n",
       "      <td>NaN</td>\n",
       "      <td>NaN</td>\n",
       "      <td>NaN</td>\n",
       "      <td>NaN</td>\n",
       "      <td>NaN</td>\n",
       "      <td>NaN</td>\n",
       "      <td>NaN</td>\n",
       "      <td>NaN</td>\n",
       "      <td>NaN</td>\n",
       "      <td>NaN</td>\n",
       "      <td>NaT</td>\n",
       "      <td>NaT</td>\n",
       "      <td>NaN</td>\n",
       "      <td>NaT</td>\n",
       "    </tr>\n",
       "    <tr>\n",
       "      <th>833895</th>\n",
       "      <td>600205765</td>\n",
       "      <td>G221</td>\n",
       "      <td>SUZUKA</td>\n",
       "      <td>2017-06-12</td>\n",
       "      <td>2017-06-14</td>\n",
       "      <td>15:03:04.000</td>\n",
       "      <td>22:18:49.000</td>\n",
       "      <td>110.4</td>\n",
       "      <td>NaN</td>\n",
       "      <td>NaN</td>\n",
       "      <td>Unplanned</td>\n",
       "      <td>NaN</td>\n",
       "      <td>NaN</td>\n",
       "      <td>NaN</td>\n",
       "      <td>NaN</td>\n",
       "      <td>NaN</td>\n",
       "      <td>NaN</td>\n",
       "      <td>NaN</td>\n",
       "      <td>NaN</td>\n",
       "      <td>NaN</td>\n",
       "      <td>NaN</td>\n",
       "      <td>NaN</td>\n",
       "      <td>NaT</td>\n",
       "      <td>NaT</td>\n",
       "      <td>NaN</td>\n",
       "      <td>NaT</td>\n",
       "    </tr>\n",
       "    <tr>\n",
       "      <th>1609</th>\n",
       "      <td>703797826</td>\n",
       "      <td>G816</td>\n",
       "      <td>COTA</td>\n",
       "      <td>2022-06-02</td>\n",
       "      <td>2022-06-02</td>\n",
       "      <td>06:00:00.000</td>\n",
       "      <td>06:00:00.000</td>\n",
       "      <td>60.0</td>\n",
       "      <td>NaN</td>\n",
       "      <td>NaN</td>\n",
       "      <td>Unplanned</td>\n",
       "      <td>VALVE #5 #51 REPLACED</td>\n",
       "      <td>Corrective Maintenance Order</td>\n",
       "      <td>G816-PRD-L15-L01-L080</td>\n",
       "      <td>COTA PRODUCTION</td>\n",
       "      <td>CAN LINE</td>\n",
       "      <td>LINE #1-CAN_LINE</td>\n",
       "      <td>FILLER</td>\n",
       "      <td>NaN</td>\n",
       "      <td>300115000.0</td>\n",
       "      <td>L1 FILLER_ROTARY_CAN_72_VALVE</td>\n",
       "      <td>Machines</td>\n",
       "      <td>2019-10-10</td>\n",
       "      <td>2019-10-06</td>\n",
       "      <td>9999-12-31</td>\n",
       "      <td>-4 days</td>\n",
       "    </tr>\n",
       "    <tr>\n",
       "      <th>916973</th>\n",
       "      <td>200003964124</td>\n",
       "      <td>G291</td>\n",
       "      <td>MONZA</td>\n",
       "      <td>2023-12-05</td>\n",
       "      <td>2024-01-04</td>\n",
       "      <td>17:01:00.000</td>\n",
       "      <td>22:25:00.000</td>\n",
       "      <td>252.0</td>\n",
       "      <td>NaN</td>\n",
       "      <td>NaN</td>\n",
       "      <td>Unplanned</td>\n",
       "      <td>NaN</td>\n",
       "      <td>NaN</td>\n",
       "      <td>NaN</td>\n",
       "      <td>NaN</td>\n",
       "      <td>NaN</td>\n",
       "      <td>NaN</td>\n",
       "      <td>NaN</td>\n",
       "      <td>NaN</td>\n",
       "      <td>NaN</td>\n",
       "      <td>NaN</td>\n",
       "      <td>NaN</td>\n",
       "      <td>NaT</td>\n",
       "      <td>NaT</td>\n",
       "      <td>NaN</td>\n",
       "      <td>NaT</td>\n",
       "    </tr>\n",
       "    <tr>\n",
       "      <th>892194</th>\n",
       "      <td>200002713364</td>\n",
       "      <td>G221</td>\n",
       "      <td>SUZUKA</td>\n",
       "      <td>2021-08-28</td>\n",
       "      <td>2021-08-28</td>\n",
       "      <td>00:10:00.000</td>\n",
       "      <td>00:44:00.000</td>\n",
       "      <td>34.0</td>\n",
       "      <td>NaN</td>\n",
       "      <td>NaN</td>\n",
       "      <td>Unplanned</td>\n",
       "      <td>NaN</td>\n",
       "      <td>NaN</td>\n",
       "      <td>NaN</td>\n",
       "      <td>NaN</td>\n",
       "      <td>NaN</td>\n",
       "      <td>NaN</td>\n",
       "      <td>NaN</td>\n",
       "      <td>NaN</td>\n",
       "      <td>NaN</td>\n",
       "      <td>NaN</td>\n",
       "      <td>NaN</td>\n",
       "      <td>NaT</td>\n",
       "      <td>NaT</td>\n",
       "      <td>NaN</td>\n",
       "      <td>NaT</td>\n",
       "    </tr>\n",
       "    <tr>\n",
       "      <th>544758</th>\n",
       "      <td>612660705</td>\n",
       "      <td>G261</td>\n",
       "      <td>SILVERSTONE</td>\n",
       "      <td>2022-12-08</td>\n",
       "      <td>2022-12-08</td>\n",
       "      <td>16:09:53.000</td>\n",
       "      <td>19:23:36.000</td>\n",
       "      <td>192.0</td>\n",
       "      <td>NaN</td>\n",
       "      <td>NaN</td>\n",
       "      <td>Unplanned</td>\n",
       "      <td>NaN</td>\n",
       "      <td>NaN</td>\n",
       "      <td>NaN</td>\n",
       "      <td>NaN</td>\n",
       "      <td>NaN</td>\n",
       "      <td>NaN</td>\n",
       "      <td>NaN</td>\n",
       "      <td>NaN</td>\n",
       "      <td>NaN</td>\n",
       "      <td>NaN</td>\n",
       "      <td>NaN</td>\n",
       "      <td>NaT</td>\n",
       "      <td>NaT</td>\n",
       "      <td>NaN</td>\n",
       "      <td>NaT</td>\n",
       "    </tr>\n",
       "    <tr>\n",
       "      <th>1155337</th>\n",
       "      <td>701798412</td>\n",
       "      <td>G261</td>\n",
       "      <td>SILVERSTONE</td>\n",
       "      <td>2019-12-10</td>\n",
       "      <td>2019-12-10</td>\n",
       "      <td>07:00:00.000</td>\n",
       "      <td>07:00:00.000</td>\n",
       "      <td>30.0</td>\n",
       "      <td>G2612129</td>\n",
       "      <td>113066.0</td>\n",
       "      <td>Planned</td>\n",
       "      <td>CHANGE BANJO GEARBOX INTERNAL FILTER</td>\n",
       "      <td>Preventive Maintenance Order</td>\n",
       "      <td>G261-PRD-L15-L04-L150</td>\n",
       "      <td>SILVERSTONE PRODUCTION</td>\n",
       "      <td>LINES 3,4,10 - CAN LINES</td>\n",
       "      <td>LINE #4-FILLER_ROTARY_CAN</td>\n",
       "      <td>SEAMER, ROTARY</td>\n",
       "      <td>NaN</td>\n",
       "      <td>300019209.0</td>\n",
       "      <td>NaN</td>\n",
       "      <td>NaN</td>\n",
       "      <td>NaT</td>\n",
       "      <td>NaT</td>\n",
       "      <td>NaN</td>\n",
       "      <td>NaT</td>\n",
       "    </tr>\n",
       "    <tr>\n",
       "      <th>400435</th>\n",
       "      <td>704709358</td>\n",
       "      <td>G261</td>\n",
       "      <td>SILVERSTONE</td>\n",
       "      <td>2023-04-18</td>\n",
       "      <td>2023-04-18</td>\n",
       "      <td>06:00:00.000</td>\n",
       "      <td>06:00:00.000</td>\n",
       "      <td>30.0</td>\n",
       "      <td>G261TR5143</td>\n",
       "      <td>113110.0</td>\n",
       "      <td>Planned</td>\n",
       "      <td>FILTEC, CL3 FOR LUB WHILE OPERATING</td>\n",
       "      <td>Preventive Maintenance Order</td>\n",
       "      <td>G261-PRD-L15-L03-L070</td>\n",
       "      <td>SILVERSTONE PRODUCTION</td>\n",
       "      <td>LINES 3,4,10 - CAN LINES</td>\n",
       "      <td>LINE #3-FILLER_ROTARY_CAN</td>\n",
       "      <td>DETECTOR, PRODUCT</td>\n",
       "      <td>NaN</td>\n",
       "      <td>300017317.0</td>\n",
       "      <td>NaN</td>\n",
       "      <td>NaN</td>\n",
       "      <td>NaT</td>\n",
       "      <td>NaT</td>\n",
       "      <td>NaN</td>\n",
       "      <td>NaT</td>\n",
       "    </tr>\n",
       "    <tr>\n",
       "      <th>301017</th>\n",
       "      <td>205824369</td>\n",
       "      <td>G221</td>\n",
       "      <td>SUZUKA</td>\n",
       "      <td>2021-04-09</td>\n",
       "      <td>2021-04-09</td>\n",
       "      <td>19:57:00.000</td>\n",
       "      <td>20:32:00.000</td>\n",
       "      <td>35.0</td>\n",
       "      <td>NaN</td>\n",
       "      <td>NaN</td>\n",
       "      <td>Unplanned</td>\n",
       "      <td>NaN</td>\n",
       "      <td>NaN</td>\n",
       "      <td>NaN</td>\n",
       "      <td>NaN</td>\n",
       "      <td>NaN</td>\n",
       "      <td>NaN</td>\n",
       "      <td>NaN</td>\n",
       "      <td>NaN</td>\n",
       "      <td>NaN</td>\n",
       "      <td>NaN</td>\n",
       "      <td>NaN</td>\n",
       "      <td>NaT</td>\n",
       "      <td>NaT</td>\n",
       "      <td>NaN</td>\n",
       "      <td>NaT</td>\n",
       "    </tr>\n",
       "    <tr>\n",
       "      <th>1371054</th>\n",
       "      <td>200002122956</td>\n",
       "      <td>G291</td>\n",
       "      <td>MONZA</td>\n",
       "      <td>2020-07-07</td>\n",
       "      <td>2020-07-07</td>\n",
       "      <td>23:08:00.000</td>\n",
       "      <td>23:38:00.000</td>\n",
       "      <td>30.0</td>\n",
       "      <td>NaN</td>\n",
       "      <td>NaN</td>\n",
       "      <td>Unplanned</td>\n",
       "      <td>NaN</td>\n",
       "      <td>NaN</td>\n",
       "      <td>NaN</td>\n",
       "      <td>NaN</td>\n",
       "      <td>NaN</td>\n",
       "      <td>NaN</td>\n",
       "      <td>NaN</td>\n",
       "      <td>NaN</td>\n",
       "      <td>NaN</td>\n",
       "      <td>NaN</td>\n",
       "      <td>NaN</td>\n",
       "      <td>NaT</td>\n",
       "      <td>NaT</td>\n",
       "      <td>NaN</td>\n",
       "      <td>NaT</td>\n",
       "    </tr>\n",
       "    <tr>\n",
       "      <th>809052</th>\n",
       "      <td>170001888750</td>\n",
       "      <td>G261</td>\n",
       "      <td>SILVERSTONE</td>\n",
       "      <td>2022-05-24</td>\n",
       "      <td>2022-05-24</td>\n",
       "      <td>03:30:00.000</td>\n",
       "      <td>04:00:00.000</td>\n",
       "      <td>30.0</td>\n",
       "      <td>NaN</td>\n",
       "      <td>NaN</td>\n",
       "      <td>Unplanned</td>\n",
       "      <td>NaN</td>\n",
       "      <td>NaN</td>\n",
       "      <td>NaN</td>\n",
       "      <td>NaN</td>\n",
       "      <td>NaN</td>\n",
       "      <td>NaN</td>\n",
       "      <td>NaN</td>\n",
       "      <td>NaN</td>\n",
       "      <td>NaN</td>\n",
       "      <td>NaN</td>\n",
       "      <td>NaN</td>\n",
       "      <td>NaT</td>\n",
       "      <td>NaT</td>\n",
       "      <td>NaN</td>\n",
       "      <td>NaT</td>\n",
       "    </tr>\n",
       "    <tr>\n",
       "      <th>179205</th>\n",
       "      <td>705155935</td>\n",
       "      <td>G261</td>\n",
       "      <td>SILVERSTONE</td>\n",
       "      <td>2023-10-26</td>\n",
       "      <td>2023-10-26</td>\n",
       "      <td>06:00:00.000</td>\n",
       "      <td>06:00:00.000</td>\n",
       "      <td>45.0</td>\n",
       "      <td>G261TR5004</td>\n",
       "      <td>113635.0</td>\n",
       "      <td>Planned</td>\n",
       "      <td>DOUGLAS SHRINKWRAPPER FOR LUB WHILE SHUT</td>\n",
       "      <td>Preventive Maintenance Order</td>\n",
       "      <td>G261-PRD-L15-L03-L120</td>\n",
       "      <td>SILVERSTONE PRODUCTION</td>\n",
       "      <td>LINES 3,4,10 - CAN LINES</td>\n",
       "      <td>LINE #3-FILLER_ROTARY_CAN</td>\n",
       "      <td>PACKER</td>\n",
       "      <td>NaN</td>\n",
       "      <td>300019255.0</td>\n",
       "      <td>NaN</td>\n",
       "      <td>NaN</td>\n",
       "      <td>NaT</td>\n",
       "      <td>NaT</td>\n",
       "      <td>NaN</td>\n",
       "      <td>NaT</td>\n",
       "    </tr>\n",
       "    <tr>\n",
       "      <th>248968</th>\n",
       "      <td>200002330458</td>\n",
       "      <td>G261</td>\n",
       "      <td>SILVERSTONE</td>\n",
       "      <td>2020-12-04</td>\n",
       "      <td>2020-12-04</td>\n",
       "      <td>17:17:00.000</td>\n",
       "      <td>18:39:00.000</td>\n",
       "      <td>82.0</td>\n",
       "      <td>NaN</td>\n",
       "      <td>NaN</td>\n",
       "      <td>Unplanned</td>\n",
       "      <td>NaN</td>\n",
       "      <td>NaN</td>\n",
       "      <td>NaN</td>\n",
       "      <td>NaN</td>\n",
       "      <td>NaN</td>\n",
       "      <td>NaN</td>\n",
       "      <td>NaN</td>\n",
       "      <td>NaN</td>\n",
       "      <td>NaN</td>\n",
       "      <td>NaN</td>\n",
       "      <td>NaN</td>\n",
       "      <td>NaT</td>\n",
       "      <td>NaT</td>\n",
       "      <td>NaN</td>\n",
       "      <td>NaT</td>\n",
       "    </tr>\n",
       "    <tr>\n",
       "      <th>1244231</th>\n",
       "      <td>701808983</td>\n",
       "      <td>G261</td>\n",
       "      <td>SILVERSTONE</td>\n",
       "      <td>2019-11-08</td>\n",
       "      <td>2019-11-08</td>\n",
       "      <td>07:00:00.000</td>\n",
       "      <td>07:00:00.000</td>\n",
       "      <td>120.0</td>\n",
       "      <td>NaN</td>\n",
       "      <td>NaN</td>\n",
       "      <td>Unplanned</td>\n",
       "      <td>HELPED CLEAN AND READJUST ROBOT TOOL WAT</td>\n",
       "      <td>Corrective Maintenance Order</td>\n",
       "      <td>G261-PRD-L15-L04-L130</td>\n",
       "      <td>SILVERSTONE PRODUCTION</td>\n",
       "      <td>LINES 3,4,10 - CAN LINES</td>\n",
       "      <td>LINE #4-FILLER_ROTARY_CAN</td>\n",
       "      <td>PALLETIZER</td>\n",
       "      <td>NaN</td>\n",
       "      <td>300019218.0</td>\n",
       "      <td>NaN</td>\n",
       "      <td>NaN</td>\n",
       "      <td>NaT</td>\n",
       "      <td>NaT</td>\n",
       "      <td>NaN</td>\n",
       "      <td>NaT</td>\n",
       "    </tr>\n",
       "    <tr>\n",
       "      <th>1333883</th>\n",
       "      <td>702833660</td>\n",
       "      <td>G221</td>\n",
       "      <td>SUZUKA</td>\n",
       "      <td>2021-05-15</td>\n",
       "      <td>2021-05-15</td>\n",
       "      <td>07:00:00.000</td>\n",
       "      <td>07:00:00.000</td>\n",
       "      <td>54.0</td>\n",
       "      <td>G22124467</td>\n",
       "      <td>90533.0</td>\n",
       "      <td>Planned</td>\n",
       "      <td>W-SEAMER,INSPECT CHUCKS,MECH</td>\n",
       "      <td>Preventive Maintenance Order</td>\n",
       "      <td>G221-PRD-L15-L04-L150</td>\n",
       "      <td>SUZUKA PRODUCTION</td>\n",
       "      <td>L4 - FILLER_ROTARY_CAN</td>\n",
       "      <td>LINE #4-FILLER_ROTARY_CAN</td>\n",
       "      <td>SEAMER, ROTARY</td>\n",
       "      <td>NaN</td>\n",
       "      <td>300009161.0</td>\n",
       "      <td>NaN</td>\n",
       "      <td>NaN</td>\n",
       "      <td>NaT</td>\n",
       "      <td>NaT</td>\n",
       "      <td>NaN</td>\n",
       "      <td>NaT</td>\n",
       "    </tr>\n",
       "    <tr>\n",
       "      <th>578011</th>\n",
       "      <td>702537741</td>\n",
       "      <td>G221</td>\n",
       "      <td>SUZUKA</td>\n",
       "      <td>2020-10-20</td>\n",
       "      <td>2020-10-20</td>\n",
       "      <td>07:00:00.000</td>\n",
       "      <td>07:00:00.000</td>\n",
       "      <td>120.0</td>\n",
       "      <td>NaN</td>\n",
       "      <td>NaN</td>\n",
       "      <td>Unplanned</td>\n",
       "      <td>REPLACED BROKEN ANCHOR BOLT</td>\n",
       "      <td>Corrective Maintenance Order</td>\n",
       "      <td>G221-PRD-L15-L04-L120</td>\n",
       "      <td>SUZUKA PRODUCTION</td>\n",
       "      <td>L4 - FILLER_ROTARY_CAN</td>\n",
       "      <td>LINE #4-FILLER_ROTARY_CAN</td>\n",
       "      <td>PACKER</td>\n",
       "      <td>NaN</td>\n",
       "      <td>300009195.0</td>\n",
       "      <td>NaN</td>\n",
       "      <td>NaN</td>\n",
       "      <td>NaT</td>\n",
       "      <td>NaT</td>\n",
       "      <td>NaN</td>\n",
       "      <td>NaT</td>\n",
       "    </tr>\n",
       "    <tr>\n",
       "      <th>374318</th>\n",
       "      <td>100313546</td>\n",
       "      <td>G291</td>\n",
       "      <td>MONZA</td>\n",
       "      <td>2023-01-12</td>\n",
       "      <td>2023-01-12</td>\n",
       "      <td>18:55:00.000</td>\n",
       "      <td>18:55:00.000</td>\n",
       "      <td>0.0</td>\n",
       "      <td>NaN</td>\n",
       "      <td>NaN</td>\n",
       "      <td>Unplanned</td>\n",
       "      <td>NaN</td>\n",
       "      <td>NaN</td>\n",
       "      <td>NaN</td>\n",
       "      <td>NaN</td>\n",
       "      <td>NaN</td>\n",
       "      <td>NaN</td>\n",
       "      <td>NaN</td>\n",
       "      <td>NaN</td>\n",
       "      <td>NaN</td>\n",
       "      <td>NaN</td>\n",
       "      <td>NaN</td>\n",
       "      <td>NaT</td>\n",
       "      <td>NaT</td>\n",
       "      <td>NaN</td>\n",
       "      <td>NaT</td>\n",
       "    </tr>\n",
       "    <tr>\n",
       "      <th>680952</th>\n",
       "      <td>704803079</td>\n",
       "      <td>G816</td>\n",
       "      <td>COTA</td>\n",
       "      <td>2023-05-15</td>\n",
       "      <td>2023-05-15</td>\n",
       "      <td>06:00:00.000</td>\n",
       "      <td>06:00:00.000</td>\n",
       "      <td>76.8</td>\n",
       "      <td>NaN</td>\n",
       "      <td>NaN</td>\n",
       "      <td>Unplanned</td>\n",
       "      <td>NaN</td>\n",
       "      <td>NaN</td>\n",
       "      <td>NaN</td>\n",
       "      <td>NaN</td>\n",
       "      <td>NaN</td>\n",
       "      <td>NaN</td>\n",
       "      <td>NaN</td>\n",
       "      <td>NaN</td>\n",
       "      <td>NaN</td>\n",
       "      <td>NaN</td>\n",
       "      <td>NaN</td>\n",
       "      <td>NaT</td>\n",
       "      <td>NaT</td>\n",
       "      <td>NaN</td>\n",
       "      <td>NaT</td>\n",
       "    </tr>\n",
       "    <tr>\n",
       "      <th>1377863</th>\n",
       "      <td>704931973</td>\n",
       "      <td>G816</td>\n",
       "      <td>COTA</td>\n",
       "      <td>2023-07-09</td>\n",
       "      <td>2023-07-09</td>\n",
       "      <td>06:00:00.000</td>\n",
       "      <td>06:00:00.000</td>\n",
       "      <td>60.0</td>\n",
       "      <td>NaN</td>\n",
       "      <td>NaN</td>\n",
       "      <td>Unplanned</td>\n",
       "      <td>CHECK AND REFILL GREASE LINE 1,2,3</td>\n",
       "      <td>Administrative Order</td>\n",
       "      <td>G816-PRD-L30-L02-L080</td>\n",
       "      <td>COTA PRODUCTION</td>\n",
       "      <td>BOTTLE LINE</td>\n",
       "      <td>LINE #2 - BOTTLE_LINE_PET</td>\n",
       "      <td>FILLER</td>\n",
       "      <td>NaN</td>\n",
       "      <td>300025791.0</td>\n",
       "      <td>NaN</td>\n",
       "      <td>NaN</td>\n",
       "      <td>NaT</td>\n",
       "      <td>NaT</td>\n",
       "      <td>NaN</td>\n",
       "      <td>NaT</td>\n",
       "    </tr>\n",
       "    <tr>\n",
       "      <th>279122</th>\n",
       "      <td>200003754425</td>\n",
       "      <td>G291</td>\n",
       "      <td>MONZA</td>\n",
       "      <td>2023-07-21</td>\n",
       "      <td>2023-07-21</td>\n",
       "      <td>12:14:00.000</td>\n",
       "      <td>16:13:00.000</td>\n",
       "      <td>56.0</td>\n",
       "      <td>NaN</td>\n",
       "      <td>NaN</td>\n",
       "      <td>Unplanned</td>\n",
       "      <td>NaN</td>\n",
       "      <td>NaN</td>\n",
       "      <td>NaN</td>\n",
       "      <td>NaN</td>\n",
       "      <td>NaN</td>\n",
       "      <td>NaN</td>\n",
       "      <td>NaN</td>\n",
       "      <td>NaN</td>\n",
       "      <td>NaN</td>\n",
       "      <td>NaN</td>\n",
       "      <td>NaN</td>\n",
       "      <td>NaT</td>\n",
       "      <td>NaT</td>\n",
       "      <td>NaN</td>\n",
       "      <td>NaT</td>\n",
       "    </tr>\n",
       "    <tr>\n",
       "      <th>18063</th>\n",
       "      <td>902082308</td>\n",
       "      <td>G221</td>\n",
       "      <td>SUZUKA</td>\n",
       "      <td>2024-07-08</td>\n",
       "      <td>2024-07-08</td>\n",
       "      <td>12:33:00.000</td>\n",
       "      <td>16:32:00.000</td>\n",
       "      <td>0.0</td>\n",
       "      <td>NaN</td>\n",
       "      <td>NaN</td>\n",
       "      <td>Unplanned</td>\n",
       "      <td>NaN</td>\n",
       "      <td>NaN</td>\n",
       "      <td>NaN</td>\n",
       "      <td>NaN</td>\n",
       "      <td>NaN</td>\n",
       "      <td>NaN</td>\n",
       "      <td>NaN</td>\n",
       "      <td>NaN</td>\n",
       "      <td>NaN</td>\n",
       "      <td>NaN</td>\n",
       "      <td>NaN</td>\n",
       "      <td>NaT</td>\n",
       "      <td>NaT</td>\n",
       "      <td>NaN</td>\n",
       "      <td>NaT</td>\n",
       "    </tr>\n",
       "    <tr>\n",
       "      <th>395922</th>\n",
       "      <td>170000667045</td>\n",
       "      <td>G261</td>\n",
       "      <td>SILVERSTONE</td>\n",
       "      <td>2019-04-10</td>\n",
       "      <td>2019-04-10</td>\n",
       "      <td>13:57:00.000</td>\n",
       "      <td>15:05:00.000</td>\n",
       "      <td>68.0</td>\n",
       "      <td>NaN</td>\n",
       "      <td>NaN</td>\n",
       "      <td>Unplanned</td>\n",
       "      <td>NaN</td>\n",
       "      <td>NaN</td>\n",
       "      <td>NaN</td>\n",
       "      <td>NaN</td>\n",
       "      <td>NaN</td>\n",
       "      <td>NaN</td>\n",
       "      <td>NaN</td>\n",
       "      <td>NaN</td>\n",
       "      <td>NaN</td>\n",
       "      <td>NaN</td>\n",
       "      <td>NaN</td>\n",
       "      <td>NaT</td>\n",
       "      <td>NaT</td>\n",
       "      <td>NaN</td>\n",
       "      <td>NaT</td>\n",
       "    </tr>\n",
       "    <tr>\n",
       "      <th>993863</th>\n",
       "      <td>201846835</td>\n",
       "      <td>G221</td>\n",
       "      <td>SUZUKA</td>\n",
       "      <td>2018-04-03</td>\n",
       "      <td>2018-04-03</td>\n",
       "      <td>22:06:00.000</td>\n",
       "      <td>22:47:00.000</td>\n",
       "      <td>41.0</td>\n",
       "      <td>NaN</td>\n",
       "      <td>NaN</td>\n",
       "      <td>Unplanned</td>\n",
       "      <td>NaN</td>\n",
       "      <td>NaN</td>\n",
       "      <td>NaN</td>\n",
       "      <td>NaN</td>\n",
       "      <td>NaN</td>\n",
       "      <td>NaN</td>\n",
       "      <td>NaN</td>\n",
       "      <td>NaN</td>\n",
       "      <td>NaN</td>\n",
       "      <td>NaN</td>\n",
       "      <td>NaN</td>\n",
       "      <td>NaT</td>\n",
       "      <td>NaT</td>\n",
       "      <td>NaN</td>\n",
       "      <td>NaT</td>\n",
       "    </tr>\n",
       "    <tr>\n",
       "      <th>675193</th>\n",
       "      <td>202724550</td>\n",
       "      <td>G261</td>\n",
       "      <td>SILVERSTONE</td>\n",
       "      <td>2018-10-17</td>\n",
       "      <td>2018-10-17</td>\n",
       "      <td>19:51:00.000</td>\n",
       "      <td>20:47:00.000</td>\n",
       "      <td>56.0</td>\n",
       "      <td>NaN</td>\n",
       "      <td>NaN</td>\n",
       "      <td>Unplanned</td>\n",
       "      <td>NaN</td>\n",
       "      <td>NaN</td>\n",
       "      <td>NaN</td>\n",
       "      <td>NaN</td>\n",
       "      <td>NaN</td>\n",
       "      <td>NaN</td>\n",
       "      <td>NaN</td>\n",
       "      <td>NaN</td>\n",
       "      <td>NaN</td>\n",
       "      <td>NaN</td>\n",
       "      <td>NaN</td>\n",
       "      <td>NaT</td>\n",
       "      <td>NaT</td>\n",
       "      <td>NaN</td>\n",
       "      <td>NaT</td>\n",
       "    </tr>\n",
       "    <tr>\n",
       "      <th>346753</th>\n",
       "      <td>600235216</td>\n",
       "      <td>G221</td>\n",
       "      <td>SUZUKA</td>\n",
       "      <td>2017-08-02</td>\n",
       "      <td>2017-08-02</td>\n",
       "      <td>21:28:13.000</td>\n",
       "      <td>21:58:42.000</td>\n",
       "      <td>30.0</td>\n",
       "      <td>NaN</td>\n",
       "      <td>NaN</td>\n",
       "      <td>Unplanned</td>\n",
       "      <td>NaN</td>\n",
       "      <td>NaN</td>\n",
       "      <td>NaN</td>\n",
       "      <td>NaN</td>\n",
       "      <td>NaN</td>\n",
       "      <td>NaN</td>\n",
       "      <td>NaN</td>\n",
       "      <td>NaN</td>\n",
       "      <td>NaN</td>\n",
       "      <td>NaN</td>\n",
       "      <td>NaN</td>\n",
       "      <td>NaT</td>\n",
       "      <td>NaT</td>\n",
       "      <td>NaN</td>\n",
       "      <td>NaT</td>\n",
       "    </tr>\n",
       "  </tbody>\n",
       "</table>\n",
       "</div>"
      ],
      "text/plain": [
       "             ORDER_ID PLANT_ID PRODUCTION_LOCATION EXECUTION_START_DATE  \\\n",
       "1244918     704403603     G261         SILVERSTONE           2023-01-05   \n",
       "1288552     704624901     G221              SUZUKA           2023-04-20   \n",
       "16722    170000479859     G261         SILVERSTONE           2018-10-29   \n",
       "309591      900617367     G261         SILVERSTONE           2019-01-24   \n",
       "100684     1000411093     G812                ROMA           2018-11-10   \n",
       "1052241    1000293999     G812                ROMA           2018-07-18   \n",
       "833895      600205765     G221              SUZUKA           2017-06-12   \n",
       "1609        703797826     G816                COTA           2022-06-02   \n",
       "916973   200003964124     G291               MONZA           2023-12-05   \n",
       "892194   200002713364     G221              SUZUKA           2021-08-28   \n",
       "544758      612660705     G261         SILVERSTONE           2022-12-08   \n",
       "1155337     701798412     G261         SILVERSTONE           2019-12-10   \n",
       "400435      704709358     G261         SILVERSTONE           2023-04-18   \n",
       "301017      205824369     G221              SUZUKA           2021-04-09   \n",
       "1371054  200002122956     G291               MONZA           2020-07-07   \n",
       "809052   170001888750     G261         SILVERSTONE           2022-05-24   \n",
       "179205      705155935     G261         SILVERSTONE           2023-10-26   \n",
       "248968   200002330458     G261         SILVERSTONE           2020-12-04   \n",
       "1244231     701808983     G261         SILVERSTONE           2019-11-08   \n",
       "1333883     702833660     G221              SUZUKA           2021-05-15   \n",
       "578011      702537741     G221              SUZUKA           2020-10-20   \n",
       "374318      100313546     G291               MONZA           2023-01-12   \n",
       "680952      704803079     G816                COTA           2023-05-15   \n",
       "1377863     704931973     G816                COTA           2023-07-09   \n",
       "279122   200003754425     G291               MONZA           2023-07-21   \n",
       "18063       902082308     G221              SUZUKA           2024-07-08   \n",
       "395922   170000667045     G261         SILVERSTONE           2019-04-10   \n",
       "993863      201846835     G221              SUZUKA           2018-04-03   \n",
       "675193      202724550     G261         SILVERSTONE           2018-10-17   \n",
       "346753      600235216     G221              SUZUKA           2017-08-02   \n",
       "\n",
       "        EXECUTION_FINISH_DATE ACTUAL_START_TIME ACTUAL_FINISH_TIME  \\\n",
       "1244918            2023-01-05      07:00:00.000       07:00:00.000   \n",
       "1288552            2023-04-20      07:00:00.000       07:00:00.000   \n",
       "16722              2018-10-29      18:54:00.000       18:54:00.000   \n",
       "309591             2019-01-24      21:56:00.000       21:56:00.000   \n",
       "100684             2018-11-10      00:00:00.000       00:00:00.000   \n",
       "1052241            2018-07-18      00:00:00.000       00:00:00.000   \n",
       "833895             2017-06-14      15:03:04.000       22:18:49.000   \n",
       "1609               2022-06-02      06:00:00.000       06:00:00.000   \n",
       "916973             2024-01-04      17:01:00.000       22:25:00.000   \n",
       "892194             2021-08-28      00:10:00.000       00:44:00.000   \n",
       "544758             2022-12-08      16:09:53.000       19:23:36.000   \n",
       "1155337            2019-12-10      07:00:00.000       07:00:00.000   \n",
       "400435             2023-04-18      06:00:00.000       06:00:00.000   \n",
       "301017             2021-04-09      19:57:00.000       20:32:00.000   \n",
       "1371054            2020-07-07      23:08:00.000       23:38:00.000   \n",
       "809052             2022-05-24      03:30:00.000       04:00:00.000   \n",
       "179205             2023-10-26      06:00:00.000       06:00:00.000   \n",
       "248968             2020-12-04      17:17:00.000       18:39:00.000   \n",
       "1244231            2019-11-08      07:00:00.000       07:00:00.000   \n",
       "1333883            2021-05-15      07:00:00.000       07:00:00.000   \n",
       "578011             2020-10-20      07:00:00.000       07:00:00.000   \n",
       "374318             2023-01-12      18:55:00.000       18:55:00.000   \n",
       "680952             2023-05-15      06:00:00.000       06:00:00.000   \n",
       "1377863            2023-07-09      06:00:00.000       06:00:00.000   \n",
       "279122             2023-07-21      12:14:00.000       16:13:00.000   \n",
       "18063              2024-07-08      12:33:00.000       16:32:00.000   \n",
       "395922             2019-04-10      13:57:00.000       15:05:00.000   \n",
       "993863             2018-04-03      22:06:00.000       22:47:00.000   \n",
       "675193             2018-10-17      19:51:00.000       20:47:00.000   \n",
       "346753             2017-08-02      21:28:13.000       21:58:42.000   \n",
       "\n",
       "         ACTUAL_WORK_IN_MINUTES MAINTENANCE_PLAN  MAINTENANCE_ITEM  \\\n",
       "1244918                    66.0       G261TR1267          113244.0   \n",
       "1288552                    30.0       G221VJ1026           90373.0   \n",
       "16722                       0.0              NaN               NaN   \n",
       "309591                      0.0              NaN               NaN   \n",
       "100684                      0.0              NaN               NaN   \n",
       "1052241                     0.0              NaN               NaN   \n",
       "833895                    110.4              NaN               NaN   \n",
       "1609                       60.0              NaN               NaN   \n",
       "916973                    252.0              NaN               NaN   \n",
       "892194                     34.0              NaN               NaN   \n",
       "544758                    192.0              NaN               NaN   \n",
       "1155337                    30.0         G2612129          113066.0   \n",
       "400435                     30.0       G261TR5143          113110.0   \n",
       "301017                     35.0              NaN               NaN   \n",
       "1371054                    30.0              NaN               NaN   \n",
       "809052                     30.0              NaN               NaN   \n",
       "179205                     45.0       G261TR5004          113635.0   \n",
       "248968                     82.0              NaN               NaN   \n",
       "1244231                   120.0              NaN               NaN   \n",
       "1333883                    54.0        G22124467           90533.0   \n",
       "578011                    120.0              NaN               NaN   \n",
       "374318                      0.0              NaN               NaN   \n",
       "680952                     76.8              NaN               NaN   \n",
       "1377863                    60.0              NaN               NaN   \n",
       "279122                     56.0              NaN               NaN   \n",
       "18063                       0.0              NaN               NaN   \n",
       "395922                     68.0              NaN               NaN   \n",
       "993863                     41.0              NaN               NaN   \n",
       "675193                     56.0              NaN               NaN   \n",
       "346753                     30.0              NaN               NaN   \n",
       "\n",
       "        MAINTENANCE_ACTIVITY_TYPE                         ORDER_DESCRIPTION  \\\n",
       "1244918                   Planned         WEEKLY PM AGV #1 WEEKLY PM AGV #1   \n",
       "1288552                   Planned     PUMP HFCS #1 FOR MECH WHILE OPERATING   \n",
       "16722                   Unplanned                                       NaN   \n",
       "309591                  Unplanned                                       NaN   \n",
       "100684                  Unplanned                                       NaN   \n",
       "1052241                 Unplanned                                       NaN   \n",
       "833895                  Unplanned                                       NaN   \n",
       "1609                    Unplanned                     VALVE #5 #51 REPLACED   \n",
       "916973                  Unplanned                                       NaN   \n",
       "892194                  Unplanned                                       NaN   \n",
       "544758                  Unplanned                                       NaN   \n",
       "1155337                   Planned      CHANGE BANJO GEARBOX INTERNAL FILTER   \n",
       "400435                    Planned       FILTEC, CL3 FOR LUB WHILE OPERATING   \n",
       "301017                  Unplanned                                       NaN   \n",
       "1371054                 Unplanned                                       NaN   \n",
       "809052                  Unplanned                                       NaN   \n",
       "179205                    Planned  DOUGLAS SHRINKWRAPPER FOR LUB WHILE SHUT   \n",
       "248968                  Unplanned                                       NaN   \n",
       "1244231                 Unplanned  HELPED CLEAN AND READJUST ROBOT TOOL WAT   \n",
       "1333883                   Planned              W-SEAMER,INSPECT CHUCKS,MECH   \n",
       "578011                  Unplanned               REPLACED BROKEN ANCHOR BOLT   \n",
       "374318                  Unplanned                                       NaN   \n",
       "680952                  Unplanned                                       NaN   \n",
       "1377863                 Unplanned        CHECK AND REFILL GREASE LINE 1,2,3   \n",
       "279122                  Unplanned                                       NaN   \n",
       "18063                   Unplanned                                       NaN   \n",
       "395922                  Unplanned                                       NaN   \n",
       "993863                  Unplanned                                       NaN   \n",
       "675193                  Unplanned                                       NaN   \n",
       "346753                  Unplanned                                       NaN   \n",
       "\n",
       "         MAINTENANCE_TYPE_DESCRIPTION         FUNCTIONAL_LOC  \\\n",
       "1244918  Preventive Maintenance Order           G261-PRD-L45   \n",
       "1288552  Preventive Maintenance Order       G221-PRD-P80-S02   \n",
       "16722                             NaN                    NaN   \n",
       "309591                            NaN                    NaN   \n",
       "100684                            NaN                    NaN   \n",
       "1052241                           NaN                    NaN   \n",
       "833895                            NaN                    NaN   \n",
       "1609     Corrective Maintenance Order  G816-PRD-L15-L01-L080   \n",
       "916973                            NaN                    NaN   \n",
       "892194                            NaN                    NaN   \n",
       "544758                            NaN                    NaN   \n",
       "1155337  Preventive Maintenance Order  G261-PRD-L15-L04-L150   \n",
       "400435   Preventive Maintenance Order  G261-PRD-L15-L03-L070   \n",
       "301017                            NaN                    NaN   \n",
       "1371054                           NaN                    NaN   \n",
       "809052                            NaN                    NaN   \n",
       "179205   Preventive Maintenance Order  G261-PRD-L15-L03-L120   \n",
       "248968                            NaN                    NaN   \n",
       "1244231  Corrective Maintenance Order  G261-PRD-L15-L04-L130   \n",
       "1333883  Preventive Maintenance Order  G221-PRD-L15-L04-L150   \n",
       "578011   Corrective Maintenance Order  G221-PRD-L15-L04-L120   \n",
       "374318                            NaN                    NaN   \n",
       "680952                            NaN                    NaN   \n",
       "1377863          Administrative Order  G816-PRD-L30-L02-L080   \n",
       "279122                            NaN                    NaN   \n",
       "18063                             NaN                    NaN   \n",
       "395922                            NaN                    NaN   \n",
       "993863                            NaN                    NaN   \n",
       "675193                            NaN                    NaN   \n",
       "346753                            NaN                    NaN   \n",
       "\n",
       "        FUNCTIONAL_AREA_NODE_1_MODIFIED FUNCTIONAL_AREA_NODE_2_MODIFIED  \\\n",
       "1244918          SILVERSTONE PRODUCTION                COMMON EQUIPMENT   \n",
       "1288552               SUZUKA PRODUCTION            SYRUP/BLENDING  ROOM   \n",
       "16722                               NaN                             NaN   \n",
       "309591                              NaN                             NaN   \n",
       "100684                              NaN                             NaN   \n",
       "1052241                             NaN                             NaN   \n",
       "833895                              NaN                             NaN   \n",
       "1609                    COTA PRODUCTION                        CAN LINE   \n",
       "916973                              NaN                             NaN   \n",
       "892194                              NaN                             NaN   \n",
       "544758                              NaN                             NaN   \n",
       "1155337          SILVERSTONE PRODUCTION        LINES 3,4,10 - CAN LINES   \n",
       "400435           SILVERSTONE PRODUCTION        LINES 3,4,10 - CAN LINES   \n",
       "301017                              NaN                             NaN   \n",
       "1371054                             NaN                             NaN   \n",
       "809052                              NaN                             NaN   \n",
       "179205           SILVERSTONE PRODUCTION        LINES 3,4,10 - CAN LINES   \n",
       "248968                              NaN                             NaN   \n",
       "1244231          SILVERSTONE PRODUCTION        LINES 3,4,10 - CAN LINES   \n",
       "1333883               SUZUKA PRODUCTION          L4 - FILLER_ROTARY_CAN   \n",
       "578011                SUZUKA PRODUCTION          L4 - FILLER_ROTARY_CAN   \n",
       "374318                              NaN                             NaN   \n",
       "680952                              NaN                             NaN   \n",
       "1377863                 COTA PRODUCTION                     BOTTLE LINE   \n",
       "279122                              NaN                             NaN   \n",
       "18063                               NaN                             NaN   \n",
       "395922                              NaN                             NaN   \n",
       "993863                              NaN                             NaN   \n",
       "675193                              NaN                             NaN   \n",
       "346753                              NaN                             NaN   \n",
       "\n",
       "        FUNCTIONAL_AREA_NODE_3_MODIFIED FUNCTIONAL_AREA_NODE_4_MODIFIED  \\\n",
       "1244918                             NaN                             NaN   \n",
       "1288552         SYRYUP BULK INGREDIENTS                             NaN   \n",
       "16722                               NaN                             NaN   \n",
       "309591                              NaN                             NaN   \n",
       "100684                              NaN                             NaN   \n",
       "1052241                             NaN                             NaN   \n",
       "833895                              NaN                             NaN   \n",
       "1609                   LINE #1-CAN_LINE                          FILLER   \n",
       "916973                              NaN                             NaN   \n",
       "892194                              NaN                             NaN   \n",
       "544758                              NaN                             NaN   \n",
       "1155337       LINE #4-FILLER_ROTARY_CAN                  SEAMER, ROTARY   \n",
       "400435        LINE #3-FILLER_ROTARY_CAN               DETECTOR, PRODUCT   \n",
       "301017                              NaN                             NaN   \n",
       "1371054                             NaN                             NaN   \n",
       "809052                              NaN                             NaN   \n",
       "179205        LINE #3-FILLER_ROTARY_CAN                          PACKER   \n",
       "248968                              NaN                             NaN   \n",
       "1244231       LINE #4-FILLER_ROTARY_CAN                      PALLETIZER   \n",
       "1333883       LINE #4-FILLER_ROTARY_CAN                  SEAMER, ROTARY   \n",
       "578011        LINE #4-FILLER_ROTARY_CAN                          PACKER   \n",
       "374318                              NaN                             NaN   \n",
       "680952                              NaN                             NaN   \n",
       "1377863       LINE #2 - BOTTLE_LINE_PET                          FILLER   \n",
       "279122                              NaN                             NaN   \n",
       "18063                               NaN                             NaN   \n",
       "395922                              NaN                             NaN   \n",
       "993863                              NaN                             NaN   \n",
       "675193                              NaN                             NaN   \n",
       "346753                              NaN                             NaN   \n",
       "\n",
       "        FUNCTIONAL_AREA_NODE_5_MODIFIED  EQUIPMENT_ID  \\\n",
       "1244918                             NaN   300019086.0   \n",
       "1288552                             NaN   300009645.0   \n",
       "16722                               NaN           NaN   \n",
       "309591                              NaN           NaN   \n",
       "100684                              NaN           NaN   \n",
       "1052241                             NaN           NaN   \n",
       "833895                              NaN           NaN   \n",
       "1609                                NaN   300115000.0   \n",
       "916973                              NaN           NaN   \n",
       "892194                              NaN           NaN   \n",
       "544758                              NaN           NaN   \n",
       "1155337                             NaN   300019209.0   \n",
       "400435                              NaN   300017317.0   \n",
       "301017                              NaN           NaN   \n",
       "1371054                             NaN           NaN   \n",
       "809052                              NaN           NaN   \n",
       "179205                              NaN   300019255.0   \n",
       "248968                              NaN           NaN   \n",
       "1244231                             NaN   300019218.0   \n",
       "1333883                             NaN   300009161.0   \n",
       "578011                              NaN   300009195.0   \n",
       "374318                              NaN           NaN   \n",
       "680952                              NaN           NaN   \n",
       "1377863                             NaN   300025791.0   \n",
       "279122                              NaN           NaN   \n",
       "18063                               NaN           NaN   \n",
       "395922                              NaN           NaN   \n",
       "993863                              NaN           NaN   \n",
       "675193                              NaN           NaN   \n",
       "346753                              NaN           NaN   \n",
       "\n",
       "                        EQUIPMENT_DESC EQUIP_CAT_DESC EQUIP_START_UP_DATE  \\\n",
       "1244918                            NaN            NaN                 NaT   \n",
       "1288552                            NaN            NaN                 NaT   \n",
       "16722                              NaN            NaN                 NaT   \n",
       "309591                             NaN            NaN                 NaT   \n",
       "100684                             NaN            NaN                 NaT   \n",
       "1052241                            NaN            NaN                 NaT   \n",
       "833895                             NaN            NaN                 NaT   \n",
       "1609     L1 FILLER_ROTARY_CAN_72_VALVE       Machines          2019-10-10   \n",
       "916973                             NaN            NaN                 NaT   \n",
       "892194                             NaN            NaN                 NaT   \n",
       "544758                             NaN            NaN                 NaT   \n",
       "1155337                            NaN            NaN                 NaT   \n",
       "400435                             NaN            NaN                 NaT   \n",
       "301017                             NaN            NaN                 NaT   \n",
       "1371054                            NaN            NaN                 NaT   \n",
       "809052                             NaN            NaN                 NaT   \n",
       "179205                             NaN            NaN                 NaT   \n",
       "248968                             NaN            NaN                 NaT   \n",
       "1244231                            NaN            NaN                 NaT   \n",
       "1333883                            NaN            NaN                 NaT   \n",
       "578011                             NaN            NaN                 NaT   \n",
       "374318                             NaN            NaN                 NaT   \n",
       "680952                             NaN            NaN                 NaT   \n",
       "1377863                            NaN            NaN                 NaT   \n",
       "279122                             NaN            NaN                 NaT   \n",
       "18063                              NaN            NaN                 NaT   \n",
       "395922                             NaN            NaN                 NaT   \n",
       "993863                             NaN            NaN                 NaT   \n",
       "675193                             NaN            NaN                 NaT   \n",
       "346753                             NaN            NaN                 NaT   \n",
       "\n",
       "        EQUIP_VALID_FROM EQUIP_VALID_TO B_FUNCTIONAL_DURATION  \n",
       "1244918              NaT            NaN                   NaT  \n",
       "1288552              NaT            NaN                   NaT  \n",
       "16722                NaT            NaN                   NaT  \n",
       "309591               NaT            NaN                   NaT  \n",
       "100684               NaT            NaN                   NaT  \n",
       "1052241              NaT            NaN                   NaT  \n",
       "833895               NaT            NaN                   NaT  \n",
       "1609          2019-10-06     9999-12-31               -4 days  \n",
       "916973               NaT            NaN                   NaT  \n",
       "892194               NaT            NaN                   NaT  \n",
       "544758               NaT            NaN                   NaT  \n",
       "1155337              NaT            NaN                   NaT  \n",
       "400435               NaT            NaN                   NaT  \n",
       "301017               NaT            NaN                   NaT  \n",
       "1371054              NaT            NaN                   NaT  \n",
       "809052               NaT            NaN                   NaT  \n",
       "179205               NaT            NaN                   NaT  \n",
       "248968               NaT            NaN                   NaT  \n",
       "1244231              NaT            NaN                   NaT  \n",
       "1333883              NaT            NaN                   NaT  \n",
       "578011               NaT            NaN                   NaT  \n",
       "374318               NaT            NaN                   NaT  \n",
       "680952               NaT            NaN                   NaT  \n",
       "1377863              NaT            NaN                   NaT  \n",
       "279122               NaT            NaN                   NaT  \n",
       "18063                NaT            NaN                   NaT  \n",
       "395922               NaT            NaN                   NaT  \n",
       "993863               NaT            NaN                   NaT  \n",
       "675193               NaT            NaN                   NaT  \n",
       "346753               NaT            NaN                   NaT  "
      ]
     },
     "execution_count": 113,
     "metadata": {},
     "output_type": "execute_result"
    }
   ],
   "source": [
    "df.sample(30)"
   ]
  },
  {
   "cell_type": "code",
   "execution_count": 114,
   "metadata": {
    "id": "b0eTZXG_a3ml"
   },
   "outputs": [],
   "source": [
    "# Functional location code split\n",
    "df['FUCTIONAL_LOC_SPLIT'] = df['FUNCTIONAL_LOC'].str.split('-')"
   ]
  },
  {
   "cell_type": "markdown",
   "metadata": {
    "id": "pxXfLW4JCXBK"
   },
   "source": [
    "## Description of Entire Data <a id = 'scrollTo=pxXfLW4JCXBK'></a>"
   ]
  },
  {
   "cell_type": "markdown",
   "metadata": {
    "id": "GNt7txExmpTC"
   },
   "source": [
    "### Metadata <a id = 'scrollTo=GNt7txExmpTC'></a>"
   ]
  },
  {
   "cell_type": "code",
   "execution_count": 115,
   "metadata": {
    "colab": {
     "base_uri": "https://localhost:8080/"
    },
    "id": "fLi7vvSlicbm",
    "outputId": "2acbb3a8-1eae-40aa-a31d-5b79c3f3cdaf"
   },
   "outputs": [
    {
     "data": {
      "text/plain": [
       "Index(['ORDER_ID', 'PLANT_ID', 'PRODUCTION_LOCATION', 'EXECUTION_START_DATE',\n",
       "       'EXECUTION_FINISH_DATE', 'ACTUAL_START_TIME', 'ACTUAL_FINISH_TIME',\n",
       "       'ACTUAL_WORK_IN_MINUTES', 'MAINTENANCE_PLAN', 'MAINTENANCE_ITEM',\n",
       "       'MAINTENANCE_ACTIVITY_TYPE', 'ORDER_DESCRIPTION',\n",
       "       'MAINTENANCE_TYPE_DESCRIPTION', 'FUNCTIONAL_LOC',\n",
       "       'FUNCTIONAL_AREA_NODE_1_MODIFIED', 'FUNCTIONAL_AREA_NODE_2_MODIFIED',\n",
       "       'FUNCTIONAL_AREA_NODE_3_MODIFIED', 'FUNCTIONAL_AREA_NODE_4_MODIFIED',\n",
       "       'FUNCTIONAL_AREA_NODE_5_MODIFIED', 'EQUIPMENT_ID', 'EQUIPMENT_DESC',\n",
       "       'EQUIP_CAT_DESC', 'EQUIP_START_UP_DATE', 'EQUIP_VALID_FROM',\n",
       "       'EQUIP_VALID_TO', 'B_FUNCTIONAL_DURATION', 'FUCTIONAL_LOC_SPLIT'],\n",
       "      dtype='object')"
      ]
     },
     "execution_count": 115,
     "metadata": {},
     "output_type": "execute_result"
    }
   ],
   "source": [
    "# Columns name\n",
    "df.columns"
   ]
  },
  {
   "cell_type": "markdown",
   "metadata": {
    "id": "hjMiIfhZFeJW"
   },
   "source": [
    "| Column Name | Definition |\n",
    "|---|---|\n",
    "| ORDER_ID| An identifier used to uniquely map every order raised in IWC|\n",
    "|PLANT_ID|Helps uniquely identify all factories of Swire Coca-Cola, between Monza, Cota, Silverstone, Monaco, Roma and Suzuka|\n",
    "|PRODUCTION_LOCATION| Text description of Plant_ID |\n",
    "|EXECUTION_START_DATE|The date on which work began on the said issue|\n",
    "|EXECUTION_FINISH_DATE|The date on which work ended to resolve said issue|\n",
    "|ACTUAL_START_TIME|The time at which work began on resolving said issue|\n",
    "|ACTUAL_FINISH_TIME|The time at which work ended on resolving said issue|\n",
    "|ACTUAL_WORK_IN_MINUTES|The time it took, in minutes, to resolve said issue|\n",
    "|MAINTENANCE_PLAN|If the maintenance task was planned, this would have the plan ID. If this column is null, that implies that the maintenance was unplanned|\n",
    "|MAINTENANCE_ITEM|If the maintenance task was planned, for example, this bearing needs to be changed every six weeks, then the plan in the IWC system will have code allocated to it, saying this bearing code  a maintenance will repeat at X interval and the serial number you see in this column maps to bearings (Mapping not provided for security reasons)|\n",
    "|MAINTENANCE_ACTIVITY_TYPE|Lets you know if the maintenance was planned or unplanned, as an additional flag|\n",
    "|ORDER_DESCRIPTION|The description entered by the mechanic as to what was the actual work that was carried out in said fix|\n",
    "|MAINTENANCE_TYPE_DESCRIPTION|Tells you if the work order was preventive in nature, i.e. done to prevent breakdowns in future, or corrective in nature, i.e. done to correct something that caused a downtime|\n",
    "|FUNCTIONAL_LOC|Works like an IP address. Helps locate each machine by plant – process – sub process – product line – machine. Is broken down into nodes for better analysis|\n",
    "|FUNCTIONAL_AREA_NODE_1_MODIFIED|The functional area within said plant – Production, fleet, HVAC, etc.|\n",
    "|FUNCTIONAL_AREA_NODE_2_MODIFIED|The region-based subset of the functional area – Is it the blender room, the assembly lines – can, bottle or bibs|\n",
    "|FUNCTIONAL_AREA_NODE_3_MODIFIED|Within each region, which subset of equipment does this work order belong to|\n",
    "|FUNCTIONAL_AREA_NODE_4_MODIFIED|Within line groupings, which line is it specifically referring to – contains line number|\n",
    "|FUNCTIONAL_AREA_NODE_5_MODIFIED|Further splits the line into individual machine types|\n",
    "|EQUIPMENT_ID|Within a filler, there are close to 60 smaller components. This will help us identify which component the work was done on within that filler, for example|\n",
    "|EQUIPMENT_DESC5|Helps us identify what that component is. Mind you, we won’t always have a description because some components are either too small to be classified or proprietary and hence undisclosed|\n",
    "|EQUIPMENT_CAT_DESC|Identifies if the fixed part was on a machine, a vehicle, an HVAC system, etc.|\n",
    "|EQUIP_START_UP_DATE|The date on which this machine was acquired|\n",
    "|EQUIP_VALID_FROM|The date on which this machine became functional|\n",
    "|EQUIP_VALID_TO|The date until which this machine shall be used|\n",
    "\n",
    "\n",
    "\n"
   ]
  },
  {
   "cell_type": "code",
   "execution_count": 116,
   "metadata": {
    "colab": {
     "base_uri": "https://localhost:8080/"
    },
    "id": "RiX-dzpjiJsI",
    "outputId": "1e342ef8-635c-4b13-c534-f85c561198be"
   },
   "outputs": [
    {
     "data": {
      "text/plain": [
       "(1427264, 27)"
      ]
     },
     "execution_count": 116,
     "metadata": {},
     "output_type": "execute_result"
    }
   ],
   "source": [
    "# Rows & Columns Number\n",
    "df.shape"
   ]
  },
  {
   "cell_type": "markdown",
   "metadata": {
    "id": "nqjT2Y0OHZTK"
   },
   "source": [
    "We have around 1.4 millions of rows and 27 columns to analyze the data."
   ]
  },
  {
   "cell_type": "code",
   "execution_count": 117,
   "metadata": {
    "colab": {
     "base_uri": "https://localhost:8080/",
     "height": 1000
    },
    "id": "4Pnboo28AiVy",
    "outputId": "a987b3e5-a007-47bb-ea79-10efd7937e32"
   },
   "outputs": [
    {
     "data": {
      "text/html": [
       "<div>\n",
       "<style scoped>\n",
       "    .dataframe tbody tr th:only-of-type {\n",
       "        vertical-align: middle;\n",
       "    }\n",
       "\n",
       "    .dataframe tbody tr th {\n",
       "        vertical-align: top;\n",
       "    }\n",
       "\n",
       "    .dataframe thead th {\n",
       "        text-align: right;\n",
       "    }\n",
       "</style>\n",
       "<table border=\"1\" class=\"dataframe\">\n",
       "  <thead>\n",
       "    <tr style=\"text-align: right;\">\n",
       "      <th></th>\n",
       "      <th>ORDER_ID</th>\n",
       "      <th>EXECUTION_START_DATE</th>\n",
       "      <th>EXECUTION_FINISH_DATE</th>\n",
       "      <th>ACTUAL_WORK_IN_MINUTES</th>\n",
       "      <th>MAINTENANCE_ITEM</th>\n",
       "      <th>EQUIPMENT_ID</th>\n",
       "      <th>EQUIP_START_UP_DATE</th>\n",
       "      <th>EQUIP_VALID_FROM</th>\n",
       "      <th>B_FUNCTIONAL_DURATION</th>\n",
       "    </tr>\n",
       "  </thead>\n",
       "  <tbody>\n",
       "    <tr>\n",
       "      <th>count</th>\n",
       "      <td>1.427264e+06</td>\n",
       "      <td>1427264</td>\n",
       "      <td>1427264</td>\n",
       "      <td>1.427264e+06</td>\n",
       "      <td>152594.000000</td>\n",
       "      <td>2.917950e+05</td>\n",
       "      <td>79447</td>\n",
       "      <td>79447</td>\n",
       "      <td>79447</td>\n",
       "    </tr>\n",
       "    <tr>\n",
       "      <th>mean</th>\n",
       "      <td>4.561470e+10</td>\n",
       "      <td>2020-12-20 22:30:26.756647424</td>\n",
       "      <td>2020-12-21 15:53:00.772163072</td>\n",
       "      <td>8.862968e+01</td>\n",
       "      <td>115846.807954</td>\n",
       "      <td>3.002609e+08</td>\n",
       "      <td>2017-06-19 05:01:35.203091968</td>\n",
       "      <td>2019-03-03 16:01:09.963622912</td>\n",
       "      <td>622 days 10:59:34.760532176</td>\n",
       "    </tr>\n",
       "    <tr>\n",
       "      <th>min</th>\n",
       "      <td>1.000219e+08</td>\n",
       "      <td>2013-08-19 00:00:00</td>\n",
       "      <td>2016-07-25 00:00:00</td>\n",
       "      <td>0.000000e+00</td>\n",
       "      <td>39801.000000</td>\n",
       "      <td>2.000871e+08</td>\n",
       "      <td>1960-01-01 00:00:00</td>\n",
       "      <td>2017-02-15 00:00:00</td>\n",
       "      <td>-446 days +00:00:00</td>\n",
       "    </tr>\n",
       "    <tr>\n",
       "      <th>25%</th>\n",
       "      <td>4.022602e+08</td>\n",
       "      <td>2019-02-09 00:00:00</td>\n",
       "      <td>2019-02-11 00:00:00</td>\n",
       "      <td>1.200000e+01</td>\n",
       "      <td>41046.000000</td>\n",
       "      <td>3.000092e+08</td>\n",
       "      <td>2017-02-15 00:00:00</td>\n",
       "      <td>2017-02-15 00:00:00</td>\n",
       "      <td>0 days 00:00:00</td>\n",
       "    </tr>\n",
       "    <tr>\n",
       "      <th>50%</th>\n",
       "      <td>7.044271e+08</td>\n",
       "      <td>2020-12-09 00:00:00</td>\n",
       "      <td>2020-12-10 00:00:00</td>\n",
       "      <td>4.800000e+01</td>\n",
       "      <td>112995.000000</td>\n",
       "      <td>3.000178e+08</td>\n",
       "      <td>2017-02-15 00:00:00</td>\n",
       "      <td>2017-03-15 00:00:00</td>\n",
       "      <td>0 days 00:00:00</td>\n",
       "    </tr>\n",
       "    <tr>\n",
       "      <th>75%</th>\n",
       "      <td>1.002343e+09</td>\n",
       "      <td>2022-12-07 00:00:00</td>\n",
       "      <td>2022-12-08 00:00:00</td>\n",
       "      <td>9.000000e+01</td>\n",
       "      <td>134702.000000</td>\n",
       "      <td>3.000269e+08</td>\n",
       "      <td>2018-05-07 00:00:00</td>\n",
       "      <td>2020-08-11 00:00:00</td>\n",
       "      <td>151 days 00:00:00</td>\n",
       "    </tr>\n",
       "    <tr>\n",
       "      <th>max</th>\n",
       "      <td>9.000001e+11</td>\n",
       "      <td>2024-08-30 00:00:00</td>\n",
       "      <td>2024-08-30 00:00:00</td>\n",
       "      <td>3.301848e+05</td>\n",
       "      <td>346352.000000</td>\n",
       "      <td>4.000290e+08</td>\n",
       "      <td>2024-05-16 00:00:00</td>\n",
       "      <td>2024-05-20 00:00:00</td>\n",
       "      <td>23092 days 00:00:00</td>\n",
       "    </tr>\n",
       "    <tr>\n",
       "      <th>std</th>\n",
       "      <td>8.387114e+10</td>\n",
       "      <td>NaN</td>\n",
       "      <td>NaN</td>\n",
       "      <td>8.037915e+02</td>\n",
       "      <td>71325.255687</td>\n",
       "      <td>5.581645e+06</td>\n",
       "      <td>NaN</td>\n",
       "      <td>NaN</td>\n",
       "      <td>1642 days 09:27:04.304119840</td>\n",
       "    </tr>\n",
       "  </tbody>\n",
       "</table>\n",
       "</div>"
      ],
      "text/plain": [
       "           ORDER_ID           EXECUTION_START_DATE  \\\n",
       "count  1.427264e+06                        1427264   \n",
       "mean   4.561470e+10  2020-12-20 22:30:26.756647424   \n",
       "min    1.000219e+08            2013-08-19 00:00:00   \n",
       "25%    4.022602e+08            2019-02-09 00:00:00   \n",
       "50%    7.044271e+08            2020-12-09 00:00:00   \n",
       "75%    1.002343e+09            2022-12-07 00:00:00   \n",
       "max    9.000001e+11            2024-08-30 00:00:00   \n",
       "std    8.387114e+10                            NaN   \n",
       "\n",
       "               EXECUTION_FINISH_DATE  ACTUAL_WORK_IN_MINUTES  \\\n",
       "count                        1427264            1.427264e+06   \n",
       "mean   2020-12-21 15:53:00.772163072            8.862968e+01   \n",
       "min              2016-07-25 00:00:00            0.000000e+00   \n",
       "25%              2019-02-11 00:00:00            1.200000e+01   \n",
       "50%              2020-12-10 00:00:00            4.800000e+01   \n",
       "75%              2022-12-08 00:00:00            9.000000e+01   \n",
       "max              2024-08-30 00:00:00            3.301848e+05   \n",
       "std                              NaN            8.037915e+02   \n",
       "\n",
       "       MAINTENANCE_ITEM  EQUIPMENT_ID            EQUIP_START_UP_DATE  \\\n",
       "count     152594.000000  2.917950e+05                          79447   \n",
       "mean      115846.807954  3.002609e+08  2017-06-19 05:01:35.203091968   \n",
       "min        39801.000000  2.000871e+08            1960-01-01 00:00:00   \n",
       "25%        41046.000000  3.000092e+08            2017-02-15 00:00:00   \n",
       "50%       112995.000000  3.000178e+08            2017-02-15 00:00:00   \n",
       "75%       134702.000000  3.000269e+08            2018-05-07 00:00:00   \n",
       "max       346352.000000  4.000290e+08            2024-05-16 00:00:00   \n",
       "std        71325.255687  5.581645e+06                            NaN   \n",
       "\n",
       "                    EQUIP_VALID_FROM         B_FUNCTIONAL_DURATION  \n",
       "count                          79447                         79447  \n",
       "mean   2019-03-03 16:01:09.963622912   622 days 10:59:34.760532176  \n",
       "min              2017-02-15 00:00:00           -446 days +00:00:00  \n",
       "25%              2017-02-15 00:00:00               0 days 00:00:00  \n",
       "50%              2017-03-15 00:00:00               0 days 00:00:00  \n",
       "75%              2020-08-11 00:00:00             151 days 00:00:00  \n",
       "max              2024-05-20 00:00:00           23092 days 00:00:00  \n",
       "std                              NaN  1642 days 09:27:04.304119840  "
      ]
     },
     "execution_count": 117,
     "metadata": {},
     "output_type": "execute_result"
    }
   ],
   "source": [
    "# Descriptive statistics\n",
    "df.describe()"
   ]
  },
  {
   "cell_type": "code",
   "execution_count": 118,
   "metadata": {
    "colab": {
     "base_uri": "https://localhost:8080/",
     "height": 212
    },
    "id": "Zwi3KTe2BvxN",
    "outputId": "df759c6c-e812-49f0-ae05-33a36954ca5f"
   },
   "outputs": [
    {
     "data": {
      "text/html": [
       "<div>\n",
       "<style scoped>\n",
       "    .dataframe tbody tr th:only-of-type {\n",
       "        vertical-align: middle;\n",
       "    }\n",
       "\n",
       "    .dataframe tbody tr th {\n",
       "        vertical-align: top;\n",
       "    }\n",
       "\n",
       "    .dataframe thead th {\n",
       "        text-align: right;\n",
       "    }\n",
       "</style>\n",
       "<table border=\"1\" class=\"dataframe\">\n",
       "  <thead>\n",
       "    <tr style=\"text-align: right;\">\n",
       "      <th></th>\n",
       "      <th>PLANT_ID</th>\n",
       "      <th>PRODUCTION_LOCATION</th>\n",
       "      <th>ACTUAL_START_TIME</th>\n",
       "      <th>ACTUAL_FINISH_TIME</th>\n",
       "      <th>MAINTENANCE_PLAN</th>\n",
       "      <th>MAINTENANCE_ACTIVITY_TYPE</th>\n",
       "      <th>ORDER_DESCRIPTION</th>\n",
       "      <th>MAINTENANCE_TYPE_DESCRIPTION</th>\n",
       "      <th>FUNCTIONAL_LOC</th>\n",
       "      <th>FUNCTIONAL_AREA_NODE_1_MODIFIED</th>\n",
       "      <th>FUNCTIONAL_AREA_NODE_2_MODIFIED</th>\n",
       "      <th>FUNCTIONAL_AREA_NODE_3_MODIFIED</th>\n",
       "      <th>FUNCTIONAL_AREA_NODE_4_MODIFIED</th>\n",
       "      <th>FUNCTIONAL_AREA_NODE_5_MODIFIED</th>\n",
       "      <th>EQUIPMENT_DESC</th>\n",
       "      <th>EQUIP_CAT_DESC</th>\n",
       "      <th>EQUIP_VALID_TO</th>\n",
       "      <th>FUCTIONAL_LOC_SPLIT</th>\n",
       "    </tr>\n",
       "  </thead>\n",
       "  <tbody>\n",
       "    <tr>\n",
       "      <th>count</th>\n",
       "      <td>1427264</td>\n",
       "      <td>1427264</td>\n",
       "      <td>1427264</td>\n",
       "      <td>1427264</td>\n",
       "      <td>152594</td>\n",
       "      <td>1427264</td>\n",
       "      <td>291767</td>\n",
       "      <td>291795</td>\n",
       "      <td>291782</td>\n",
       "      <td>290117</td>\n",
       "      <td>282407</td>\n",
       "      <td>258691</td>\n",
       "      <td>237573</td>\n",
       "      <td>2180</td>\n",
       "      <td>79447</td>\n",
       "      <td>79447</td>\n",
       "      <td>79447</td>\n",
       "      <td>291782</td>\n",
       "    </tr>\n",
       "    <tr>\n",
       "      <th>unique</th>\n",
       "      <td>6</td>\n",
       "      <td>6</td>\n",
       "      <td>65927</td>\n",
       "      <td>61388</td>\n",
       "      <td>3308</td>\n",
       "      <td>2</td>\n",
       "      <td>118925</td>\n",
       "      <td>5</td>\n",
       "      <td>667</td>\n",
       "      <td>7</td>\n",
       "      <td>67</td>\n",
       "      <td>141</td>\n",
       "      <td>86</td>\n",
       "      <td>36</td>\n",
       "      <td>807</td>\n",
       "      <td>4</td>\n",
       "      <td>1</td>\n",
       "      <td>667</td>\n",
       "    </tr>\n",
       "    <tr>\n",
       "      <th>top</th>\n",
       "      <td>G261</td>\n",
       "      <td>SILVERSTONE</td>\n",
       "      <td>00:00:00.000</td>\n",
       "      <td>00:00:00.000</td>\n",
       "      <td>000000022943</td>\n",
       "      <td>Unplanned</td>\n",
       "      <td>DTRINE</td>\n",
       "      <td>Preventive Maintenance Order</td>\n",
       "      <td>G812-PRD</td>\n",
       "      <td>COTA PRODUCTION</td>\n",
       "      <td>CAN LINE</td>\n",
       "      <td>LINE #4-FILLER_ROTARY_CAN</td>\n",
       "      <td>FILLER</td>\n",
       "      <td>FULL CAN TO ACCUMULATION TABLE</td>\n",
       "      <td>L1 FILLER_ROTARY_CAN_72_VALVE</td>\n",
       "      <td>Machines</td>\n",
       "      <td>9999-12-31</td>\n",
       "      <td>[G812, PRD]</td>\n",
       "    </tr>\n",
       "    <tr>\n",
       "      <th>freq</th>\n",
       "      <td>630903</td>\n",
       "      <td>630903</td>\n",
       "      <td>212155</td>\n",
       "      <td>202920</td>\n",
       "      <td>1327</td>\n",
       "      <td>1276877</td>\n",
       "      <td>2012</td>\n",
       "      <td>151533</td>\n",
       "      <td>5923</td>\n",
       "      <td>70187</td>\n",
       "      <td>34208</td>\n",
       "      <td>35834</td>\n",
       "      <td>46322</td>\n",
       "      <td>251</td>\n",
       "      <td>3745</td>\n",
       "      <td>79224</td>\n",
       "      <td>79447</td>\n",
       "      <td>5923</td>\n",
       "    </tr>\n",
       "  </tbody>\n",
       "</table>\n",
       "</div>"
      ],
      "text/plain": [
       "       PLANT_ID PRODUCTION_LOCATION ACTUAL_START_TIME ACTUAL_FINISH_TIME  \\\n",
       "count   1427264             1427264           1427264            1427264   \n",
       "unique        6                   6             65927              61388   \n",
       "top        G261         SILVERSTONE      00:00:00.000       00:00:00.000   \n",
       "freq     630903              630903            212155             202920   \n",
       "\n",
       "       MAINTENANCE_PLAN MAINTENANCE_ACTIVITY_TYPE ORDER_DESCRIPTION  \\\n",
       "count            152594                   1427264            291767   \n",
       "unique             3308                         2            118925   \n",
       "top        000000022943                 Unplanned            DTRINE   \n",
       "freq               1327                   1276877              2012   \n",
       "\n",
       "        MAINTENANCE_TYPE_DESCRIPTION FUNCTIONAL_LOC  \\\n",
       "count                         291795         291782   \n",
       "unique                             5            667   \n",
       "top     Preventive Maintenance Order       G812-PRD   \n",
       "freq                          151533           5923   \n",
       "\n",
       "       FUNCTIONAL_AREA_NODE_1_MODIFIED FUNCTIONAL_AREA_NODE_2_MODIFIED  \\\n",
       "count                           290117                          282407   \n",
       "unique                               7                              67   \n",
       "top                    COTA PRODUCTION                        CAN LINE   \n",
       "freq                             70187                           34208   \n",
       "\n",
       "       FUNCTIONAL_AREA_NODE_3_MODIFIED FUNCTIONAL_AREA_NODE_4_MODIFIED  \\\n",
       "count                           258691                          237573   \n",
       "unique                             141                              86   \n",
       "top          LINE #4-FILLER_ROTARY_CAN                          FILLER   \n",
       "freq                             35834                           46322   \n",
       "\n",
       "       FUNCTIONAL_AREA_NODE_5_MODIFIED                 EQUIPMENT_DESC  \\\n",
       "count                             2180                          79447   \n",
       "unique                              36                            807   \n",
       "top     FULL CAN TO ACCUMULATION TABLE  L1 FILLER_ROTARY_CAN_72_VALVE   \n",
       "freq                               251                           3745   \n",
       "\n",
       "       EQUIP_CAT_DESC EQUIP_VALID_TO FUCTIONAL_LOC_SPLIT  \n",
       "count           79447          79447              291782  \n",
       "unique              4              1                 667  \n",
       "top          Machines     9999-12-31         [G812, PRD]  \n",
       "freq            79224          79447                5923  "
      ]
     },
     "execution_count": 118,
     "metadata": {},
     "output_type": "execute_result"
    }
   ],
   "source": [
    "# Categorical data descriptive statistics\n",
    "df.select_dtypes(include='object').describe()"
   ]
  },
  {
   "cell_type": "code",
   "execution_count": 119,
   "metadata": {
    "colab": {
     "base_uri": "https://localhost:8080/",
     "height": 301
    },
    "id": "G-1Rflc3CeXe",
    "outputId": "75a59276-db48-4eec-9e2b-d35fa1510d06"
   },
   "outputs": [
    {
     "data": {
      "text/html": [
       "<div>\n",
       "<style scoped>\n",
       "    .dataframe tbody tr th:only-of-type {\n",
       "        vertical-align: middle;\n",
       "    }\n",
       "\n",
       "    .dataframe tbody tr th {\n",
       "        vertical-align: top;\n",
       "    }\n",
       "\n",
       "    .dataframe thead th {\n",
       "        text-align: right;\n",
       "    }\n",
       "</style>\n",
       "<table border=\"1\" class=\"dataframe\">\n",
       "  <thead>\n",
       "    <tr style=\"text-align: right;\">\n",
       "      <th></th>\n",
       "      <th>ORDER_ID</th>\n",
       "      <th>ACTUAL_WORK_IN_MINUTES</th>\n",
       "      <th>MAINTENANCE_ITEM</th>\n",
       "      <th>EQUIPMENT_ID</th>\n",
       "      <th>B_FUNCTIONAL_DURATION</th>\n",
       "    </tr>\n",
       "  </thead>\n",
       "  <tbody>\n",
       "    <tr>\n",
       "      <th>count</th>\n",
       "      <td>1.427264e+06</td>\n",
       "      <td>1.427264e+06</td>\n",
       "      <td>152594.000000</td>\n",
       "      <td>2.917950e+05</td>\n",
       "      <td>79447</td>\n",
       "    </tr>\n",
       "    <tr>\n",
       "      <th>mean</th>\n",
       "      <td>4.561470e+10</td>\n",
       "      <td>8.862968e+01</td>\n",
       "      <td>115846.807954</td>\n",
       "      <td>3.002609e+08</td>\n",
       "      <td>622 days 10:59:34.760532176</td>\n",
       "    </tr>\n",
       "    <tr>\n",
       "      <th>std</th>\n",
       "      <td>8.387114e+10</td>\n",
       "      <td>8.037915e+02</td>\n",
       "      <td>71325.255687</td>\n",
       "      <td>5.581645e+06</td>\n",
       "      <td>1642 days 09:27:04.304119840</td>\n",
       "    </tr>\n",
       "    <tr>\n",
       "      <th>min</th>\n",
       "      <td>1.000219e+08</td>\n",
       "      <td>0.000000e+00</td>\n",
       "      <td>39801.000000</td>\n",
       "      <td>2.000871e+08</td>\n",
       "      <td>-446 days +00:00:00</td>\n",
       "    </tr>\n",
       "    <tr>\n",
       "      <th>25%</th>\n",
       "      <td>4.022602e+08</td>\n",
       "      <td>1.200000e+01</td>\n",
       "      <td>41046.000000</td>\n",
       "      <td>3.000092e+08</td>\n",
       "      <td>0 days 00:00:00</td>\n",
       "    </tr>\n",
       "    <tr>\n",
       "      <th>50%</th>\n",
       "      <td>7.044271e+08</td>\n",
       "      <td>4.800000e+01</td>\n",
       "      <td>112995.000000</td>\n",
       "      <td>3.000178e+08</td>\n",
       "      <td>0 days 00:00:00</td>\n",
       "    </tr>\n",
       "    <tr>\n",
       "      <th>75%</th>\n",
       "      <td>1.002343e+09</td>\n",
       "      <td>9.000000e+01</td>\n",
       "      <td>134702.000000</td>\n",
       "      <td>3.000269e+08</td>\n",
       "      <td>151 days 00:00:00</td>\n",
       "    </tr>\n",
       "    <tr>\n",
       "      <th>max</th>\n",
       "      <td>9.000001e+11</td>\n",
       "      <td>3.301848e+05</td>\n",
       "      <td>346352.000000</td>\n",
       "      <td>4.000290e+08</td>\n",
       "      <td>23092 days 00:00:00</td>\n",
       "    </tr>\n",
       "  </tbody>\n",
       "</table>\n",
       "</div>"
      ],
      "text/plain": [
       "           ORDER_ID  ACTUAL_WORK_IN_MINUTES  MAINTENANCE_ITEM  EQUIPMENT_ID  \\\n",
       "count  1.427264e+06            1.427264e+06     152594.000000  2.917950e+05   \n",
       "mean   4.561470e+10            8.862968e+01     115846.807954  3.002609e+08   \n",
       "std    8.387114e+10            8.037915e+02      71325.255687  5.581645e+06   \n",
       "min    1.000219e+08            0.000000e+00      39801.000000  2.000871e+08   \n",
       "25%    4.022602e+08            1.200000e+01      41046.000000  3.000092e+08   \n",
       "50%    7.044271e+08            4.800000e+01     112995.000000  3.000178e+08   \n",
       "75%    1.002343e+09            9.000000e+01     134702.000000  3.000269e+08   \n",
       "max    9.000001e+11            3.301848e+05     346352.000000  4.000290e+08   \n",
       "\n",
       "              B_FUNCTIONAL_DURATION  \n",
       "count                         79447  \n",
       "mean    622 days 10:59:34.760532176  \n",
       "std    1642 days 09:27:04.304119840  \n",
       "min             -446 days +00:00:00  \n",
       "25%                 0 days 00:00:00  \n",
       "50%                 0 days 00:00:00  \n",
       "75%               151 days 00:00:00  \n",
       "max             23092 days 00:00:00  "
      ]
     },
     "execution_count": 119,
     "metadata": {},
     "output_type": "execute_result"
    }
   ],
   "source": [
    "# Numerical data descriptive statistics\n",
    "df.select_dtypes(include='number').describe()"
   ]
  },
  {
   "cell_type": "markdown",
   "metadata": {},
   "source": [
    "The column B_FUNCTIONAL_DURATION measures the time between when a machine was acquired (EQUIP_START_UP_DATE) and when it became functional (EQUIP_VALID_FROM). Negative values in this column, such as -446 days, indicate that the machine is marked as functional before it was acquired, which is logically incorrect."
   ]
  },
  {
   "cell_type": "markdown",
   "metadata": {
    "id": "OhDlj7AwCmyS"
   },
   "source": [
    "## Handling Missing data <a id = 'scrollTo=OhDlj7AwCmyS'></a>"
   ]
  },
  {
   "cell_type": "code",
   "execution_count": 120,
   "metadata": {
    "colab": {
     "base_uri": "https://localhost:8080/",
     "height": 900
    },
    "id": "LKhBjgKtClBg",
    "outputId": "0a917df1-410f-4710-c403-4b6d95f44f00"
   },
   "outputs": [
    {
     "data": {
      "text/plain": [
       "FUNCTIONAL_AREA_NODE_5_MODIFIED    1425084\n",
       "B_FUNCTIONAL_DURATION              1347817\n",
       "EQUIP_VALID_TO                     1347817\n",
       "EQUIP_VALID_FROM                   1347817\n",
       "EQUIP_START_UP_DATE                1347817\n",
       "EQUIP_CAT_DESC                     1347817\n",
       "EQUIPMENT_DESC                     1347817\n",
       "MAINTENANCE_PLAN                   1274670\n",
       "MAINTENANCE_ITEM                   1274670\n",
       "FUNCTIONAL_AREA_NODE_4_MODIFIED    1189691\n",
       "FUNCTIONAL_AREA_NODE_3_MODIFIED    1168573\n",
       "FUNCTIONAL_AREA_NODE_2_MODIFIED    1144857\n",
       "FUNCTIONAL_AREA_NODE_1_MODIFIED    1137147\n",
       "ORDER_DESCRIPTION                  1135497\n",
       "FUNCTIONAL_LOC                     1135482\n",
       "FUCTIONAL_LOC_SPLIT                1135482\n",
       "MAINTENANCE_TYPE_DESCRIPTION       1135469\n",
       "EQUIPMENT_ID                       1135469\n",
       "PLANT_ID                                 0\n",
       "MAINTENANCE_ACTIVITY_TYPE                0\n",
       "ACTUAL_WORK_IN_MINUTES                   0\n",
       "ACTUAL_FINISH_TIME                       0\n",
       "ACTUAL_START_TIME                        0\n",
       "EXECUTION_FINISH_DATE                    0\n",
       "EXECUTION_START_DATE                     0\n",
       "PRODUCTION_LOCATION                      0\n",
       "ORDER_ID                                 0\n",
       "dtype: int64"
      ]
     },
     "execution_count": 120,
     "metadata": {},
     "output_type": "execute_result"
    }
   ],
   "source": [
    "# Missing data numbers per variable\n",
    "df.isnull().sum().sort_values(ascending=False)"
   ]
  },
  {
   "cell_type": "code",
   "execution_count": 121,
   "metadata": {
    "colab": {
     "base_uri": "https://localhost:8080/",
     "height": 900
    },
    "id": "_AvCvmf3b1VW",
    "outputId": "4d66de1a-7967-45c7-bbd9-1024de11b7e4"
   },
   "outputs": [
    {
     "data": {
      "text/plain": [
       "FUNCTIONAL_AREA_NODE_5_MODIFIED    99.847260\n",
       "B_FUNCTIONAL_DURATION              94.433616\n",
       "EQUIP_VALID_TO                     94.433616\n",
       "EQUIP_VALID_FROM                   94.433616\n",
       "EQUIP_START_UP_DATE                94.433616\n",
       "EQUIP_CAT_DESC                     94.433616\n",
       "EQUIPMENT_DESC                     94.433616\n",
       "MAINTENANCE_PLAN                   89.308635\n",
       "MAINTENANCE_ITEM                   89.308635\n",
       "FUNCTIONAL_AREA_NODE_4_MODIFIED    83.354656\n",
       "FUNCTIONAL_AREA_NODE_3_MODIFIED    81.875042\n",
       "FUNCTIONAL_AREA_NODE_2_MODIFIED    80.213401\n",
       "FUNCTIONAL_AREA_NODE_1_MODIFIED    79.673207\n",
       "ORDER_DESCRIPTION                  79.557601\n",
       "FUNCTIONAL_LOC                     79.556550\n",
       "FUCTIONAL_LOC_SPLIT                79.556550\n",
       "MAINTENANCE_TYPE_DESCRIPTION       79.555639\n",
       "EQUIPMENT_ID                       79.555639\n",
       "PLANT_ID                            0.000000\n",
       "MAINTENANCE_ACTIVITY_TYPE           0.000000\n",
       "ACTUAL_WORK_IN_MINUTES              0.000000\n",
       "ACTUAL_FINISH_TIME                  0.000000\n",
       "ACTUAL_START_TIME                   0.000000\n",
       "EXECUTION_FINISH_DATE               0.000000\n",
       "EXECUTION_START_DATE                0.000000\n",
       "PRODUCTION_LOCATION                 0.000000\n",
       "ORDER_ID                            0.000000\n",
       "dtype: float64"
      ]
     },
     "execution_count": 121,
     "metadata": {},
     "output_type": "execute_result"
    }
   ],
   "source": [
    "# Missing data proportion per variable\n",
    "(df.isnull().sum()/len(df)*100).sort_values(ascending=False)"
   ]
  },
  {
   "cell_type": "markdown",
   "metadata": {
    "id": "EV_CFGlAG6Bq"
   },
   "source": [
    "Only 20% of the issues recorded in the IWC include detailed information partially, such as location codes, node informed data, and required equipment.\n",
    "\n",
    "If 20% data shows a clear pattern that helps identify the root cause of the problems, the findings could potentially be applied to the remaining, unknown issues either."
   ]
  },
  {
   "cell_type": "code",
   "execution_count": 122,
   "metadata": {},
   "outputs": [
    {
     "name": "stdout",
     "output_type": "stream",
     "text": [
      "0\n"
     ]
    }
   ],
   "source": [
    "# Calculate the median date\n",
    "median_start_up_date = df['EQUIP_START_UP_DATE'].median()\n",
    "\n",
    "# Define a function to adjust the startup date to ensure it's before the valid from date\n",
    "def adjust_start_up_date(row):\n",
    "    if pd.isnull(row['EQUIP_START_UP_DATE']):\n",
    "        # Impute the startup date\n",
    "        imputed_start_up_date = median_start_up_date\n",
    "        \n",
    "        # Check if the imputed startup date is after the valid from date\n",
    "        if not pd.isnull(row['EQUIP_VALID_FROM']) and imputed_start_up_date >= row['EQUIP_VALID_FROM']:\n",
    "            # Set the startup date to one day before the valid from date to maintain chronology\n",
    "            return row['EQUIP_VALID_FROM'] - pd.Timedelta(days=1)\n",
    "        else:\n",
    "            return imputed_start_up_date\n",
    "    else:\n",
    "        return row['EQUIP_START_UP_DATE']\n",
    "\n",
    "# Apply the function to handle missing values in EQUIP_START_UP_DATE\n",
    "df['EQUIP_START_UP_DATE'] = df.apply(adjust_start_up_date, axis=1)\n",
    "\n",
    "# Verify if missing values are handled\n",
    "print(df['EQUIP_START_UP_DATE'].isnull().sum())"
   ]
  },
  {
   "cell_type": "markdown",
   "metadata": {},
   "source": [
    "The imputation was necessary to maintain the chronological integrity of the dataset, ensuring that the EQUIP_START_UP_DATE always precedes the EQUIP_VALID_FROM date. This avoids logical inconsistencies, such as equipment being operational before its acquisition. "
   ]
  },
  {
   "cell_type": "markdown",
   "metadata": {
    "id": "hkyshRt6DTdq"
   },
   "source": [
    "## Exploratory visualizations and/or summary tables <a id = 'scrollTo=hkyshRt6DTdq'></a>"
   ]
  },
  {
   "cell_type": "markdown",
   "metadata": {
    "id": "5184nso0lkFT"
   },
   "source": [
    "### Execution Time Pattern <a id = 'scrollTo=5184nso0lkFT'></a>"
   ]
  },
  {
   "cell_type": "code",
   "execution_count": 123,
   "metadata": {
    "colab": {
     "base_uri": "https://localhost:8080/",
     "height": 429
    },
    "id": "m-VkZb-MjG2t",
    "outputId": "06ccece0-6a0a-45b8-dd90-5f1bfba4dcd9"
   },
   "outputs": [
    {
     "data": {
      "text/plain": [
       "EXECUTION_START_DATE\n",
       "2013         1\n",
       "2016     20925\n",
       "2017    118305\n",
       "2018    194641\n",
       "2019    203767\n",
       "2020    185807\n",
       "2021    182353\n",
       "2022    176190\n",
       "2023    200874\n",
       "2024    144401\n",
       "Name: count, dtype: int64"
      ]
     },
     "execution_count": 123,
     "metadata": {},
     "output_type": "execute_result"
    }
   ],
   "source": [
    "# Yearly distribution\n",
    "df['EXECUTION_START_DATE'].dt.year.value_counts().sort_index()"
   ]
  },
  {
   "cell_type": "code",
   "execution_count": 124,
   "metadata": {
    "colab": {
     "base_uri": "https://localhost:8080/",
     "height": 536
    },
    "id": "ZZAZOeiCzQZU",
    "outputId": "ae9438f0-e4d7-4b35-e9d8-764999745cd6"
   },
   "outputs": [
    {
     "data": {
      "text/html": [
       "<div>\n",
       "<style scoped>\n",
       "    .dataframe tbody tr th:only-of-type {\n",
       "        vertical-align: middle;\n",
       "    }\n",
       "\n",
       "    .dataframe tbody tr th {\n",
       "        vertical-align: top;\n",
       "    }\n",
       "\n",
       "    .dataframe thead th {\n",
       "        text-align: right;\n",
       "    }\n",
       "</style>\n",
       "<table border=\"1\" class=\"dataframe\">\n",
       "  <thead>\n",
       "    <tr style=\"text-align: right;\">\n",
       "      <th></th>\n",
       "      <th>min_exec_date</th>\n",
       "      <th>max_exec_date</th>\n",
       "    </tr>\n",
       "    <tr>\n",
       "      <th>EXECUTION_START_DATE</th>\n",
       "      <th></th>\n",
       "      <th></th>\n",
       "    </tr>\n",
       "  </thead>\n",
       "  <tbody>\n",
       "    <tr>\n",
       "      <th>2013</th>\n",
       "      <td>2013-08-19</td>\n",
       "      <td>2013-08-19</td>\n",
       "    </tr>\n",
       "    <tr>\n",
       "      <th>2016</th>\n",
       "      <td>2016-07-25</td>\n",
       "      <td>2016-12-31</td>\n",
       "    </tr>\n",
       "    <tr>\n",
       "      <th>2017</th>\n",
       "      <td>2017-01-01</td>\n",
       "      <td>2017-12-31</td>\n",
       "    </tr>\n",
       "    <tr>\n",
       "      <th>2018</th>\n",
       "      <td>2018-01-01</td>\n",
       "      <td>2018-12-31</td>\n",
       "    </tr>\n",
       "    <tr>\n",
       "      <th>2019</th>\n",
       "      <td>2019-01-01</td>\n",
       "      <td>2019-12-31</td>\n",
       "    </tr>\n",
       "    <tr>\n",
       "      <th>2020</th>\n",
       "      <td>2020-01-01</td>\n",
       "      <td>2020-12-31</td>\n",
       "    </tr>\n",
       "    <tr>\n",
       "      <th>2021</th>\n",
       "      <td>2021-01-01</td>\n",
       "      <td>2021-12-31</td>\n",
       "    </tr>\n",
       "    <tr>\n",
       "      <th>2022</th>\n",
       "      <td>2022-01-01</td>\n",
       "      <td>2022-12-31</td>\n",
       "    </tr>\n",
       "    <tr>\n",
       "      <th>2023</th>\n",
       "      <td>2023-01-01</td>\n",
       "      <td>2023-12-31</td>\n",
       "    </tr>\n",
       "    <tr>\n",
       "      <th>2024</th>\n",
       "      <td>2024-01-01</td>\n",
       "      <td>2024-08-30</td>\n",
       "    </tr>\n",
       "  </tbody>\n",
       "</table>\n",
       "</div>"
      ],
      "text/plain": [
       "                     min_exec_date max_exec_date\n",
       "EXECUTION_START_DATE                            \n",
       "2013                    2013-08-19    2013-08-19\n",
       "2016                    2016-07-25    2016-12-31\n",
       "2017                    2017-01-01    2017-12-31\n",
       "2018                    2018-01-01    2018-12-31\n",
       "2019                    2019-01-01    2019-12-31\n",
       "2020                    2020-01-01    2020-12-31\n",
       "2021                    2021-01-01    2021-12-31\n",
       "2022                    2022-01-01    2022-12-31\n",
       "2023                    2023-01-01    2023-12-31\n",
       "2024                    2024-01-01    2024-08-30"
      ]
     },
     "execution_count": 124,
     "metadata": {},
     "output_type": "execute_result"
    }
   ],
   "source": [
    "df.groupby(df['EXECUTION_START_DATE'].dt.year)['EXECUTION_START_DATE'].agg(min_exec_date='min', max_exec_date='max')"
   ]
  },
  {
   "cell_type": "code",
   "execution_count": 163,
   "metadata": {
    "colab": {
     "base_uri": "https://localhost:8080/",
     "height": 466
    },
    "id": "D1mDAFaKiugG",
    "outputId": "233940b3-7880-409e-9896-23133bc46ff9"
   },
   "outputs": [
    {
     "data": {
      "text/plain": [
       "Text(0, 0.5, 'Number of Maintenance Cases')"
      ]
     },
     "execution_count": 163,
     "metadata": {},
     "output_type": "execute_result"
    },
    {
     "data": {
      "image/png": "[encoded data removed]",
      "text/plain": [
       "<Figure size 640x480 with 1 Axes>"
      ]
     },
     "metadata": {},
     "output_type": "display_data"
    }
   ],
   "source": [
    "# Plotting the yearly distribution\n",
    "sns.barplot(x=df['EXECUTION_START_DATE'].dt.year.value_counts().sort_index().index, y=df['EXECUTION_START_DATE'].dt.year.value_counts().sort_index())\n",
    "plt.title('Yearly Distribution of Maintenance Cases')\n",
    "plt.xlabel('Year')\n",
    "plt.ylabel('Number of Maintenance Cases')"
   ]
  },
  {
   "cell_type": "markdown",
   "metadata": {},
   "source": [
    "From 2016 to 2024, recorded maintenance tasks generally increased, peaking in 2019 at 203,767 tasks, though significant drops occurred in 2020, 2021, and 2022 likely due to operational challenges from the COVID-19 pandemic and aftermath. The peak may reflect heightened production demand, while subsequent declines suggest temporary slowdowns. Despite these fluctuations, the overall trend indicates improved maintenance reporting practices and a shift toward a proactive maintenance culture focused on routine documentation. Thus, the variability in recorded tasks underscores the impact of production demands, operational challenges, and reporting improvements."
   ]
  },
  {
   "cell_type": "code",
   "execution_count": 126,
   "metadata": {
    "colab": {
     "base_uri": "https://localhost:8080/",
     "height": 492
    },
    "id": "E_B-LxTSkxO3",
    "outputId": "45477e2f-24d4-422c-8321-c00e21a91529"
   },
   "outputs": [
    {
     "data": {
      "text/plain": [
       "EXECUTION_START_DATE\n",
       "1     116461\n",
       "2     111715\n",
       "3     123577\n",
       "4     119116\n",
       "5     126257\n",
       "6     124373\n",
       "7     120954\n",
       "8     135921\n",
       "9     113087\n",
       "10    118229\n",
       "11    109989\n",
       "12    107585\n",
       "Name: count, dtype: int64"
      ]
     },
     "execution_count": 126,
     "metadata": {},
     "output_type": "execute_result"
    }
   ],
   "source": [
    "# Monthly distribution\n",
    "df['EXECUTION_START_DATE'].dt.month.value_counts().sort_index()"
   ]
  },
  {
   "cell_type": "code",
   "execution_count": 164,
   "metadata": {
    "colab": {
     "base_uri": "https://localhost:8080/",
     "height": 466
    },
    "id": "VR1Dd4eqi6Ul",
    "outputId": "c9efd6ad-dd74-453b-8185-06ee4eafe146"
   },
   "outputs": [
    {
     "data": {
      "text/plain": [
       "Text(0, 0.5, 'Number of Maintenance Cases')"
      ]
     },
     "execution_count": 164,
     "metadata": {},
     "output_type": "execute_result"
    },
    {
     "data": {
      "image/png": "[encoded data removed]",
      "text/plain": [
       "<Figure size 640x480 with 1 Axes>"
      ]
     },
     "metadata": {},
     "output_type": "display_data"
    }
   ],
   "source": [
    "# Plotting the monthly distribution\n",
    "sns.barplot(x=df['EXECUTION_START_DATE'].dt.month.value_counts().sort_index().index, y=df['EXECUTION_START_DATE'].dt.month.value_counts().sort_index())\n",
    "plt.title('Monthly Distribution of Maintenance Cases')\n",
    "plt.xlabel('Month')\n",
    "plt.ylabel('Number of Maintenance Cases')"
   ]
  },
  {
   "cell_type": "markdown",
   "metadata": {},
   "source": [
    "The maintenance data shows peaks in August (135,921), May (126,257), and June (124,373), indicating that increased production cycles in late spring and summer contribute to higher maintenance activity due to greater operational stress on machinery. While March (123,577) and April (119,116) also show notable counts, they fall short of summer levels. This suggests a seasonal trend in maintenance demands that merits further exploration of underlying factors such as production levels and equipment performance."
   ]
  },
  {
   "cell_type": "code",
   "execution_count": 128,
   "metadata": {
    "colab": {
     "base_uri": "https://localhost:8080/",
     "height": 335
    },
    "id": "w1HU6sHhlsu9",
    "outputId": "9908b8c6-2d36-43e3-90e2-8b74c450bb89"
   },
   "outputs": [
    {
     "data": {
      "text/plain": [
       "EXECUTION_START_DATE\n",
       "0    222175\n",
       "1    265447\n",
       "2    269498\n",
       "3    261617\n",
       "4    241928\n",
       "5     95907\n",
       "6     70692\n",
       "Name: count, dtype: int64"
      ]
     },
     "execution_count": 128,
     "metadata": {},
     "output_type": "execute_result"
    }
   ],
   "source": [
    "# Weekly distribution\n",
    "df['EXECUTION_START_DATE'].dt.day_of_week.value_counts().sort_index()"
   ]
  },
  {
   "cell_type": "code",
   "execution_count": 165,
   "metadata": {
    "colab": {
     "base_uri": "https://localhost:8080/",
     "height": 466
    },
    "id": "uy63om0Bi-tn",
    "outputId": "5bc9ce8a-d59c-418b-9c08-4d9f1986bf79"
   },
   "outputs": [
    {
     "data": {
      "text/plain": [
       "Text(0, 0.5, 'Number of Maintenance Cases')"
      ]
     },
     "execution_count": 165,
     "metadata": {},
     "output_type": "execute_result"
    },
    {
     "data": {
      "image/png": "[encoded data removed]",
      "text/plain": [
       "<Figure size 640x480 with 1 Axes>"
      ]
     },
     "metadata": {},
     "output_type": "display_data"
    }
   ],
   "source": [
    "# Plotting the weekly distribution\n",
    "sns.barplot(x=df['EXECUTION_START_DATE'].dt.day_of_week.value_counts().sort_index().index, y=df['EXECUTION_START_DATE'].dt.day_of_week.value_counts().sort_index())\n",
    "plt.title('Weekly Distribution of Maintenance Cases')\n",
    "plt.xlabel('Day of the Week')\n",
    "plt.ylabel('Number of Maintenance Cases')"
   ]
  },
  {
   "cell_type": "markdown",
   "metadata": {},
   "source": [
    "Tuesdays(1) and Wednesdays(2) show the highest number of issues, while weekends see a significant drop in maintenance activities. This pattern may suggest that most maintenance occurs during the workweek, potentially due to limited staffing or reduced attention to equipment over the weekends, allowing issues to accumulate and be addressed only on weekdays."
   ]
  },
  {
   "cell_type": "markdown",
   "metadata": {
    "id": "denH1qpmdnQH"
   },
   "source": [
    "### Production Location (Plant) Distribution <a id = 'scrollTo=denH1qpmdnQH'></a>"
   ]
  },
  {
   "cell_type": "code",
   "execution_count": 130,
   "metadata": {
    "colab": {
     "base_uri": "https://localhost:8080/",
     "height": 304
    },
    "id": "C_rbrToZDaa3",
    "outputId": "2fea756e-0fb3-441b-8ba7-28f1bb8758ab"
   },
   "outputs": [
    {
     "data": {
      "text/plain": [
       "PRODUCTION_LOCATION\n",
       "SILVERSTONE    630903\n",
       "SUZUKA         290975\n",
       "MONZA          225279\n",
       "COTA           116303\n",
       "MONACO          84694\n",
       "ROMA            79110\n",
       "Name: count, dtype: int64"
      ]
     },
     "execution_count": 130,
     "metadata": {},
     "output_type": "execute_result"
    }
   ],
   "source": [
    "# Production Location distribution\n",
    "df['PRODUCTION_LOCATION'].value_counts()"
   ]
  },
  {
   "cell_type": "code",
   "execution_count": 131,
   "metadata": {
    "colab": {
     "base_uri": "https://localhost:8080/",
     "height": 304
    },
    "id": "Btq0ARKYIJ5j",
    "outputId": "042ad802-69dd-428c-fa49-fdba1fa41235"
   },
   "outputs": [
    {
     "data": {
      "text/plain": [
       "PRODUCTION_LOCATION\n",
       "SILVERSTONE    44.203665\n",
       "SUZUKA         20.386908\n",
       "MONZA          15.783975\n",
       "COTA            8.148668\n",
       "MONACO          5.934011\n",
       "ROMA            5.542773\n",
       "Name: count, dtype: float64"
      ]
     },
     "execution_count": 131,
     "metadata": {},
     "output_type": "execute_result"
    }
   ],
   "source": [
    "# Production Location proportion\n",
    "df['PRODUCTION_LOCATION'].value_counts()/len(df)*100"
   ]
  },
  {
   "cell_type": "code",
   "execution_count": 167,
   "metadata": {
    "colab": {
     "base_uri": "https://localhost:8080/",
     "height": 466
    },
    "id": "vBv2oYRVjFMd",
    "outputId": "45d63330-f29a-44fa-d951-c75600766741"
   },
   "outputs": [
    {
     "data": {
      "text/plain": [
       "Text(0, 0.5, 'Number of Maintenance Cases')"
      ]
     },
     "execution_count": 167,
     "metadata": {},
     "output_type": "execute_result"
    },
    {
     "data": {
      "image/png": "[encoded data removed]",
      "text/plain": [
       "<Figure size 640x480 with 1 Axes>"
      ]
     },
     "metadata": {},
     "output_type": "display_data"
    }
   ],
   "source": [
    "# Plotting the Production Location proportion\n",
    "sns.barplot(x=df['PRODUCTION_LOCATION'].value_counts().index, y=df['PRODUCTION_LOCATION'].value_counts())\n",
    "plt.title('Distribution of Maintenance Cases across Production Locations')\n",
    "plt.xlabel('Production Location')\n",
    "plt.ylabel('Number of Maintenance Cases')"
   ]
  },
  {
   "cell_type": "markdown",
   "metadata": {},
   "source": [
    "Silverstone accounts for 44.2% of the total maintenance tasks, followed by Suzuka and Monza. This indicates that Silverstone experiences the highest number of issues among all plants. The high maintenance volume at Silverstone may suggest either higher production demands or older machinery, making it more susceptible to frequent breakdowns. Addressing these issues could involve targeted maintenance strategies or machinery upgrades to minimize downtime and improve efficiency."
   ]
  },
  {
   "cell_type": "markdown",
   "metadata": {
    "id": "vS__isyWeJGi"
   },
   "source": [
    "### Actual work time in minutes <a id = 'scrollTo=vS__isyWeJGi'></a>"
   ]
  },
  {
   "cell_type": "code",
   "execution_count": 133,
   "metadata": {
    "colab": {
     "base_uri": "https://localhost:8080/",
     "height": 335
    },
    "id": "sdrYUzJXEGYs",
    "outputId": "700511ae-8921-4e82-e58e-d5e46f72e1d7"
   },
   "outputs": [
    {
     "data": {
      "text/plain": [
       "count    1.427264e+06\n",
       "mean     8.862968e+01\n",
       "std      8.037915e+02\n",
       "min      0.000000e+00\n",
       "25%      1.200000e+01\n",
       "50%      4.800000e+01\n",
       "75%      9.000000e+01\n",
       "max      3.301848e+05\n",
       "Name: ACTUAL_WORK_IN_MINUTES, dtype: float64"
      ]
     },
     "execution_count": 133,
     "metadata": {},
     "output_type": "execute_result"
    }
   ],
   "source": [
    "# Actual working time distribution\n",
    "df['ACTUAL_WORK_IN_MINUTES'].describe()"
   ]
  },
  {
   "cell_type": "code",
   "execution_count": 134,
   "metadata": {
    "colab": {
     "base_uri": "https://localhost:8080/"
    },
    "id": "lOG_Ww0Yer5F",
    "outputId": "cce8d628-3bed-43da-fe40-d1fbf2cfb752"
   },
   "outputs": [
    {
     "name": "stdout",
     "output_type": "stream",
     "text": [
      "Minimum: 0.0\n",
      "Medium: 48.0\n",
      "Average: 88.62968378660146\n",
      "Maximum: 330184.8\n"
     ]
    }
   ],
   "source": [
    "print(f\"Minimum: {df['ACTUAL_WORK_IN_MINUTES'].min()}\")\n",
    "print(f\"Medium: {df['ACTUAL_WORK_IN_MINUTES'].median()}\")\n",
    "print(f\"Average: {df['ACTUAL_WORK_IN_MINUTES'].mean()}\")\n",
    "print(f\"Maximum: {df['ACTUAL_WORK_IN_MINUTES'].max()}\")"
   ]
  },
  {
   "cell_type": "code",
   "execution_count": 168,
   "metadata": {
    "colab": {
     "base_uri": "https://localhost:8080/",
     "height": 462
    },
    "id": "Qi8Mbm_cD6DJ",
    "outputId": "9ea34821-21d3-4c10-e7a8-b6092fce6b21"
   },
   "outputs": [
    {
     "data": {
      "text/plain": [
       "Text(0, 0.5, 'Frequency')"
      ]
     },
     "execution_count": 168,
     "metadata": {},
     "output_type": "execute_result"
    },
    {
     "data": {
      "image/png": "[encoded data removed]",
      "text/plain": [
       "<Figure size 640x480 with 1 Axes>"
      ]
     },
     "metadata": {},
     "output_type": "display_data"
    }
   ],
   "source": [
    "# Histogram for Actual work in minutes\n",
    "df['ACTUAL_WORK_IN_MINUTES'].hist(bins=20)\n",
    "plt.title('Distribution of Actual work in minutes')\n",
    "plt.xlabel('Actual work in minutes')\n",
    "plt.ylabel('Frequency')"
   ]
  },
  {
   "cell_type": "markdown",
   "metadata": {},
   "source": [
    "The actual work time distribution is skewed, with the median at 48 minutes indicating that most maintenance tasks are completed relatively quickly. However, the average is much higher at 88.63 minutes, suggesting that a small number of very long tasks are pulling the mean upward. The histogram confirms this skew, as most tasks cluster around shorter durations, while a few outliers with extreme values significantly impact the average, making the median a better measure of typical work time."
   ]
  },
  {
   "cell_type": "code",
   "execution_count": 136,
   "metadata": {
    "colab": {
     "base_uri": "https://localhost:8080/",
     "height": 304
    },
    "id": "3oEFQHKLlb3B",
    "outputId": "de7a8f38-1902-46de-dcda-c3d0c4b58dc3"
   },
   "outputs": [
    {
     "data": {
      "text/plain": [
       "PRODUCTION_LOCATION\n",
       "SUZUKA         60.0\n",
       "SILVERSTONE    54.0\n",
       "MONZA          44.0\n",
       "COTA           31.2\n",
       "ROMA           18.0\n",
       "MONACO          3.6\n",
       "Name: ACTUAL_WORK_IN_MINUTES, dtype: float64"
      ]
     },
     "execution_count": 136,
     "metadata": {},
     "output_type": "execute_result"
    }
   ],
   "source": [
    "# Actual work in minutes(Median) across production location\n",
    "df['ACTUAL_WORK_IN_MINUTES'].groupby(df['PRODUCTION_LOCATION']).median().sort_values(ascending=False)"
   ]
  },
  {
   "cell_type": "code",
   "execution_count": 173,
   "metadata": {
    "colab": {
     "base_uri": "https://localhost:8080/",
     "height": 466
    },
    "id": "NfX-6M2Tltv4",
    "outputId": "1f126263-5a1e-4f44-955f-ee6e6eabb996"
   },
   "outputs": [
    {
     "data": {
      "text/plain": [
       "<matplotlib.legend.Legend at 0x1e481186090>"
      ]
     },
     "execution_count": 173,
     "metadata": {},
     "output_type": "execute_result"
    },
    {
     "data": {
      "image/png": "[encoded data removed]",
      "text/plain": [
       "<Figure size 640x480 with 1 Axes>"
      ]
     },
     "metadata": {},
     "output_type": "display_data"
    }
   ],
   "source": [
    "# Plotting actual work in minutes (median) per Production Location\n",
    "sns.barplot(x=df['PRODUCTION_LOCATION'].value_counts().index, y=df['ACTUAL_WORK_IN_MINUTES'].groupby(df['PRODUCTION_LOCATION']).median().sort_values(ascending=False))\n",
    "plt.axhline(y=48, color='r', label='Median: 48 Minutes')\n",
    "plt.title('Actual Work in Minutes(Median) per Production Location')\n",
    "plt.xlabel('Production Location')\n",
    "plt.ylabel('Actual Work in Minutes (Median)')\n",
    "plt.legend(loc='upper right')"
   ]
  },
  {
   "cell_type": "markdown",
   "metadata": {},
   "source": [
    "The bar plot illustrates the median actual work time for maintenance tasks across different production locations. Suzuka and Silverstone plants experience the longest median repair times, both exceeding the 48-minute median benchmark (marked by the red line). Monza also faces relatively longer repair durations, while Cota, Monaco, and Roma see significantly shorter times, particularly Monaco and Roma, which have very low median repair durations. This suggests that the complexity or scale of issues may differ substantially between locations."
   ]
  },
  {
   "cell_type": "code",
   "execution_count": 178,
   "metadata": {
    "colab": {
     "base_uri": "https://localhost:8080/",
     "height": 447
    },
    "id": "U42OxL-lEOGM",
    "outputId": "6eec3c50-9aac-42d9-f974-1e62db38b5b5"
   },
   "outputs": [
    {
     "data": {
      "text/plain": [
       "<matplotlib.legend.Legend at 0x1e481555110>"
      ]
     },
     "execution_count": 178,
     "metadata": {},
     "output_type": "execute_result"
    },
    {
     "data": {
      "image/png": "[encoded data removed]",
      "text/plain": [
       "<Figure size 640x480 with 1 Axes>"
      ]
     },
     "metadata": {},
     "output_type": "display_data"
    }
   ],
   "source": [
    "# Box plot\n",
    "df['ACTUAL_WORK_IN_MINUTES'].plot(kind='box')\n",
    "plt.axhline(y=48, color='r', label='Median: 48 Minutes')\n",
    "plt.title(\"Distribution of Actual Work in Minutes\")\n",
    "plt.legend()"
   ]
  },
  {
   "cell_type": "markdown",
   "metadata": {},
   "source": [
    "The box plot visualizes the distribution of actual work time in minutes for maintenance tasks. The red horizontal line represents the median of 48 minutes. The plot reveals a heavy presence of outliers, with some tasks taking significantly longer — 330,000 minutes. Most tasks, however, fall within a much smaller range, as indicated by the clustering near the bottom. These extreme outliers dramatically skew the data, causing the mean work time to be much higher than the median."
   ]
  },
  {
   "cell_type": "code",
   "execution_count": 139,
   "metadata": {
    "colab": {
     "base_uri": "https://localhost:8080/",
     "height": 269
    },
    "id": "OMVYBFNun_gs",
    "outputId": "29278154-8ab0-45e2-ac90-e4995a30bb08"
   },
   "outputs": [
    {
     "data": {
      "text/html": [
       "<div>\n",
       "<style scoped>\n",
       "    .dataframe tbody tr th:only-of-type {\n",
       "        vertical-align: middle;\n",
       "    }\n",
       "\n",
       "    .dataframe tbody tr th {\n",
       "        vertical-align: top;\n",
       "    }\n",
       "\n",
       "    .dataframe thead th {\n",
       "        text-align: right;\n",
       "    }\n",
       "</style>\n",
       "<table border=\"1\" class=\"dataframe\">\n",
       "  <thead>\n",
       "    <tr style=\"text-align: right;\">\n",
       "      <th></th>\n",
       "      <th>count</th>\n",
       "      <th>mean</th>\n",
       "      <th>std</th>\n",
       "      <th>min</th>\n",
       "      <th>25%</th>\n",
       "      <th>50%</th>\n",
       "      <th>75%</th>\n",
       "      <th>max</th>\n",
       "    </tr>\n",
       "    <tr>\n",
       "      <th>PRODUCTION_LOCATION</th>\n",
       "      <th></th>\n",
       "      <th></th>\n",
       "      <th></th>\n",
       "      <th></th>\n",
       "      <th></th>\n",
       "      <th></th>\n",
       "      <th></th>\n",
       "      <th></th>\n",
       "    </tr>\n",
       "  </thead>\n",
       "  <tbody>\n",
       "    <tr>\n",
       "      <th>COTA</th>\n",
       "      <td>116303.0</td>\n",
       "      <td>60.720869</td>\n",
       "      <td>108.688678</td>\n",
       "      <td>0.0</td>\n",
       "      <td>0.0</td>\n",
       "      <td>31.2</td>\n",
       "      <td>72.0</td>\n",
       "      <td>10219.2</td>\n",
       "    </tr>\n",
       "    <tr>\n",
       "      <th>MONACO</th>\n",
       "      <td>84694.0</td>\n",
       "      <td>65.742548</td>\n",
       "      <td>251.565982</td>\n",
       "      <td>0.0</td>\n",
       "      <td>0.0</td>\n",
       "      <td>3.6</td>\n",
       "      <td>60.0</td>\n",
       "      <td>17241.0</td>\n",
       "    </tr>\n",
       "    <tr>\n",
       "      <th>MONZA</th>\n",
       "      <td>225279.0</td>\n",
       "      <td>94.765588</td>\n",
       "      <td>872.696258</td>\n",
       "      <td>0.0</td>\n",
       "      <td>6.0</td>\n",
       "      <td>44.0</td>\n",
       "      <td>88.0</td>\n",
       "      <td>330184.8</td>\n",
       "    </tr>\n",
       "    <tr>\n",
       "      <th>ROMA</th>\n",
       "      <td>79110.0</td>\n",
       "      <td>50.140030</td>\n",
       "      <td>143.771203</td>\n",
       "      <td>0.0</td>\n",
       "      <td>0.0</td>\n",
       "      <td>18.0</td>\n",
       "      <td>60.0</td>\n",
       "      <td>13200.0</td>\n",
       "    </tr>\n",
       "    <tr>\n",
       "      <th>SILVERSTONE</th>\n",
       "      <td>630903.0</td>\n",
       "      <td>94.086904</td>\n",
       "      <td>1039.848074</td>\n",
       "      <td>0.0</td>\n",
       "      <td>15.0</td>\n",
       "      <td>54.0</td>\n",
       "      <td>92.0</td>\n",
       "      <td>315747.6</td>\n",
       "    </tr>\n",
       "    <tr>\n",
       "      <th>SUZUKA</th>\n",
       "      <td>290975.0</td>\n",
       "      <td>100.328048</td>\n",
       "      <td>452.896950</td>\n",
       "      <td>0.0</td>\n",
       "      <td>24.0</td>\n",
       "      <td>60.0</td>\n",
       "      <td>112.0</td>\n",
       "      <td>197230.8</td>\n",
       "    </tr>\n",
       "  </tbody>\n",
       "</table>\n",
       "</div>"
      ],
      "text/plain": [
       "                        count        mean          std  min   25%   50%  \\\n",
       "PRODUCTION_LOCATION                                                       \n",
       "COTA                 116303.0   60.720869   108.688678  0.0   0.0  31.2   \n",
       "MONACO                84694.0   65.742548   251.565982  0.0   0.0   3.6   \n",
       "MONZA                225279.0   94.765588   872.696258  0.0   6.0  44.0   \n",
       "ROMA                  79110.0   50.140030   143.771203  0.0   0.0  18.0   \n",
       "SILVERSTONE          630903.0   94.086904  1039.848074  0.0  15.0  54.0   \n",
       "SUZUKA               290975.0  100.328048   452.896950  0.0  24.0  60.0   \n",
       "\n",
       "                       75%       max  \n",
       "PRODUCTION_LOCATION                   \n",
       "COTA                  72.0   10219.2  \n",
       "MONACO                60.0   17241.0  \n",
       "MONZA                 88.0  330184.8  \n",
       "ROMA                  60.0   13200.0  \n",
       "SILVERSTONE           92.0  315747.6  \n",
       "SUZUKA               112.0  197230.8  "
      ]
     },
     "execution_count": 139,
     "metadata": {},
     "output_type": "execute_result"
    }
   ],
   "source": [
    "df['ACTUAL_WORK_IN_MINUTES'].groupby(df['PRODUCTION_LOCATION']).describe()"
   ]
  },
  {
   "cell_type": "code",
   "execution_count": 179,
   "metadata": {
    "colab": {
     "base_uri": "https://localhost:8080/",
     "height": 466
    },
    "id": "3aRB6R3lngWC",
    "outputId": "45c204fc-d7c4-4a4e-bbc8-648039f50eea"
   },
   "outputs": [
    {
     "data": {
      "text/plain": [
       "<matplotlib.legend.Legend at 0x1e481303d50>"
      ]
     },
     "execution_count": 179,
     "metadata": {},
     "output_type": "execute_result"
    },
    {
     "data": {
      "image/png": "[encoded data removed]",
      "text/plain": [
       "<Figure size 640x480 with 1 Axes>"
      ]
     },
     "metadata": {},
     "output_type": "display_data"
    }
   ],
   "source": [
    "# Plotting the boxplot of Actual work in minutes as explained my production location\n",
    "sns.boxplot(x=df['PRODUCTION_LOCATION'], y=df['ACTUAL_WORK_IN_MINUTES'])\n",
    "plt.axhline(y=48, color='r', label='Median: 48 Minutes')\n",
    "plt.title('Actual Work in Minutes(Median) per Production Location')\n",
    "plt.xlabel('Production Location')\n",
    "plt.ylabel('Actual Work in Minutes')\n",
    "plt.legend(loc='upper right')"
   ]
  },
  {
   "cell_type": "markdown",
   "metadata": {},
   "source": [
    "This box plot illustrates the distribution of actual work times across various production locations, with the red line marking the median work time of 48 minutes. While the majority of maintenance tasks are completed within a shorter time, the plot highlights significant outliers, particularly in locations like Silverstone, Suzuka, and Monza, where some tasks take an extraordinary amount of time. These outliers significantly skew the data, pushing the mean work time much higher than the median."
   ]
  },
  {
   "cell_type": "markdown",
   "metadata": {
    "id": "uqX0V4kyf3sq"
   },
   "source": [
    "### Maintainance Activity Type (Planned vs Unplanned) <a id = 'scrollTo=uqX0V4kyf3sq'></a>\n"
   ]
  },
  {
   "cell_type": "code",
   "execution_count": 141,
   "metadata": {
    "colab": {
     "base_uri": "https://localhost:8080/",
     "height": 178
    },
    "id": "m3JJdDPDQSUP",
    "outputId": "3cc98703-a070-48dd-fbcf-1fdd841f35e6"
   },
   "outputs": [
    {
     "data": {
      "text/plain": [
       "MAINTENANCE_ACTIVITY_TYPE\n",
       "Unplanned    89.463267\n",
       "Planned      10.536733\n",
       "Name: count, dtype: float64"
      ]
     },
     "execution_count": 141,
     "metadata": {},
     "output_type": "execute_result"
    }
   ],
   "source": [
    "# Planned vs Unplanned maintainance proportion comparison\n",
    "df['MAINTENANCE_ACTIVITY_TYPE'].value_counts()/len(df)*100"
   ]
  },
  {
   "cell_type": "markdown",
   "metadata": {},
   "source": [
    "Nearly 90% of maintenance tasks are unplanned, while only about 10% are planned. This high proportion of unplanned tasks reflects a largely reactive approach to maintenance, which often results in higher costs and longer downtimes."
   ]
  },
  {
   "cell_type": "code",
   "execution_count": 142,
   "metadata": {
    "colab": {
     "base_uri": "https://localhost:8080/",
     "height": 178
    },
    "id": "HKU7cDgvRhOe",
    "outputId": "23bf811f-6acb-4754-c7e2-5557e759e488"
   },
   "outputs": [
    {
     "data": {
      "text/plain": [
       "MAINTENANCE_ACTIVITY_TYPE\n",
       "Planned      48.034311\n",
       "Unplanned    93.410893\n",
       "Name: ACTUAL_WORK_IN_MINUTES, dtype: float64"
      ]
     },
     "execution_count": 142,
     "metadata": {},
     "output_type": "execute_result"
    }
   ],
   "source": [
    "# Planned vs Unplanned maintainance Actaul workimg time comparison (Mean)\n",
    "df.groupby('MAINTENANCE_ACTIVITY_TYPE')['ACTUAL_WORK_IN_MINUTES'].mean()"
   ]
  },
  {
   "cell_type": "code",
   "execution_count": 143,
   "metadata": {
    "colab": {
     "base_uri": "https://localhost:8080/",
     "height": 178
    },
    "id": "6et8q60CXUeB",
    "outputId": "5a3c43bd-109b-4698-e306-b0a5722cdf99"
   },
   "outputs": [
    {
     "data": {
      "text/plain": [
       "MAINTENANCE_ACTIVITY_TYPE\n",
       "Planned      30.0\n",
       "Unplanned    52.0\n",
       "Name: ACTUAL_WORK_IN_MINUTES, dtype: float64"
      ]
     },
     "execution_count": 143,
     "metadata": {},
     "output_type": "execute_result"
    }
   ],
   "source": [
    "# Planned vs Unplanned maintainance Actaul workimg time comparison (Median)\n",
    "df.groupby('MAINTENANCE_ACTIVITY_TYPE')['ACTUAL_WORK_IN_MINUTES'].median()"
   ]
  },
  {
   "cell_type": "markdown",
   "metadata": {},
   "source": [
    "Unplanned maintenance takes approximately twice as long as planned tasks, with a mean time of approx. 94 minutes compared to 48 minutes for planned tasks. The median values also reflect this trend, with unplanned tasks taking 52 minutes compared to 30 minutes for planned ones. This discrepancy underscores the importance of preventive maintenance strategies to mitigate time lost to unforeseen breakdowns."
   ]
  },
  {
   "cell_type": "markdown",
   "metadata": {
    "id": "hAPRIj8olJC8"
   },
   "source": [
    "### Fuctional Location Code Frequency <a id = 'scrollTo=hAPRIj8olJC8'></a>\n",
    "\n",
    "Location Code consists of 5 different components.\n",
    "\n",
    "plant – process – sub process – product line – machine\n",
    "\n",
    "Location Code is broken into FUNCTIONAL_AREA_NODEs to better identify which components is causing the issue."
   ]
  },
  {
   "cell_type": "code",
   "execution_count": 144,
   "metadata": {
    "colab": {
     "base_uri": "https://localhost:8080/",
     "height": 398
    },
    "id": "vK92lfV0lL3J",
    "outputId": "ae82935b-fba6-47ea-dce1-1c67f0dd7a61"
   },
   "outputs": [
    {
     "data": {
      "text/plain": [
       "PRD     288793\n",
       "L30     132272\n",
       "L15     103531\n",
       "G816     70188\n",
       "L02      66760\n",
       "L01      63482\n",
       "G261     62625\n",
       "G291     58343\n",
       "L03      47422\n",
       "L080     46355\n",
       "Name: count, dtype: int64"
      ]
     },
     "execution_count": 144,
     "metadata": {},
     "output_type": "execute_result"
    }
   ],
   "source": [
    "#  Location-Code: plant – process – sub process – product line – machine\n",
    "func_loc = []\n",
    "\n",
    "for i in df['FUCTIONAL_LOC_SPLIT'].tolist():\n",
    "  # Check if 'i' is iterable before extending\n",
    "  if isinstance(i, (list, tuple)):\n",
    "    func_loc.extend(i)\n",
    "  # If 'i' is not iterable and not NaN, append it as a single element\n",
    "  elif i is not np.nan:\n",
    "    func_loc.append(i)\n",
    "\n",
    "func_loc = pd.Series(func_loc)\n",
    "func_loc.value_counts().nlargest(10)"
   ]
  },
  {
   "cell_type": "code",
   "execution_count": 145,
   "metadata": {
    "colab": {
     "base_uri": "https://localhost:8080/",
     "height": 398
    },
    "id": "nTSilZhiz3X6",
    "outputId": "fcc56c9b-1210-40e5-86c2-c9ed9644e4de"
   },
   "outputs": [
    {
     "data": {
      "text/plain": [
       "PRD     98.975604\n",
       "L30     45.332474\n",
       "L15     35.482312\n",
       "G816    24.054945\n",
       "L02     22.880095\n",
       "L01     21.756654\n",
       "G261    21.462941\n",
       "G291    19.995407\n",
       "L03     16.252545\n",
       "L080    15.886861\n",
       "Name: count, dtype: float64"
      ]
     },
     "execution_count": 145,
     "metadata": {},
     "output_type": "execute_result"
    }
   ],
   "source": [
    "(func_loc.value_counts()/ (len(df) * (1 - .79556550)) * 100).nlargest(10)"
   ]
  },
  {
   "cell_type": "code",
   "execution_count": 146,
   "metadata": {
    "id": "yOC6rs0cvj1Q"
   },
   "outputs": [],
   "source": [
    "def func_area_code_explore(df = df, code = '', sample = 50):\n",
    "  df.loc[df['FUNCTIONAL_LOC'].str.contains(code, na=False), df.columns[df.columns.str.contains('FUNCTIONAL_AREA')]].sample(sample)"
   ]
  },
  {
   "cell_type": "code",
   "execution_count": 147,
   "metadata": {
    "colab": {
     "base_uri": "https://localhost:8080/",
     "height": 363
    },
    "id": "-lnsXllEv536",
    "outputId": "afe55979-f187-49e3-9487-c163f576a07a"
   },
   "outputs": [
    {
     "data": {
      "text/html": [
       "<div>\n",
       "<style scoped>\n",
       "    .dataframe tbody tr th:only-of-type {\n",
       "        vertical-align: middle;\n",
       "    }\n",
       "\n",
       "    .dataframe tbody tr th {\n",
       "        vertical-align: top;\n",
       "    }\n",
       "\n",
       "    .dataframe thead th {\n",
       "        text-align: right;\n",
       "    }\n",
       "</style>\n",
       "<table border=\"1\" class=\"dataframe\">\n",
       "  <thead>\n",
       "    <tr style=\"text-align: right;\">\n",
       "      <th></th>\n",
       "      <th>FUNCTIONAL_LOC</th>\n",
       "      <th>FUNCTIONAL_AREA_NODE_1_MODIFIED</th>\n",
       "      <th>FUNCTIONAL_AREA_NODE_2_MODIFIED</th>\n",
       "      <th>FUNCTIONAL_AREA_NODE_3_MODIFIED</th>\n",
       "      <th>FUNCTIONAL_AREA_NODE_4_MODIFIED</th>\n",
       "      <th>FUNCTIONAL_AREA_NODE_5_MODIFIED</th>\n",
       "      <th>B_FUNCTIONAL_DURATION</th>\n",
       "    </tr>\n",
       "  </thead>\n",
       "  <tbody>\n",
       "    <tr>\n",
       "      <th>1108757</th>\n",
       "      <td>G816-PRD-L30-L04-L030</td>\n",
       "      <td>COTA PRODUCTION</td>\n",
       "      <td>BOTTLE LINE</td>\n",
       "      <td>LINE #4 - BOTTLE_LINE_PET</td>\n",
       "      <td>CONVEYOR</td>\n",
       "      <td>NaN</td>\n",
       "      <td>NaT</td>\n",
       "    </tr>\n",
       "    <tr>\n",
       "      <th>1067030</th>\n",
       "      <td>G291-PRD-L30-L02-L080</td>\n",
       "      <td>MONZA PRODUCTION</td>\n",
       "      <td>BTL_PET_LINE</td>\n",
       "      <td>LINE #2 - FILLER_ROT_BTL_PET</td>\n",
       "      <td>FILLER</td>\n",
       "      <td>NaN</td>\n",
       "      <td>0 days</td>\n",
       "    </tr>\n",
       "    <tr>\n",
       "      <th>1380878</th>\n",
       "      <td>G291-PRD-L30-L01-L010</td>\n",
       "      <td>MONZA PRODUCTION</td>\n",
       "      <td>BTL_PET_LINE</td>\n",
       "      <td>LINE #1 - FILLER_ROT_BTL_PET</td>\n",
       "      <td>CAPPER</td>\n",
       "      <td>NaN</td>\n",
       "      <td>0 days</td>\n",
       "    </tr>\n",
       "    <tr>\n",
       "      <th>1243021</th>\n",
       "      <td>G261-PRD-L30-L01-S180</td>\n",
       "      <td>SILVERSTONE PRODUCTION</td>\n",
       "      <td>LINES 1,2,9 - BOTTLE LINES</td>\n",
       "      <td>LINE #1 - ROT_BTL_PET</td>\n",
       "      <td>MIXER/BLENZER</td>\n",
       "      <td>NaN</td>\n",
       "      <td>NaT</td>\n",
       "    </tr>\n",
       "    <tr>\n",
       "      <th>975258</th>\n",
       "      <td>G812-PRD-L30-L02-L080</td>\n",
       "      <td>PRODUCTION</td>\n",
       "      <td>G812 PRD FILLER_ROT_BTL_PET</td>\n",
       "      <td>G812 PRD FILLER_ROT_BTL_PET LINE 2</td>\n",
       "      <td>FILLER</td>\n",
       "      <td>NaN</td>\n",
       "      <td>NaT</td>\n",
       "    </tr>\n",
       "    <tr>\n",
       "      <th>1336784</th>\n",
       "      <td>G291-PRD-L30-L03-L100</td>\n",
       "      <td>MONZA PRODUCTION</td>\n",
       "      <td>BTL_PET_LINE</td>\n",
       "      <td>LINE #3 - FILLER_ROT_BTL_PET</td>\n",
       "      <td>LABELER</td>\n",
       "      <td>NaN</td>\n",
       "      <td>10 days</td>\n",
       "    </tr>\n",
       "    <tr>\n",
       "      <th>796472</th>\n",
       "      <td>G221-PRD-L30-L01-L080</td>\n",
       "      <td>SUZUKA PRODUCTION</td>\n",
       "      <td>L1, L2, L6 PET BOTTLE LINES</td>\n",
       "      <td>LINE #1 - FILLER_ROT_BTL_PET</td>\n",
       "      <td>FILLER</td>\n",
       "      <td>NaN</td>\n",
       "      <td>NaT</td>\n",
       "    </tr>\n",
       "    <tr>\n",
       "      <th>623267</th>\n",
       "      <td>G811-PRD-L30-L03-L120</td>\n",
       "      <td>PRODUCTION</td>\n",
       "      <td>LINE 2,3 PET BOTTLE LINES</td>\n",
       "      <td>LINE 3 SMALL PET</td>\n",
       "      <td>PACKER</td>\n",
       "      <td>NaN</td>\n",
       "      <td>NaT</td>\n",
       "    </tr>\n",
       "    <tr>\n",
       "      <th>934527</th>\n",
       "      <td>G291-PRD-L30-L01-L080</td>\n",
       "      <td>MONZA PRODUCTION</td>\n",
       "      <td>BTL_PET_LINE</td>\n",
       "      <td>LINE #1 - FILLER_ROT_BTL_PET</td>\n",
       "      <td>FILLER</td>\n",
       "      <td>NaN</td>\n",
       "      <td>0 days</td>\n",
       "    </tr>\n",
       "    <tr>\n",
       "      <th>792590</th>\n",
       "      <td>G816-PRD-L30-L04-L130</td>\n",
       "      <td>COTA PRODUCTION</td>\n",
       "      <td>BOTTLE LINE</td>\n",
       "      <td>LINE #4 - BOTTLE_LINE_PET</td>\n",
       "      <td>PALLETIZER</td>\n",
       "      <td>NaN</td>\n",
       "      <td>NaT</td>\n",
       "    </tr>\n",
       "  </tbody>\n",
       "</table>\n",
       "</div>"
      ],
      "text/plain": [
       "                FUNCTIONAL_LOC FUNCTIONAL_AREA_NODE_1_MODIFIED  \\\n",
       "1108757  G816-PRD-L30-L04-L030                 COTA PRODUCTION   \n",
       "1067030  G291-PRD-L30-L02-L080                MONZA PRODUCTION   \n",
       "1380878  G291-PRD-L30-L01-L010                MONZA PRODUCTION   \n",
       "1243021  G261-PRD-L30-L01-S180          SILVERSTONE PRODUCTION   \n",
       "975258   G812-PRD-L30-L02-L080                      PRODUCTION   \n",
       "1336784  G291-PRD-L30-L03-L100                MONZA PRODUCTION   \n",
       "796472   G221-PRD-L30-L01-L080               SUZUKA PRODUCTION   \n",
       "623267   G811-PRD-L30-L03-L120                      PRODUCTION   \n",
       "934527   G291-PRD-L30-L01-L080                MONZA PRODUCTION   \n",
       "792590   G816-PRD-L30-L04-L130                 COTA PRODUCTION   \n",
       "\n",
       "        FUNCTIONAL_AREA_NODE_2_MODIFIED     FUNCTIONAL_AREA_NODE_3_MODIFIED  \\\n",
       "1108757                     BOTTLE LINE           LINE #4 - BOTTLE_LINE_PET   \n",
       "1067030                    BTL_PET_LINE        LINE #2 - FILLER_ROT_BTL_PET   \n",
       "1380878                    BTL_PET_LINE        LINE #1 - FILLER_ROT_BTL_PET   \n",
       "1243021      LINES 1,2,9 - BOTTLE LINES               LINE #1 - ROT_BTL_PET   \n",
       "975258      G812 PRD FILLER_ROT_BTL_PET  G812 PRD FILLER_ROT_BTL_PET LINE 2   \n",
       "1336784                    BTL_PET_LINE        LINE #3 - FILLER_ROT_BTL_PET   \n",
       "796472      L1, L2, L6 PET BOTTLE LINES        LINE #1 - FILLER_ROT_BTL_PET   \n",
       "623267        LINE 2,3 PET BOTTLE LINES                    LINE 3 SMALL PET   \n",
       "934527                     BTL_PET_LINE        LINE #1 - FILLER_ROT_BTL_PET   \n",
       "792590                      BOTTLE LINE           LINE #4 - BOTTLE_LINE_PET   \n",
       "\n",
       "        FUNCTIONAL_AREA_NODE_4_MODIFIED FUNCTIONAL_AREA_NODE_5_MODIFIED  \\\n",
       "1108757                        CONVEYOR                             NaN   \n",
       "1067030                          FILLER                             NaN   \n",
       "1380878                          CAPPER                             NaN   \n",
       "1243021                   MIXER/BLENZER                             NaN   \n",
       "975258                           FILLER                             NaN   \n",
       "1336784                         LABELER                             NaN   \n",
       "796472                           FILLER                             NaN   \n",
       "623267                           PACKER                             NaN   \n",
       "934527                           FILLER                             NaN   \n",
       "792590                       PALLETIZER                             NaN   \n",
       "\n",
       "        B_FUNCTIONAL_DURATION  \n",
       "1108757                   NaT  \n",
       "1067030                0 days  \n",
       "1380878                0 days  \n",
       "1243021                   NaT  \n",
       "975258                    NaT  \n",
       "1336784               10 days  \n",
       "796472                    NaT  \n",
       "623267                    NaT  \n",
       "934527                 0 days  \n",
       "792590                    NaT  "
      ]
     },
     "execution_count": 147,
     "metadata": {},
     "output_type": "execute_result"
    }
   ],
   "source": [
    "# L30 = Bottle Line\n",
    "df.loc[df['FUNCTIONAL_LOC'].str.contains('L30', na=False), df.columns[df.columns.str.contains('FUNCTIONAL')]].sample(10)"
   ]
  },
  {
   "cell_type": "code",
   "execution_count": 148,
   "metadata": {
    "colab": {
     "base_uri": "https://localhost:8080/",
     "height": 363
    },
    "id": "OCD7vxEkpzMO",
    "outputId": "7808d083-07cf-4020-f399-de50e913394f"
   },
   "outputs": [
    {
     "data": {
      "text/html": [
       "<div>\n",
       "<style scoped>\n",
       "    .dataframe tbody tr th:only-of-type {\n",
       "        vertical-align: middle;\n",
       "    }\n",
       "\n",
       "    .dataframe tbody tr th {\n",
       "        vertical-align: top;\n",
       "    }\n",
       "\n",
       "    .dataframe thead th {\n",
       "        text-align: right;\n",
       "    }\n",
       "</style>\n",
       "<table border=\"1\" class=\"dataframe\">\n",
       "  <thead>\n",
       "    <tr style=\"text-align: right;\">\n",
       "      <th></th>\n",
       "      <th>FUNCTIONAL_LOC</th>\n",
       "      <th>FUNCTIONAL_AREA_NODE_1_MODIFIED</th>\n",
       "      <th>FUNCTIONAL_AREA_NODE_2_MODIFIED</th>\n",
       "      <th>FUNCTIONAL_AREA_NODE_3_MODIFIED</th>\n",
       "      <th>FUNCTIONAL_AREA_NODE_4_MODIFIED</th>\n",
       "      <th>FUNCTIONAL_AREA_NODE_5_MODIFIED</th>\n",
       "      <th>B_FUNCTIONAL_DURATION</th>\n",
       "    </tr>\n",
       "  </thead>\n",
       "  <tbody>\n",
       "    <tr>\n",
       "      <th>626951</th>\n",
       "      <td>G291-PRD-L15-L04-L120</td>\n",
       "      <td>MONZA PRODUCTION</td>\n",
       "      <td>ROTARY_CAN_LINE</td>\n",
       "      <td>LINE #4-FILLER_ROTARY_CAN</td>\n",
       "      <td>PACKER</td>\n",
       "      <td>NaN</td>\n",
       "      <td>2423 days</td>\n",
       "    </tr>\n",
       "    <tr>\n",
       "      <th>6025</th>\n",
       "      <td>G816-PRD-L15-L01-L120</td>\n",
       "      <td>COTA PRODUCTION</td>\n",
       "      <td>CAN LINE</td>\n",
       "      <td>LINE #1-CAN_LINE</td>\n",
       "      <td>PACKER</td>\n",
       "      <td>NaN</td>\n",
       "      <td>2 days</td>\n",
       "    </tr>\n",
       "    <tr>\n",
       "      <th>578505</th>\n",
       "      <td>G816-PRD-L15-L01-L030</td>\n",
       "      <td>COTA PRODUCTION</td>\n",
       "      <td>CAN LINE</td>\n",
       "      <td>LINE #1-CAN_LINE</td>\n",
       "      <td>CONVEYOR</td>\n",
       "      <td>NaN</td>\n",
       "      <td>NaT</td>\n",
       "    </tr>\n",
       "    <tr>\n",
       "      <th>1065566</th>\n",
       "      <td>G812-PRD-L15-L03-L080</td>\n",
       "      <td>PRODUCTION</td>\n",
       "      <td>G812 PRD FILLER_ROTARY_CAN</td>\n",
       "      <td>G812 PRD FILLER_ROTARY_CAN LINE 3</td>\n",
       "      <td>FILLER</td>\n",
       "      <td>NaN</td>\n",
       "      <td>-78 days</td>\n",
       "    </tr>\n",
       "    <tr>\n",
       "      <th>711209</th>\n",
       "      <td>G261-PRD-L15-L04-L070</td>\n",
       "      <td>SILVERSTONE PRODUCTION</td>\n",
       "      <td>LINES 3,4,10 - CAN LINES</td>\n",
       "      <td>LINE #4-FILLER_ROTARY_CAN</td>\n",
       "      <td>DETECTOR, PRODUCT</td>\n",
       "      <td>NaN</td>\n",
       "      <td>NaT</td>\n",
       "    </tr>\n",
       "    <tr>\n",
       "      <th>844685</th>\n",
       "      <td>G812-PRD-L15-L03-L060</td>\n",
       "      <td>PRODUCTION</td>\n",
       "      <td>G812 PRD FILLER_ROTARY_CAN</td>\n",
       "      <td>G812 PRD FILLER_ROTARY_CAN LINE 3</td>\n",
       "      <td>DEPALLETIZER</td>\n",
       "      <td>NaN</td>\n",
       "      <td>-76 days</td>\n",
       "    </tr>\n",
       "    <tr>\n",
       "      <th>1285572</th>\n",
       "      <td>G816-PRD-L15-L03-L020</td>\n",
       "      <td>COTA PRODUCTION</td>\n",
       "      <td>CAN LINE</td>\n",
       "      <td>LINE #3-CAN_LINE</td>\n",
       "      <td>CODER</td>\n",
       "      <td>NaN</td>\n",
       "      <td>NaT</td>\n",
       "    </tr>\n",
       "    <tr>\n",
       "      <th>749965</th>\n",
       "      <td>G221-PRD-L15-L04-L080</td>\n",
       "      <td>SUZUKA PRODUCTION</td>\n",
       "      <td>L4 - FILLER_ROTARY_CAN</td>\n",
       "      <td>LINE #4-FILLER_ROTARY_CAN</td>\n",
       "      <td>FILLER</td>\n",
       "      <td>NaN</td>\n",
       "      <td>NaT</td>\n",
       "    </tr>\n",
       "    <tr>\n",
       "      <th>839093</th>\n",
       "      <td>G261-PRD-L15-L03-L030</td>\n",
       "      <td>SILVERSTONE PRODUCTION</td>\n",
       "      <td>LINES 3,4,10 - CAN LINES</td>\n",
       "      <td>LINE #3-FILLER_ROTARY_CAN</td>\n",
       "      <td>CONVEYOR</td>\n",
       "      <td>NaN</td>\n",
       "      <td>NaT</td>\n",
       "    </tr>\n",
       "    <tr>\n",
       "      <th>577257</th>\n",
       "      <td>G261-PRD-L15-L03-L060</td>\n",
       "      <td>SILVERSTONE PRODUCTION</td>\n",
       "      <td>LINES 3,4,10 - CAN LINES</td>\n",
       "      <td>LINE #3-FILLER_ROTARY_CAN</td>\n",
       "      <td>DEPALLETIZER</td>\n",
       "      <td>NaN</td>\n",
       "      <td>NaT</td>\n",
       "    </tr>\n",
       "  </tbody>\n",
       "</table>\n",
       "</div>"
      ],
      "text/plain": [
       "                FUNCTIONAL_LOC FUNCTIONAL_AREA_NODE_1_MODIFIED  \\\n",
       "626951   G291-PRD-L15-L04-L120                MONZA PRODUCTION   \n",
       "6025     G816-PRD-L15-L01-L120                 COTA PRODUCTION   \n",
       "578505   G816-PRD-L15-L01-L030                 COTA PRODUCTION   \n",
       "1065566  G812-PRD-L15-L03-L080                      PRODUCTION   \n",
       "711209   G261-PRD-L15-L04-L070          SILVERSTONE PRODUCTION   \n",
       "844685   G812-PRD-L15-L03-L060                      PRODUCTION   \n",
       "1285572  G816-PRD-L15-L03-L020                 COTA PRODUCTION   \n",
       "749965   G221-PRD-L15-L04-L080               SUZUKA PRODUCTION   \n",
       "839093   G261-PRD-L15-L03-L030          SILVERSTONE PRODUCTION   \n",
       "577257   G261-PRD-L15-L03-L060          SILVERSTONE PRODUCTION   \n",
       "\n",
       "        FUNCTIONAL_AREA_NODE_2_MODIFIED    FUNCTIONAL_AREA_NODE_3_MODIFIED  \\\n",
       "626951                  ROTARY_CAN_LINE          LINE #4-FILLER_ROTARY_CAN   \n",
       "6025                           CAN LINE                   LINE #1-CAN_LINE   \n",
       "578505                         CAN LINE                   LINE #1-CAN_LINE   \n",
       "1065566      G812 PRD FILLER_ROTARY_CAN  G812 PRD FILLER_ROTARY_CAN LINE 3   \n",
       "711209         LINES 3,4,10 - CAN LINES          LINE #4-FILLER_ROTARY_CAN   \n",
       "844685       G812 PRD FILLER_ROTARY_CAN  G812 PRD FILLER_ROTARY_CAN LINE 3   \n",
       "1285572                        CAN LINE                   LINE #3-CAN_LINE   \n",
       "749965           L4 - FILLER_ROTARY_CAN          LINE #4-FILLER_ROTARY_CAN   \n",
       "839093         LINES 3,4,10 - CAN LINES          LINE #3-FILLER_ROTARY_CAN   \n",
       "577257         LINES 3,4,10 - CAN LINES          LINE #3-FILLER_ROTARY_CAN   \n",
       "\n",
       "        FUNCTIONAL_AREA_NODE_4_MODIFIED FUNCTIONAL_AREA_NODE_5_MODIFIED  \\\n",
       "626951                           PACKER                             NaN   \n",
       "6025                             PACKER                             NaN   \n",
       "578505                         CONVEYOR                             NaN   \n",
       "1065566                          FILLER                             NaN   \n",
       "711209                DETECTOR, PRODUCT                             NaN   \n",
       "844685                     DEPALLETIZER                             NaN   \n",
       "1285572                           CODER                             NaN   \n",
       "749965                           FILLER                             NaN   \n",
       "839093                         CONVEYOR                             NaN   \n",
       "577257                     DEPALLETIZER                             NaN   \n",
       "\n",
       "        B_FUNCTIONAL_DURATION  \n",
       "626951              2423 days  \n",
       "6025                   2 days  \n",
       "578505                    NaT  \n",
       "1065566              -78 days  \n",
       "711209                    NaT  \n",
       "844685               -76 days  \n",
       "1285572                   NaT  \n",
       "749965                    NaT  \n",
       "839093                    NaT  \n",
       "577257                    NaT  "
      ]
     },
     "execution_count": 148,
     "metadata": {},
     "output_type": "execute_result"
    }
   ],
   "source": [
    "# L15 = Can Line\n",
    "df.loc[df['FUNCTIONAL_LOC'].str.contains('L15', na=False), df.columns[df.columns.str.contains('FUNCTIONAL')]].sample(10)"
   ]
  },
  {
   "cell_type": "code",
   "execution_count": 149,
   "metadata": {
    "colab": {
     "base_uri": "https://localhost:8080/",
     "height": 363
    },
    "id": "4iaX0r7j1VCy",
    "outputId": "b6ad0285-78e0-4b91-f35b-4e46f53b8505"
   },
   "outputs": [
    {
     "data": {
      "text/html": [
       "<div>\n",
       "<style scoped>\n",
       "    .dataframe tbody tr th:only-of-type {\n",
       "        vertical-align: middle;\n",
       "    }\n",
       "\n",
       "    .dataframe tbody tr th {\n",
       "        vertical-align: top;\n",
       "    }\n",
       "\n",
       "    .dataframe thead th {\n",
       "        text-align: right;\n",
       "    }\n",
       "</style>\n",
       "<table border=\"1\" class=\"dataframe\">\n",
       "  <thead>\n",
       "    <tr style=\"text-align: right;\">\n",
       "      <th></th>\n",
       "      <th>FUNCTIONAL_LOC</th>\n",
       "      <th>FUNCTIONAL_AREA_NODE_1_MODIFIED</th>\n",
       "      <th>FUNCTIONAL_AREA_NODE_2_MODIFIED</th>\n",
       "      <th>FUNCTIONAL_AREA_NODE_3_MODIFIED</th>\n",
       "      <th>FUNCTIONAL_AREA_NODE_4_MODIFIED</th>\n",
       "      <th>FUNCTIONAL_AREA_NODE_5_MODIFIED</th>\n",
       "      <th>B_FUNCTIONAL_DURATION</th>\n",
       "    </tr>\n",
       "  </thead>\n",
       "  <tbody>\n",
       "    <tr>\n",
       "      <th>1334262</th>\n",
       "      <td>G816-PRD-L30-L02-L080</td>\n",
       "      <td>COTA PRODUCTION</td>\n",
       "      <td>BOTTLE LINE</td>\n",
       "      <td>LINE #2 - BOTTLE_LINE_PET</td>\n",
       "      <td>FILLER</td>\n",
       "      <td>NaN</td>\n",
       "      <td>NaT</td>\n",
       "    </tr>\n",
       "    <tr>\n",
       "      <th>712100</th>\n",
       "      <td>G816-PRD-L30-L02-L030</td>\n",
       "      <td>COTA PRODUCTION</td>\n",
       "      <td>BOTTLE LINE</td>\n",
       "      <td>LINE #2 - BOTTLE_LINE_PET</td>\n",
       "      <td>CONVEYOR</td>\n",
       "      <td>NaN</td>\n",
       "      <td>NaT</td>\n",
       "    </tr>\n",
       "    <tr>\n",
       "      <th>1106364</th>\n",
       "      <td>G816-PRD-P05</td>\n",
       "      <td>COTA PRODUCTION</td>\n",
       "      <td>AIR SYSTEMS</td>\n",
       "      <td>NaN</td>\n",
       "      <td>NaN</td>\n",
       "      <td>NaN</td>\n",
       "      <td>NaT</td>\n",
       "    </tr>\n",
       "    <tr>\n",
       "      <th>1199654</th>\n",
       "      <td>G816-PRD-L15-L01-L060</td>\n",
       "      <td>COTA PRODUCTION</td>\n",
       "      <td>CAN LINE</td>\n",
       "      <td>LINE #1-CAN_LINE</td>\n",
       "      <td>DEPALLETIZER</td>\n",
       "      <td>NaN</td>\n",
       "      <td>NaT</td>\n",
       "    </tr>\n",
       "    <tr>\n",
       "      <th>1016343</th>\n",
       "      <td>G816-PRD</td>\n",
       "      <td>COTA PRODUCTION</td>\n",
       "      <td>NaN</td>\n",
       "      <td>NaN</td>\n",
       "      <td>NaN</td>\n",
       "      <td>NaN</td>\n",
       "      <td>NaT</td>\n",
       "    </tr>\n",
       "    <tr>\n",
       "      <th>44581</th>\n",
       "      <td>G816-PRD-L15-L03-L150</td>\n",
       "      <td>COTA PRODUCTION</td>\n",
       "      <td>CAN LINE</td>\n",
       "      <td>LINE #3-CAN_LINE</td>\n",
       "      <td>SEAMER, ROTARY</td>\n",
       "      <td>NaN</td>\n",
       "      <td>NaT</td>\n",
       "    </tr>\n",
       "    <tr>\n",
       "      <th>841002</th>\n",
       "      <td>G816-PRD-P40-XXX-S020</td>\n",
       "      <td>COTA PRODUCTION</td>\n",
       "      <td>HEATING SYSTEMS</td>\n",
       "      <td>HEATING SYSTEMS</td>\n",
       "      <td>BOILER</td>\n",
       "      <td>NaN</td>\n",
       "      <td>NaT</td>\n",
       "    </tr>\n",
       "    <tr>\n",
       "      <th>792512</th>\n",
       "      <td>G816-PRD-L15-L03-L130</td>\n",
       "      <td>COTA PRODUCTION</td>\n",
       "      <td>CAN LINE</td>\n",
       "      <td>LINE #3-CAN_LINE</td>\n",
       "      <td>PALLETIZER</td>\n",
       "      <td>NaN</td>\n",
       "      <td>NaT</td>\n",
       "    </tr>\n",
       "    <tr>\n",
       "      <th>1108676</th>\n",
       "      <td>G816-PRD-L30-L02-L120</td>\n",
       "      <td>COTA PRODUCTION</td>\n",
       "      <td>BOTTLE LINE</td>\n",
       "      <td>LINE #2 - BOTTLE_LINE_PET</td>\n",
       "      <td>PACKER</td>\n",
       "      <td>NaN</td>\n",
       "      <td>NaT</td>\n",
       "    </tr>\n",
       "    <tr>\n",
       "      <th>223659</th>\n",
       "      <td>G816-PRD-L30-L02-L140</td>\n",
       "      <td>COTA PRODUCTION</td>\n",
       "      <td>BOTTLE LINE</td>\n",
       "      <td>LINE #2 - BOTTLE_LINE_PET</td>\n",
       "      <td>RINSER</td>\n",
       "      <td>NaN</td>\n",
       "      <td>NaT</td>\n",
       "    </tr>\n",
       "  </tbody>\n",
       "</table>\n",
       "</div>"
      ],
      "text/plain": [
       "                FUNCTIONAL_LOC FUNCTIONAL_AREA_NODE_1_MODIFIED  \\\n",
       "1334262  G816-PRD-L30-L02-L080                 COTA PRODUCTION   \n",
       "712100   G816-PRD-L30-L02-L030                 COTA PRODUCTION   \n",
       "1106364           G816-PRD-P05                 COTA PRODUCTION   \n",
       "1199654  G816-PRD-L15-L01-L060                 COTA PRODUCTION   \n",
       "1016343               G816-PRD                 COTA PRODUCTION   \n",
       "44581    G816-PRD-L15-L03-L150                 COTA PRODUCTION   \n",
       "841002   G816-PRD-P40-XXX-S020                 COTA PRODUCTION   \n",
       "792512   G816-PRD-L15-L03-L130                 COTA PRODUCTION   \n",
       "1108676  G816-PRD-L30-L02-L120                 COTA PRODUCTION   \n",
       "223659   G816-PRD-L30-L02-L140                 COTA PRODUCTION   \n",
       "\n",
       "        FUNCTIONAL_AREA_NODE_2_MODIFIED FUNCTIONAL_AREA_NODE_3_MODIFIED  \\\n",
       "1334262                     BOTTLE LINE       LINE #2 - BOTTLE_LINE_PET   \n",
       "712100                      BOTTLE LINE       LINE #2 - BOTTLE_LINE_PET   \n",
       "1106364                     AIR SYSTEMS                             NaN   \n",
       "1199654                        CAN LINE                LINE #1-CAN_LINE   \n",
       "1016343                             NaN                             NaN   \n",
       "44581                          CAN LINE                LINE #3-CAN_LINE   \n",
       "841002                  HEATING SYSTEMS                 HEATING SYSTEMS   \n",
       "792512                         CAN LINE                LINE #3-CAN_LINE   \n",
       "1108676                     BOTTLE LINE       LINE #2 - BOTTLE_LINE_PET   \n",
       "223659                      BOTTLE LINE       LINE #2 - BOTTLE_LINE_PET   \n",
       "\n",
       "        FUNCTIONAL_AREA_NODE_4_MODIFIED FUNCTIONAL_AREA_NODE_5_MODIFIED  \\\n",
       "1334262                          FILLER                             NaN   \n",
       "712100                         CONVEYOR                             NaN   \n",
       "1106364                             NaN                             NaN   \n",
       "1199654                    DEPALLETIZER                             NaN   \n",
       "1016343                             NaN                             NaN   \n",
       "44581                    SEAMER, ROTARY                             NaN   \n",
       "841002                           BOILER                             NaN   \n",
       "792512                       PALLETIZER                             NaN   \n",
       "1108676                          PACKER                             NaN   \n",
       "223659                           RINSER                             NaN   \n",
       "\n",
       "        B_FUNCTIONAL_DURATION  \n",
       "1334262                   NaT  \n",
       "712100                    NaT  \n",
       "1106364                   NaT  \n",
       "1199654                   NaT  \n",
       "1016343                   NaT  \n",
       "44581                     NaT  \n",
       "841002                    NaT  \n",
       "792512                    NaT  \n",
       "1108676                   NaT  \n",
       "223659                    NaT  "
      ]
     },
     "execution_count": 149,
     "metadata": {},
     "output_type": "execute_result"
    }
   ],
   "source": [
    "# G816 = COTA Production\n",
    "df.loc[df['FUNCTIONAL_LOC'].str.contains('G816', na=False), df.columns[df.columns.str.contains('FUNCTIONAL')]].sample(10)"
   ]
  },
  {
   "cell_type": "code",
   "execution_count": 150,
   "metadata": {
    "colab": {
     "base_uri": "https://localhost:8080/",
     "height": 363
    },
    "id": "j03pJufe2ML-",
    "outputId": "d52af46b-4970-42d7-cd41-277f86294929"
   },
   "outputs": [
    {
     "data": {
      "text/html": [
       "<div>\n",
       "<style scoped>\n",
       "    .dataframe tbody tr th:only-of-type {\n",
       "        vertical-align: middle;\n",
       "    }\n",
       "\n",
       "    .dataframe tbody tr th {\n",
       "        vertical-align: top;\n",
       "    }\n",
       "\n",
       "    .dataframe thead th {\n",
       "        text-align: right;\n",
       "    }\n",
       "</style>\n",
       "<table border=\"1\" class=\"dataframe\">\n",
       "  <thead>\n",
       "    <tr style=\"text-align: right;\">\n",
       "      <th></th>\n",
       "      <th>FUNCTIONAL_LOC</th>\n",
       "      <th>FUNCTIONAL_AREA_NODE_1_MODIFIED</th>\n",
       "      <th>FUNCTIONAL_AREA_NODE_2_MODIFIED</th>\n",
       "      <th>FUNCTIONAL_AREA_NODE_3_MODIFIED</th>\n",
       "      <th>FUNCTIONAL_AREA_NODE_4_MODIFIED</th>\n",
       "      <th>FUNCTIONAL_AREA_NODE_5_MODIFIED</th>\n",
       "      <th>B_FUNCTIONAL_DURATION</th>\n",
       "    </tr>\n",
       "  </thead>\n",
       "  <tbody>\n",
       "    <tr>\n",
       "      <th>885095</th>\n",
       "      <td>G261-PRD-L30-L02-L010</td>\n",
       "      <td>SILVERSTONE PRODUCTION</td>\n",
       "      <td>LINES 1,2,9 - BOTTLE LINES</td>\n",
       "      <td>LINE #2 - ROT_BTL_PET</td>\n",
       "      <td>CAPPER</td>\n",
       "      <td>NaN</td>\n",
       "      <td>NaT</td>\n",
       "    </tr>\n",
       "    <tr>\n",
       "      <th>317687</th>\n",
       "      <td>G261-PRD-L30-L01-L060</td>\n",
       "      <td>SILVERSTONE PRODUCTION</td>\n",
       "      <td>LINES 1,2,9 - BOTTLE LINES</td>\n",
       "      <td>LINE #1 - ROT_BTL_PET</td>\n",
       "      <td>DEPALLETIZER</td>\n",
       "      <td>NaN</td>\n",
       "      <td>NaT</td>\n",
       "    </tr>\n",
       "    <tr>\n",
       "      <th>916</th>\n",
       "      <td>G816-PRD-L15-L01-L080</td>\n",
       "      <td>COTA PRODUCTION</td>\n",
       "      <td>CAN LINE</td>\n",
       "      <td>LINE #1-CAN_LINE</td>\n",
       "      <td>FILLER</td>\n",
       "      <td>NaN</td>\n",
       "      <td>-4 days</td>\n",
       "    </tr>\n",
       "    <tr>\n",
       "      <th>1104137</th>\n",
       "      <td>G261-PRD-L30-L01-L030</td>\n",
       "      <td>SILVERSTONE PRODUCTION</td>\n",
       "      <td>LINES 1,2,9 - BOTTLE LINES</td>\n",
       "      <td>LINE #1 - ROT_BTL_PET</td>\n",
       "      <td>CONVEYOR</td>\n",
       "      <td>NaN</td>\n",
       "      <td>NaT</td>\n",
       "    </tr>\n",
       "    <tr>\n",
       "      <th>274530</th>\n",
       "      <td>G291-PRD-L30-L01-L130</td>\n",
       "      <td>MONZA PRODUCTION</td>\n",
       "      <td>BTL_PET_LINE</td>\n",
       "      <td>LINE #1 - FILLER_ROT_BTL_PET</td>\n",
       "      <td>PALLETIZER</td>\n",
       "      <td>NaN</td>\n",
       "      <td>0 days</td>\n",
       "    </tr>\n",
       "    <tr>\n",
       "      <th>929976</th>\n",
       "      <td>G816-PRD-L15-L01-L030</td>\n",
       "      <td>COTA PRODUCTION</td>\n",
       "      <td>CAN LINE</td>\n",
       "      <td>LINE #1-CAN_LINE</td>\n",
       "      <td>CONVEYOR</td>\n",
       "      <td>NaN</td>\n",
       "      <td>NaT</td>\n",
       "    </tr>\n",
       "    <tr>\n",
       "      <th>183049</th>\n",
       "      <td>G291-PRD-L30-L01-L030</td>\n",
       "      <td>MONZA PRODUCTION</td>\n",
       "      <td>BTL_PET_LINE</td>\n",
       "      <td>LINE #1 - FILLER_ROT_BTL_PET</td>\n",
       "      <td>CONVEYOR</td>\n",
       "      <td>NaN</td>\n",
       "      <td>0 days</td>\n",
       "    </tr>\n",
       "    <tr>\n",
       "      <th>666194</th>\n",
       "      <td>G812-PRD-L15-L01-L070</td>\n",
       "      <td>PRODUCTION</td>\n",
       "      <td>G812 PRD FILLER_ROTARY_CAN</td>\n",
       "      <td>G812 PRD FILLER_ROTARY_CAN LINE 1</td>\n",
       "      <td>DETECTOR, PRODUCT</td>\n",
       "      <td>NaN</td>\n",
       "      <td>NaT</td>\n",
       "    </tr>\n",
       "    <tr>\n",
       "      <th>709470</th>\n",
       "      <td>G221-PRD-L30-L01-L020</td>\n",
       "      <td>SUZUKA PRODUCTION</td>\n",
       "      <td>L1, L2, L6 PET BOTTLE LINES</td>\n",
       "      <td>LINE #1 - FILLER_ROT_BTL_PET</td>\n",
       "      <td>CODER</td>\n",
       "      <td>NaN</td>\n",
       "      <td>NaT</td>\n",
       "    </tr>\n",
       "    <tr>\n",
       "      <th>930284</th>\n",
       "      <td>G812-PRD-L15-L01-L080</td>\n",
       "      <td>PRODUCTION</td>\n",
       "      <td>G812 PRD FILLER_ROTARY_CAN</td>\n",
       "      <td>G812 PRD FILLER_ROTARY_CAN LINE 1</td>\n",
       "      <td>FILLER</td>\n",
       "      <td>NaN</td>\n",
       "      <td>NaT</td>\n",
       "    </tr>\n",
       "  </tbody>\n",
       "</table>\n",
       "</div>"
      ],
      "text/plain": [
       "                FUNCTIONAL_LOC FUNCTIONAL_AREA_NODE_1_MODIFIED  \\\n",
       "885095   G261-PRD-L30-L02-L010          SILVERSTONE PRODUCTION   \n",
       "317687   G261-PRD-L30-L01-L060          SILVERSTONE PRODUCTION   \n",
       "916      G816-PRD-L15-L01-L080                 COTA PRODUCTION   \n",
       "1104137  G261-PRD-L30-L01-L030          SILVERSTONE PRODUCTION   \n",
       "274530   G291-PRD-L30-L01-L130                MONZA PRODUCTION   \n",
       "929976   G816-PRD-L15-L01-L030                 COTA PRODUCTION   \n",
       "183049   G291-PRD-L30-L01-L030                MONZA PRODUCTION   \n",
       "666194   G812-PRD-L15-L01-L070                      PRODUCTION   \n",
       "709470   G221-PRD-L30-L01-L020               SUZUKA PRODUCTION   \n",
       "930284   G812-PRD-L15-L01-L080                      PRODUCTION   \n",
       "\n",
       "        FUNCTIONAL_AREA_NODE_2_MODIFIED    FUNCTIONAL_AREA_NODE_3_MODIFIED  \\\n",
       "885095       LINES 1,2,9 - BOTTLE LINES              LINE #2 - ROT_BTL_PET   \n",
       "317687       LINES 1,2,9 - BOTTLE LINES              LINE #1 - ROT_BTL_PET   \n",
       "916                            CAN LINE                   LINE #1-CAN_LINE   \n",
       "1104137      LINES 1,2,9 - BOTTLE LINES              LINE #1 - ROT_BTL_PET   \n",
       "274530                     BTL_PET_LINE       LINE #1 - FILLER_ROT_BTL_PET   \n",
       "929976                         CAN LINE                   LINE #1-CAN_LINE   \n",
       "183049                     BTL_PET_LINE       LINE #1 - FILLER_ROT_BTL_PET   \n",
       "666194       G812 PRD FILLER_ROTARY_CAN  G812 PRD FILLER_ROTARY_CAN LINE 1   \n",
       "709470      L1, L2, L6 PET BOTTLE LINES       LINE #1 - FILLER_ROT_BTL_PET   \n",
       "930284       G812 PRD FILLER_ROTARY_CAN  G812 PRD FILLER_ROTARY_CAN LINE 1   \n",
       "\n",
       "        FUNCTIONAL_AREA_NODE_4_MODIFIED FUNCTIONAL_AREA_NODE_5_MODIFIED  \\\n",
       "885095                           CAPPER                             NaN   \n",
       "317687                     DEPALLETIZER                             NaN   \n",
       "916                              FILLER                             NaN   \n",
       "1104137                        CONVEYOR                             NaN   \n",
       "274530                       PALLETIZER                             NaN   \n",
       "929976                         CONVEYOR                             NaN   \n",
       "183049                         CONVEYOR                             NaN   \n",
       "666194                DETECTOR, PRODUCT                             NaN   \n",
       "709470                            CODER                             NaN   \n",
       "930284                           FILLER                             NaN   \n",
       "\n",
       "        B_FUNCTIONAL_DURATION  \n",
       "885095                    NaT  \n",
       "317687                    NaT  \n",
       "916                   -4 days  \n",
       "1104137                   NaT  \n",
       "274530                 0 days  \n",
       "929976                    NaT  \n",
       "183049                 0 days  \n",
       "666194                    NaT  \n",
       "709470                    NaT  \n",
       "930284                    NaT  "
      ]
     },
     "execution_count": 150,
     "metadata": {},
     "output_type": "execute_result"
    }
   ],
   "source": [
    "# L01 = Line #1\n",
    "df.loc[df['FUNCTIONAL_LOC'].str.contains('L01', na=False), df.columns[df.columns.str.contains('FUNCTIONAL')]].sample(10)"
   ]
  },
  {
   "cell_type": "code",
   "execution_count": 151,
   "metadata": {
    "colab": {
     "base_uri": "https://localhost:8080/",
     "height": 363
    },
    "id": "2B-r8jkH2pC2",
    "outputId": "046a2ce8-54f0-46ab-af8b-80d3413d7ec2"
   },
   "outputs": [
    {
     "data": {
      "text/html": [
       "<div>\n",
       "<style scoped>\n",
       "    .dataframe tbody tr th:only-of-type {\n",
       "        vertical-align: middle;\n",
       "    }\n",
       "\n",
       "    .dataframe tbody tr th {\n",
       "        vertical-align: top;\n",
       "    }\n",
       "\n",
       "    .dataframe thead th {\n",
       "        text-align: right;\n",
       "    }\n",
       "</style>\n",
       "<table border=\"1\" class=\"dataframe\">\n",
       "  <thead>\n",
       "    <tr style=\"text-align: right;\">\n",
       "      <th></th>\n",
       "      <th>FUNCTIONAL_LOC</th>\n",
       "      <th>FUNCTIONAL_AREA_NODE_1_MODIFIED</th>\n",
       "      <th>FUNCTIONAL_AREA_NODE_2_MODIFIED</th>\n",
       "      <th>FUNCTIONAL_AREA_NODE_3_MODIFIED</th>\n",
       "      <th>FUNCTIONAL_AREA_NODE_4_MODIFIED</th>\n",
       "      <th>FUNCTIONAL_AREA_NODE_5_MODIFIED</th>\n",
       "      <th>B_FUNCTIONAL_DURATION</th>\n",
       "    </tr>\n",
       "  </thead>\n",
       "  <tbody>\n",
       "    <tr>\n",
       "      <th>272881</th>\n",
       "      <td>G261-PRD-L15-L03-L080</td>\n",
       "      <td>SILVERSTONE PRODUCTION</td>\n",
       "      <td>LINES 3,4,10 - CAN LINES</td>\n",
       "      <td>LINE #3-FILLER_ROTARY_CAN</td>\n",
       "      <td>FILLER</td>\n",
       "      <td>NaN</td>\n",
       "      <td>NaT</td>\n",
       "    </tr>\n",
       "    <tr>\n",
       "      <th>928696</th>\n",
       "      <td>G261-PRD-L15-L04-L080</td>\n",
       "      <td>SILVERSTONE PRODUCTION</td>\n",
       "      <td>LINES 3,4,10 - CAN LINES</td>\n",
       "      <td>LINE #4-FILLER_ROTARY_CAN</td>\n",
       "      <td>FILLER</td>\n",
       "      <td>NaN</td>\n",
       "      <td>NaT</td>\n",
       "    </tr>\n",
       "    <tr>\n",
       "      <th>136207</th>\n",
       "      <td>G812-PRD-L30-L02-L080</td>\n",
       "      <td>PRODUCTION</td>\n",
       "      <td>G812 PRD FILLER_ROT_BTL_PET</td>\n",
       "      <td>G812 PRD FILLER_ROT_BTL_PET LINE 2</td>\n",
       "      <td>FILLER</td>\n",
       "      <td>NaN</td>\n",
       "      <td>NaT</td>\n",
       "    </tr>\n",
       "    <tr>\n",
       "      <th>885480</th>\n",
       "      <td>G812-PRD-L15-L01-L080</td>\n",
       "      <td>PRODUCTION</td>\n",
       "      <td>G812 PRD FILLER_ROTARY_CAN</td>\n",
       "      <td>G812 PRD FILLER_ROTARY_CAN LINE 1</td>\n",
       "      <td>FILLER</td>\n",
       "      <td>NaN</td>\n",
       "      <td>NaT</td>\n",
       "    </tr>\n",
       "    <tr>\n",
       "      <th>537981</th>\n",
       "      <td>G291-PRD-L30-L03-L080</td>\n",
       "      <td>MONZA PRODUCTION</td>\n",
       "      <td>BTL_PET_LINE</td>\n",
       "      <td>LINE #3 - FILLER_ROT_BTL_PET</td>\n",
       "      <td>FILLER</td>\n",
       "      <td>NaN</td>\n",
       "      <td>1888 days</td>\n",
       "    </tr>\n",
       "    <tr>\n",
       "      <th>1424575</th>\n",
       "      <td>G811-PRD-L30-L03-L080</td>\n",
       "      <td>PRODUCTION</td>\n",
       "      <td>LINE 2,3 PET BOTTLE LINES</td>\n",
       "      <td>LINE 3 SMALL PET</td>\n",
       "      <td>FILLER</td>\n",
       "      <td>NaN</td>\n",
       "      <td>NaT</td>\n",
       "    </tr>\n",
       "    <tr>\n",
       "      <th>363675</th>\n",
       "      <td>G261-PRD-L30-L02-L080</td>\n",
       "      <td>SILVERSTONE PRODUCTION</td>\n",
       "      <td>LINES 1,2,9 - BOTTLE LINES</td>\n",
       "      <td>LINE #2 - ROT_BTL_PET</td>\n",
       "      <td>FILLER</td>\n",
       "      <td>NaN</td>\n",
       "      <td>17 days</td>\n",
       "    </tr>\n",
       "    <tr>\n",
       "      <th>935047</th>\n",
       "      <td>G291-PRD-L30-L01-L080</td>\n",
       "      <td>MONZA PRODUCTION</td>\n",
       "      <td>BTL_PET_LINE</td>\n",
       "      <td>LINE #1 - FILLER_ROT_BTL_PET</td>\n",
       "      <td>FILLER</td>\n",
       "      <td>NaN</td>\n",
       "      <td>0 days</td>\n",
       "    </tr>\n",
       "    <tr>\n",
       "      <th>267770</th>\n",
       "      <td>G221-PRD-L15-L04-L080</td>\n",
       "      <td>SUZUKA PRODUCTION</td>\n",
       "      <td>L4 - FILLER_ROTARY_CAN</td>\n",
       "      <td>LINE #4-FILLER_ROTARY_CAN</td>\n",
       "      <td>FILLER</td>\n",
       "      <td>NaN</td>\n",
       "      <td>NaT</td>\n",
       "    </tr>\n",
       "    <tr>\n",
       "      <th>405048</th>\n",
       "      <td>G221-PRD-L30-L02-L080</td>\n",
       "      <td>SUZUKA PRODUCTION</td>\n",
       "      <td>L1, L2, L6 PET BOTTLE LINES</td>\n",
       "      <td>LINE #2 - FILLER_ROT_BTL_PET</td>\n",
       "      <td>FILLER</td>\n",
       "      <td>NaN</td>\n",
       "      <td>NaT</td>\n",
       "    </tr>\n",
       "  </tbody>\n",
       "</table>\n",
       "</div>"
      ],
      "text/plain": [
       "                FUNCTIONAL_LOC FUNCTIONAL_AREA_NODE_1_MODIFIED  \\\n",
       "272881   G261-PRD-L15-L03-L080          SILVERSTONE PRODUCTION   \n",
       "928696   G261-PRD-L15-L04-L080          SILVERSTONE PRODUCTION   \n",
       "136207   G812-PRD-L30-L02-L080                      PRODUCTION   \n",
       "885480   G812-PRD-L15-L01-L080                      PRODUCTION   \n",
       "537981   G291-PRD-L30-L03-L080                MONZA PRODUCTION   \n",
       "1424575  G811-PRD-L30-L03-L080                      PRODUCTION   \n",
       "363675   G261-PRD-L30-L02-L080          SILVERSTONE PRODUCTION   \n",
       "935047   G291-PRD-L30-L01-L080                MONZA PRODUCTION   \n",
       "267770   G221-PRD-L15-L04-L080               SUZUKA PRODUCTION   \n",
       "405048   G221-PRD-L30-L02-L080               SUZUKA PRODUCTION   \n",
       "\n",
       "        FUNCTIONAL_AREA_NODE_2_MODIFIED     FUNCTIONAL_AREA_NODE_3_MODIFIED  \\\n",
       "272881         LINES 3,4,10 - CAN LINES           LINE #3-FILLER_ROTARY_CAN   \n",
       "928696         LINES 3,4,10 - CAN LINES           LINE #4-FILLER_ROTARY_CAN   \n",
       "136207      G812 PRD FILLER_ROT_BTL_PET  G812 PRD FILLER_ROT_BTL_PET LINE 2   \n",
       "885480       G812 PRD FILLER_ROTARY_CAN   G812 PRD FILLER_ROTARY_CAN LINE 1   \n",
       "537981                     BTL_PET_LINE        LINE #3 - FILLER_ROT_BTL_PET   \n",
       "1424575       LINE 2,3 PET BOTTLE LINES                    LINE 3 SMALL PET   \n",
       "363675       LINES 1,2,9 - BOTTLE LINES               LINE #2 - ROT_BTL_PET   \n",
       "935047                     BTL_PET_LINE        LINE #1 - FILLER_ROT_BTL_PET   \n",
       "267770           L4 - FILLER_ROTARY_CAN           LINE #4-FILLER_ROTARY_CAN   \n",
       "405048      L1, L2, L6 PET BOTTLE LINES        LINE #2 - FILLER_ROT_BTL_PET   \n",
       "\n",
       "        FUNCTIONAL_AREA_NODE_4_MODIFIED FUNCTIONAL_AREA_NODE_5_MODIFIED  \\\n",
       "272881                           FILLER                             NaN   \n",
       "928696                           FILLER                             NaN   \n",
       "136207                           FILLER                             NaN   \n",
       "885480                           FILLER                             NaN   \n",
       "537981                           FILLER                             NaN   \n",
       "1424575                          FILLER                             NaN   \n",
       "363675                           FILLER                             NaN   \n",
       "935047                           FILLER                             NaN   \n",
       "267770                           FILLER                             NaN   \n",
       "405048                           FILLER                             NaN   \n",
       "\n",
       "        B_FUNCTIONAL_DURATION  \n",
       "272881                    NaT  \n",
       "928696                    NaT  \n",
       "136207                    NaT  \n",
       "885480                    NaT  \n",
       "537981              1888 days  \n",
       "1424575                   NaT  \n",
       "363675                17 days  \n",
       "935047                 0 days  \n",
       "267770                    NaT  \n",
       "405048                    NaT  "
      ]
     },
     "execution_count": 151,
     "metadata": {},
     "output_type": "execute_result"
    }
   ],
   "source": [
    "# L080 = FILLER\n",
    "df.loc[df['FUNCTIONAL_LOC'].str.contains('L080', na=False), df.columns[df.columns.str.contains('FUNCTIONAL')]].sample(10)"
   ]
  },
  {
   "cell_type": "markdown",
   "metadata": {},
   "source": [
    "It highlights the most commonly affected areas topping the list. This helps identify which specific plant regions and equipment are most prone to issues, allowing targeted improvements in those areas. The overwhelming majority of maintenance issues are reactive and take significantly longer to resolve than planned interventions. Additionally, the location code analysis provides further insights into the most vulnerable components within the manufacturing process, helping prioritize maintenance efforts where they are needed most."
   ]
  },
  {
   "cell_type": "markdown",
   "metadata": {
    "id": "rzn1p4MPsey5"
   },
   "source": [
    "### Machine (Functional area node #4) distribution <a id = 'scrollTo=agdhjgah'></a>"
   ]
  },
  {
   "cell_type": "code",
   "execution_count": 152,
   "metadata": {
    "colab": {
     "base_uri": "https://localhost:8080/",
     "height": 429
    },
    "id": "HhXx9rp7q_wv",
    "outputId": "488db107-69d5-4b88-fe37-18dde3e396d2"
   },
   "outputs": [
    {
     "data": {
      "text/plain": [
       "FUNCTIONAL_AREA_NODE_4_MODIFIED\n",
       "FILLER               46322\n",
       "PACKER               35230\n",
       "CONVEYOR             34765\n",
       "LABELER              18945\n",
       "PALLETIZER           16239\n",
       "DEPALLETIZER         10850\n",
       "DETECTOR, PRODUCT     9404\n",
       "SEAMER, ROTARY        8510\n",
       "CAPPER                8350\n",
       "WARMER_COOLER         7686\n",
       "Name: count, dtype: int64"
      ]
     },
     "execution_count": 152,
     "metadata": {},
     "output_type": "execute_result"
    }
   ],
   "source": [
    "df['FUNCTIONAL_AREA_NODE_4_MODIFIED'].value_counts().sort_values(ascending=False).head(10)"
   ]
  },
  {
   "cell_type": "code",
   "execution_count": 153,
   "metadata": {
    "colab": {
     "base_uri": "https://localhost:8080/",
     "height": 429
    },
    "id": "vg9a6EF1rS36",
    "outputId": "678b3836-dc6d-4a46-880e-23607c5e4639",
    "scrolled": true
   },
   "outputs": [
    {
     "data": {
      "text/plain": [
       "FUNCTIONAL_AREA_NODE_4_MODIFIED\n",
       "FILLER               19.498007\n",
       "PACKER               14.829126\n",
       "CONVEYOR             14.633397\n",
       "LABELER               7.974391\n",
       "PALLETIZER            6.835373\n",
       "DEPALLETIZER          4.567017\n",
       "DETECTOR, PRODUCT     3.958362\n",
       "SEAMER, ROTARY        3.582057\n",
       "CAPPER                3.514709\n",
       "WARMER_COOLER         3.235216\n",
       "Name: count, dtype: float64"
      ]
     },
     "execution_count": 153,
     "metadata": {},
     "output_type": "execute_result"
    }
   ],
   "source": [
    "(df['FUNCTIONAL_AREA_NODE_4_MODIFIED'].value_counts()/len(df['FUNCTIONAL_AREA_NODE_4_MODIFIED'].dropna()) * 100).sort_values(ascending=False).head(10)"
   ]
  },
  {
   "cell_type": "code",
   "execution_count": 193,
   "metadata": {
    "colab": {
     "base_uri": "https://localhost:8080/",
     "height": 744
    },
    "id": "0s7mnLQQ3oHl",
    "outputId": "71bdfcee-9314-464f-8d3a-5ecc815e040c",
    "scrolled": true
   },
   "outputs": [
    {
     "data": {
      "text/plain": [
       "Text(0, 0.5, 'Frequency')"
      ]
     },
     "execution_count": 193,
     "metadata": {},
     "output_type": "execute_result"
    },
    {
     "data": {
      "image/png": "[encoded data removed]",
      "text/plain": [
       "<Figure size 800x400 with 1 Axes>"
      ]
     },
     "metadata": {},
     "output_type": "display_data"
    }
   ],
   "source": [
    "# Plotting the distribution of FUNCTIONAL_AREA_NODE_4_MODIFIED\n",
    "plt.figure(figsize=(8, 4))\n",
    "sns.barplot(x=df['FUNCTIONAL_AREA_NODE_4_MODIFIED'].value_counts().sort_values(ascending=False).head(10).index, y=df['FUNCTIONAL_AREA_NODE_4_MODIFIED'].value_counts().sort_values(ascending=False).head(10))\n",
    "plt.xticks(rotation=45)\n",
    "plt.title('Distribution of Functional Area Node 4 Modified')\n",
    "plt.xlabel('Functional Area Node 4 Modified')\n",
    "plt.ylabel('Frequency')"
   ]
  },
  {
   "cell_type": "code",
   "execution_count": 155,
   "metadata": {
    "colab": {
     "base_uri": "https://localhost:8080/",
     "height": 429
    },
    "id": "KQ1POLmNsdrs",
    "outputId": "8f3dadb3-a436-4636-8de2-d3dfb5f824ee"
   },
   "outputs": [
    {
     "data": {
      "text/plain": [
       "PRODUCTION_LOCATION  FUNCTIONAL_AREA_NODE_4_MODIFIED\n",
       "COTA                 FILLER                             14261\n",
       "                     CONVEYOR                           11999\n",
       "SILVERSTONE          FILLER                              9710\n",
       "MONZA                FILLER                              9049\n",
       "COTA                 PACKER                              8428\n",
       "SILVERSTONE          PACKER                              8287\n",
       "                     CONVEYOR                            8160\n",
       "MONZA                CONVEYOR                            7724\n",
       "SUZUKA               PACKER                              6852\n",
       "                     FILLER                              6269\n",
       "Name: count, dtype: int64"
      ]
     },
     "execution_count": 155,
     "metadata": {},
     "output_type": "execute_result"
    }
   ],
   "source": [
    "df.groupby('PRODUCTION_LOCATION')['FUNCTIONAL_AREA_NODE_4_MODIFIED'].value_counts().sort_values(ascending=False).head(10)"
   ]
  },
  {
   "cell_type": "markdown",
   "metadata": {},
   "source": [
    "The chart highlights the most common functional areas where maintenance issues occur, with \"FILLER\" taking the lead, followed by  \"PACKER\" and \"CONVEYOR\". These three components account for the majority of maintenance activities, each contributing significantly to overall downtime. It suggests these components may either experience more wear and tear or are critical points in the production process. This insight could guide efforts to prioritize maintenance strategies, focusing on these areas to minimize disruptions."
   ]
  },
  {
   "cell_type": "markdown",
   "metadata": {
    "id": "R3gHY1NngEl7"
   },
   "source": [
    "### Unplanned maintenance orders <a id = 'scrollTo=R3gHY1NngEl7'></a>"
   ]
  },
  {
   "cell_type": "code",
   "execution_count": 156,
   "metadata": {
    "colab": {
     "base_uri": "https://localhost:8080/",
     "height": 304
    },
    "id": "RSnkC3btY7rP",
    "outputId": "bb89c3d4-70b8-41a9-aa62-8fcfb74bd65f"
   },
   "outputs": [
    {
     "data": {
      "text/plain": [
       "PRODUCTION_LOCATION\n",
       "SILVERSTONE    603094\n",
       "SUZUKA         272765\n",
       "MONZA          176621\n",
       "COTA            89965\n",
       "MONACO          76544\n",
       "ROMA            57888\n",
       "Name: count, dtype: int64"
      ]
     },
     "execution_count": 156,
     "metadata": {},
     "output_type": "execute_result"
    }
   ],
   "source": [
    "# Unplanned maintainance case per production location distribution\n",
    "df.loc[df.MAINTENANCE_ACTIVITY_TYPE == 'Unplanned', 'PRODUCTION_LOCATION'].value_counts().sort_values(ascending=False)"
   ]
  },
  {
   "cell_type": "code",
   "execution_count": 157,
   "metadata": {
    "colab": {
     "base_uri": "https://localhost:8080/",
     "height": 304
    },
    "id": "x2307KNYgQ-E",
    "outputId": "10565e4f-2623-411f-ef80-cb2e92e03672"
   },
   "outputs": [
    {
     "data": {
      "text/plain": [
       "PRODUCTION_LOCATION\n",
       "SILVERSTONE    0.955922\n",
       "SUZUKA         0.937417\n",
       "MONZA          0.784010\n",
       "COTA           0.773540\n",
       "MONACO         0.903771\n",
       "ROMA           0.731741\n",
       "Name: count, dtype: float64"
      ]
     },
     "execution_count": 157,
     "metadata": {},
     "output_type": "execute_result"
    }
   ],
   "source": [
    "# Unplanned maintainance proportion per production location distribution\n",
    "df.loc[df.MAINTENANCE_ACTIVITY_TYPE == 'Unplanned', 'PRODUCTION_LOCATION'].value_counts() / df['PRODUCTION_LOCATION'].value_counts()"
   ]
  },
  {
   "cell_type": "code",
   "execution_count": 158,
   "metadata": {
    "colab": {
     "base_uri": "https://localhost:8080/",
     "height": 304
    },
    "id": "6YrJM43ycDix",
    "outputId": "9fbf0155-38de-41f2-dc8a-45650fc52b03"
   },
   "outputs": [
    {
     "data": {
      "text/plain": [
       "PRODUCTION_LOCATION\n",
       "SUZUKA         63.0\n",
       "MONZA          55.0\n",
       "SILVERSTONE    55.0\n",
       "COTA           30.0\n",
       "MONACO          0.0\n",
       "ROMA            0.0\n",
       "Name: ACTUAL_WORK_IN_MINUTES, dtype: float64"
      ]
     },
     "execution_count": 158,
     "metadata": {},
     "output_type": "execute_result"
    }
   ],
   "source": [
    "# Unplanned maintainance working time per production location distribution\n",
    "df.loc[df.MAINTENANCE_ACTIVITY_TYPE == 'Unplanned'].groupby('PRODUCTION_LOCATION')['ACTUAL_WORK_IN_MINUTES'].median().sort_values(ascending=False)"
   ]
  },
  {
   "cell_type": "markdown",
   "metadata": {},
   "source": [
    "The distribution of unplanned maintenance orders by location reveals that Silverstone leads with the most unplanned maintenance cases (603,094), followed by Suzuka (272,765), and Monza (176,621). In terms of proportion, nearly 96% of maintenance in Silverstone and 94% in Suzuka is unplanned, while other locations like Roma and Monaco have a lower percentage of unplanned tasks. The high percentage of unplanned maintenance in Silverstone and Suzuka suggests these plants might rely more on reactive maintenance strategies. The median repair times in Suzuka (63 minutes) and Silverstone (55 minutes) also reflect the complexity or criticality of their breakdowns."
   ]
  },
  {
   "cell_type": "markdown",
   "metadata": {
    "id": "piKhHRxmo5Qq"
   },
   "source": [
    "### Order Description <a id = 'scrollTo=piKhHRxmo5Qq'></a>"
   ]
  },
  {
   "cell_type": "code",
   "execution_count": 159,
   "metadata": {
    "colab": {
     "base_uri": "https://localhost:8080/",
     "height": 459
    },
    "id": "puajkzadc-jl",
    "outputId": "4857fe68-e0f6-4dcf-cdb5-aa8e8cf2ea8f"
   },
   "outputs": [
    {
     "data": {
      "text/plain": [
       "0          L2 GEARBOX LEAK (SEE ATTACHED)\n",
       "1            LINE 3 CONVEYOR AT CAN CODER\n",
       "2                    BROKEN CONVEYOR RAIL\n",
       "3                         LINE 3 CONVEYOR\n",
       "4          REPLACED SONIC AIR BLOWER BELT\n",
       "                        ...              \n",
       "1427259                            DTRINE\n",
       "1427260                            DTRINE\n",
       "1427261                            DTRINE\n",
       "1427262        FEED ROLLER BAD,  REPLACED\n",
       "1427263                            WTRINE\n",
       "Name: ORDER_DESCRIPTION, Length: 1427264, dtype: object"
      ]
     },
     "execution_count": 159,
     "metadata": {},
     "output_type": "execute_result"
    }
   ],
   "source": [
    "df['ORDER_DESCRIPTION']"
   ]
  },
  {
   "cell_type": "code",
   "execution_count": 160,
   "metadata": {
    "colab": {
     "base_uri": "https://localhost:8080/",
     "height": 711
    },
    "id": "C-3CRckKpsQP",
    "outputId": "1930e62b-6d74-4fb0-cf11-dfcc6ea7e520"
   },
   "outputs": [
    {
     "data": {
      "text/plain": [
       "FOR          74266\n",
       "WHILE        48313\n",
       "MECH         39501\n",
       "SHUTDOWN     24522\n",
       "LUB          18260\n",
       "ON           17744\n",
       "AND          16240\n",
       "TO           16178\n",
       "LINE         15645\n",
       "THE          15478\n",
       "FILLER       15003\n",
       "MONTHLY      14684\n",
       "L1           13769\n",
       "REPLACED     13402\n",
       "CAN          12787\n",
       "CONVEYOR     12765\n",
       "             12474\n",
       "L2           12082\n",
       "PM           11504\n",
       "OPERATING    10099\n",
       "Name: count, dtype: int64"
      ]
     },
     "execution_count": 160,
     "metadata": {},
     "output_type": "execute_result"
    }
   ],
   "source": [
    "# Most commonly occuring words in the order description\n",
    "desc_text = df['ORDER_DESCRIPTION'].str.cat(sep=' ')\n",
    "desc_words = desc_text.split(' ')\n",
    "pd.Series(desc_words).value_counts().sort_values(ascending = False).head(20)"
   ]
  },
  {
   "cell_type": "code",
   "execution_count": 161,
   "metadata": {
    "colab": {
     "base_uri": "https://localhost:8080/",
     "height": 330
    },
    "id": "ebghU0I2b3Y1",
    "outputId": "4a103ad0-cdc5-4e80-ec5a-ca36fe1cfd5b"
   },
   "outputs": [
    {
     "data": {
      "text/plain": [
       "<matplotlib.image.AxesImage at 0x1e480c3fd50>"
      ]
     },
     "execution_count": 161,
     "metadata": {},
     "output_type": "execute_result"
    },
    {
     "data": {
      "image/png": "[encoded data removed]",
      "text/plain": [
       "<Figure size 640x480 with 1 Axes>"
      ]
     },
     "metadata": {},
     "output_type": "display_data"
    }
   ],
   "source": [
    "# Word cloud visualizing the above\n",
    "desc_text = df['ORDER_DESCRIPTION'].str.cat(sep=' ')\n",
    "\n",
    "wc = WordCloud(background_color='white', colormap = 'binary').generate(desc_text)\n",
    "plt.imshow(wc)"
   ]
  },
  {
   "cell_type": "markdown",
   "metadata": {},
   "source": [
    "The word cloud for the Order Description reveals common terms related to maintenance activities. Prominent words like \"MECH,\" \"SHUTDOWN,\" \"REPLACED,\" etc. indicate the frequent nature of mechanical issues and shutdowns that require part replacements. Terms like \"CONVEYOR,\" \"FILLER,\" and specific line identifiers (e.g., \"L1,\" \"L2\") highlight the equipment and locations most often associated with maintenance orders. It supports the idea that certain areas, such as line maintenance, require more attention and potentially preventive measures"
   ]
  },
  {
   "cell_type": "markdown",
   "metadata": {
    "id": "uEltcAiqmOmB"
   },
   "source": [
    "## Summary <a id = 'scrollTo=uEltcAiqmOmB'></a>\n",
    "\n",
    "- Filler, Packer and Conveyor problems are 3 main causes for trackable maintanence issues, which takes almost 50% of 237,573 cases.\n",
    "<br></br>\n",
    "- August recorded the highest maintenance activity with 135,921 cases, followed by May (126,257) and June (124,373). This surge in summer, along with holiday periods, indicates machines are under stress during peak production seasons. Managing equipment load during these periods can reduce wear and tear.\n",
    "<br></br>\n",
    "- Maintenance issues decline significantly over the weekend, with Saturday and Sunday reporting the lowest activities at 95,907 and 70,692 respectively.This trend may be attributed to lower production activity or fewer maintenance personnel, causing issues to accumulate and be addressed on weekdays.\n",
    "<br></br>\n",
    "- 89.46% of maintenance activities are unplanned, highlighting a reactive approach in addressing equipment failures. Planned maintenance only accounts for 10.54%, emphasizing the need for a shift towards preventive maintenance strategies.\n",
    "<br></br>\n",
    "- On average, unplanned tasks take 93.41 minutes, nearly double the time it takes for planned tasks (48.03 minutes). The median repair time also shows a significant difference, with unplanned tasks requiring 52 minutes versus 30 minutes for planned tasks. This suggests that addressing issues reactively leads to longer downtimes.\n",
    "<br></br>\n",
    "- Suzuka has the longest median downtime at 60 minutes, followed by Silverstone at 54 minutes. Both plants exceed the 48-minute benchmark (median time across all locations). In contrast, Monaco and Roma have much shorter median downtimes at 3.6 minutes and 18 minutes, respectively, suggesting that machines in these plants might have fewer complex breakdowns or more effective maintenance practices.\n",
    "<br></br>\n",
    "- While the median work time is 48 minutes, the average work time is skewed to 88.63 minutes due to extreme outliers. The longest maintenance task recorded took 330,184.8 minutes (around 229 days), indicating that rare but significant disruptions exist. These might be caused by a combination of severe machine breakdowns and delays in procuring replacement parts or equipment, hinting at inventory-related challenges.\n",
    "<br></br>\n",
    "- By implementing predictive analytics, the company can proactively detect machine degradation or early signs of failure, allowing for timely intervention. This would reduce the reliance on unplanned maintenance, lowering the average downtime and repair costs while increasing machine uptime.\n",
    "<br></br>\n",
    "- Silverstone leads with 603,094 unplanned tasks (approximately 95.6% of its maintenance), followed by Suzuka with 272,765 unplanned tasks (93.7%). Monza has 176,621 unplanned tasks, representing 78.4% of its maintenance activities. Addressing the root causes of unplanned tasks at these locations could reduce the burden on maintenance teams.\n",
    "<br></br>\n",
    "- Filler machines alone account for 46,322 cases, representing 19.5% of all maintenance activities, followed by Packer with 35,230 cases (14.8%) and Conveyor with 34,765 cases (14.6%). These areas are clearly the most problematic and could benefit from targeted interventions such as routine inspections, part replacements, or technological upgrades to reduce their frequency of breakdowns. \n",
    "<br></br>\n",
    "- These data-driven insights point to several actionable steps, such as increasing the focus on preventive maintenance, implementing predictive analytics, and prioritizing the most vulnerable machines (Filler, Packer, and Conveyor) to enhance overall operational efficiency and reduce downtime."
   ]
  },
  {
   "cell_type": "markdown",
   "metadata": {},
   "source": [
    "## Group Member Contribution <a id = 'scrollTo=gmc'></a>"
   ]
  },
  {
   "cell_type": "markdown",
   "metadata": {},
   "source": [
    "- **Richard Lim**: Data Cleaning, preprocessing and EDA\n",
    "- **Anusha Vivekanand**: Refining the Visualization and TOC\n",
    "- **Ketki Abhay Kulkarni**: Final Report and Result Summary\n",
    "- **Vedika Garg**: Interpretative comments and Structuring the File"
   ]
  }
 ],
 "metadata": {
  "colab": {
   "provenance": []
  },
  "kernelspec": {
   "display_name": "Python 3 (ipykernel)",
   "language": "python",
   "name": "python3"
  },
  "language_info": {
   "codemirror_mode": {
    "name": "ipython",
    "version": 3
   },
   "file_extension": ".py",
   "mimetype": "text/x-python",
   "name": "python",
   "nbconvert_exporter": "python",
   "pygments_lexer": "ipython3",
   "version": "3.11.5"
  }
 },
 "nbformat": 4,
 "nbformat_minor": 1
}
